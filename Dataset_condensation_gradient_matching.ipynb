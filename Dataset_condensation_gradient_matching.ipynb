{
 "cells": [
  {
   "cell_type": "code",
   "execution_count": 1,
   "metadata": {
    "_cell_guid": "b1076dfc-b9ad-4769-8c92-a6c4dae69d19",
    "_uuid": "8f2839f25d086af736a60e9eeb907d3b93b6e0e5",
    "execution": {
     "iopub.execute_input": "2025-01-14T08:00:16.717215Z",
     "iopub.status.busy": "2025-01-14T08:00:16.716962Z",
     "iopub.status.idle": "2025-01-14T08:00:17.031159Z",
     "shell.execute_reply": "2025-01-14T08:00:17.030231Z",
     "shell.execute_reply.started": "2025-01-14T08:00:16.717190Z"
    },
    "trusted": true
   },
   "outputs": [
    {
     "name": "stdout",
     "output_type": "stream",
     "text": [
      "/kaggle/input/unsw-dataset/UNSW-NB15_1.csv\n",
      "/kaggle/input/unsw-dataset/UNSW-NB15_4.csv\n",
      "/kaggle/input/unsw-dataset/UNSW-NB15_3.csv\n",
      "/kaggle/input/unsw-dataset/UNSW-NB15_2.csv\n",
      "/kaggle/input/unsw-features/UNSW_NB15_features.csv\n"
     ]
    }
   ],
   "source": [
    "# This Python 3 environment comes with many helpful analytics libraries installed\n",
    "# It is defined by the kaggle/python Docker image: https://github.com/kaggle/docker-python\n",
    "# For example, here's several helpful packages to load\n",
    "\n",
    "import numpy as np # linear algebra\n",
    "import pandas as pd # data processing, CSV file I/O (e.g. pd.read_csv)\n",
    "\n",
    "# Input data files are available in the read-only \"../input/\" directory\n",
    "# For example, running this (by clicking run or pressing Shift+Enter) will list all files under the input directory\n",
    "\n",
    "import os\n",
    "for dirname, _, filenames in os.walk('/kaggle/input'):\n",
    "    for filename in filenames:\n",
    "        print(os.path.join(dirname, filename))\n",
    "\n",
    "# You can write up to 20GB to the current directory (/kaggle/working/) that gets preserved as output when you create a version using \"Save & Run All\" \n",
    "# You can also write temporary files to /kaggle/temp/, but they won't be saved outside of the current session"
   ]
  },
  {
   "cell_type": "code",
   "execution_count": null,
   "metadata": {
    "trusted": true
   },
   "outputs": [],
   "source": []
  },
  {
   "cell_type": "code",
   "execution_count": null,
   "metadata": {
    "trusted": true
   },
   "outputs": [],
   "source": []
  },
  {
   "cell_type": "code",
   "execution_count": 2,
   "metadata": {
    "execution": {
     "iopub.execute_input": "2025-01-14T08:00:17.033279Z",
     "iopub.status.busy": "2025-01-14T08:00:17.032968Z",
     "iopub.status.idle": "2025-01-14T08:00:21.955876Z",
     "shell.execute_reply": "2025-01-14T08:00:21.954974Z",
     "shell.execute_reply.started": "2025-01-14T08:00:17.033254Z"
    },
    "trusted": true
   },
   "outputs": [],
   "source": [
    "import numpy as np\n",
    "import pandas as pd\n",
    "\n",
    "import seaborn as sns\n",
    "import matplotlib.pyplot as plt\n",
    "\n",
    "import pickle \n",
    "from os import path\n",
    "\n",
    "from sklearn.preprocessing import MinMaxScaler\n",
    "from sklearn.preprocessing import StandardScaler\n",
    "from sklearn.preprocessing import LabelEncoder\n",
    "\n",
    "from sklearn import metrics\n",
    "from sklearn import preprocessing\n",
    "from sklearn.metrics import accuracy_score\n",
    "from sklearn.model_selection import train_test_split \n",
    "from sklearn.metrics import classification_report\n",
    "\n",
    "from sklearn.svm import SVC\n",
    "from sklearn.linear_model import LinearRegression\n",
    "from sklearn.linear_model import LogisticRegression\n",
    "from sklearn.tree import DecisionTreeClassifier\n",
    "from sklearn.ensemble import RandomForestClassifier\n",
    "from sklearn.neighbors import KNeighborsClassifier\n",
    "from sklearn.neural_network import MLPClassifier\n",
    "\n",
    "\n",
    "import ipaddress\n",
    "import hashlib\n",
    "from sklearn.cluster import KMeans\n",
    "from numpy.random import laplace\n",
    "import torch\n",
    "import pandas as pd\n",
    "import numpy as np\n"
   ]
  },
  {
   "cell_type": "code",
   "execution_count": 3,
   "metadata": {
    "execution": {
     "iopub.execute_input": "2025-01-14T08:00:21.957367Z",
     "iopub.status.busy": "2025-01-14T08:00:21.956977Z",
     "iopub.status.idle": "2025-01-14T08:00:38.677879Z",
     "shell.execute_reply": "2025-01-14T08:00:38.676851Z",
     "shell.execute_reply.started": "2025-01-14T08:00:21.957336Z"
    },
    "trusted": true
   },
   "outputs": [
    {
     "name": "stderr",
     "output_type": "stream",
     "text": [
      "/tmp/ipykernel_30/129877545.py:4: DtypeWarning: Columns (1,3,47) have mixed types. Specify dtype option on import or set low_memory=False.\n",
      "  data_df1 = pd.read_csv('/kaggle/input/unsw-dataset/UNSW-NB15_1.csv', header=None)\n",
      "/tmp/ipykernel_30/129877545.py:5: DtypeWarning: Columns (3,39,47) have mixed types. Specify dtype option on import or set low_memory=False.\n",
      "  data_df2 = pd.read_csv('/kaggle/input/unsw-dataset/UNSW-NB15_2.csv', header=None)\n"
     ]
    },
    {
     "data": {
      "text/html": [
       "<div>\n",
       "<style scoped>\n",
       "    .dataframe tbody tr th:only-of-type {\n",
       "        vertical-align: middle;\n",
       "    }\n",
       "\n",
       "    .dataframe tbody tr th {\n",
       "        vertical-align: top;\n",
       "    }\n",
       "\n",
       "    .dataframe thead th {\n",
       "        text-align: right;\n",
       "    }\n",
       "</style>\n",
       "<table border=\"1\" class=\"dataframe\">\n",
       "  <thead>\n",
       "    <tr style=\"text-align: right;\">\n",
       "      <th></th>\n",
       "      <th>0</th>\n",
       "      <th>1</th>\n",
       "      <th>2</th>\n",
       "      <th>3</th>\n",
       "      <th>4</th>\n",
       "      <th>5</th>\n",
       "      <th>6</th>\n",
       "      <th>7</th>\n",
       "      <th>8</th>\n",
       "      <th>9</th>\n",
       "      <th>...</th>\n",
       "      <th>39</th>\n",
       "      <th>40</th>\n",
       "      <th>41</th>\n",
       "      <th>42</th>\n",
       "      <th>43</th>\n",
       "      <th>44</th>\n",
       "      <th>45</th>\n",
       "      <th>46</th>\n",
       "      <th>47</th>\n",
       "      <th>48</th>\n",
       "    </tr>\n",
       "  </thead>\n",
       "  <tbody>\n",
       "    <tr>\n",
       "      <th>0</th>\n",
       "      <td>175.45.176.3</td>\n",
       "      <td>21223</td>\n",
       "      <td>149.171.126.18</td>\n",
       "      <td>32780</td>\n",
       "      <td>udp</td>\n",
       "      <td>INT</td>\n",
       "      <td>0.000021</td>\n",
       "      <td>728</td>\n",
       "      <td>0</td>\n",
       "      <td>254</td>\n",
       "      <td>...</td>\n",
       "      <td>0</td>\n",
       "      <td>1</td>\n",
       "      <td>1</td>\n",
       "      <td>1</td>\n",
       "      <td>1</td>\n",
       "      <td>1</td>\n",
       "      <td>1</td>\n",
       "      <td>1</td>\n",
       "      <td>Exploits</td>\n",
       "      <td>1</td>\n",
       "    </tr>\n",
       "    <tr>\n",
       "      <th>1</th>\n",
       "      <td>175.45.176.2</td>\n",
       "      <td>23357</td>\n",
       "      <td>149.171.126.16</td>\n",
       "      <td>80</td>\n",
       "      <td>tcp</td>\n",
       "      <td>FIN</td>\n",
       "      <td>0.240139</td>\n",
       "      <td>918</td>\n",
       "      <td>25552</td>\n",
       "      <td>62</td>\n",
       "      <td>...</td>\n",
       "      <td>0</td>\n",
       "      <td>3</td>\n",
       "      <td>2</td>\n",
       "      <td>2</td>\n",
       "      <td>1</td>\n",
       "      <td>1</td>\n",
       "      <td>1</td>\n",
       "      <td>1</td>\n",
       "      <td>Exploits</td>\n",
       "      <td>1</td>\n",
       "    </tr>\n",
       "    <tr>\n",
       "      <th>2</th>\n",
       "      <td>175.45.176.0</td>\n",
       "      <td>13284</td>\n",
       "      <td>149.171.126.16</td>\n",
       "      <td>80</td>\n",
       "      <td>tcp</td>\n",
       "      <td>FIN</td>\n",
       "      <td>2.390390</td>\n",
       "      <td>1362</td>\n",
       "      <td>268</td>\n",
       "      <td>254</td>\n",
       "      <td>...</td>\n",
       "      <td>0</td>\n",
       "      <td>5</td>\n",
       "      <td>2</td>\n",
       "      <td>2</td>\n",
       "      <td>1</td>\n",
       "      <td>1</td>\n",
       "      <td>1</td>\n",
       "      <td>1</td>\n",
       "      <td>Reconnaissance</td>\n",
       "      <td>1</td>\n",
       "    </tr>\n",
       "    <tr>\n",
       "      <th>3</th>\n",
       "      <td>175.45.176.2</td>\n",
       "      <td>13792</td>\n",
       "      <td>149.171.126.16</td>\n",
       "      <td>5555</td>\n",
       "      <td>tcp</td>\n",
       "      <td>FIN</td>\n",
       "      <td>0.175190</td>\n",
       "      <td>8168</td>\n",
       "      <td>268</td>\n",
       "      <td>254</td>\n",
       "      <td>...</td>\n",
       "      <td>0</td>\n",
       "      <td>1</td>\n",
       "      <td>1</td>\n",
       "      <td>1</td>\n",
       "      <td>1</td>\n",
       "      <td>1</td>\n",
       "      <td>1</td>\n",
       "      <td>1</td>\n",
       "      <td>Exploits</td>\n",
       "      <td>1</td>\n",
       "    </tr>\n",
       "    <tr>\n",
       "      <th>4</th>\n",
       "      <td>175.45.176.2</td>\n",
       "      <td>26939</td>\n",
       "      <td>149.171.126.10</td>\n",
       "      <td>80</td>\n",
       "      <td>tcp</td>\n",
       "      <td>FIN</td>\n",
       "      <td>0.190600</td>\n",
       "      <td>844</td>\n",
       "      <td>268</td>\n",
       "      <td>254</td>\n",
       "      <td>...</td>\n",
       "      <td>0</td>\n",
       "      <td>3</td>\n",
       "      <td>1</td>\n",
       "      <td>1</td>\n",
       "      <td>1</td>\n",
       "      <td>1</td>\n",
       "      <td>1</td>\n",
       "      <td>1</td>\n",
       "      <td>Exploits</td>\n",
       "      <td>1</td>\n",
       "    </tr>\n",
       "  </tbody>\n",
       "</table>\n",
       "<p>5 rows × 49 columns</p>\n",
       "</div>"
      ],
      "text/plain": [
       "             0      1               2      3    4    5         6     7   \\\n",
       "0  175.45.176.3  21223  149.171.126.18  32780  udp  INT  0.000021   728   \n",
       "1  175.45.176.2  23357  149.171.126.16     80  tcp  FIN  0.240139   918   \n",
       "2  175.45.176.0  13284  149.171.126.16     80  tcp  FIN  2.390390  1362   \n",
       "3  175.45.176.2  13792  149.171.126.16   5555  tcp  FIN  0.175190  8168   \n",
       "4  175.45.176.2  26939  149.171.126.10     80  tcp  FIN  0.190600   844   \n",
       "\n",
       "      8    9   ...  39  40  41 42  43  44  45  46              47  48  \n",
       "0      0  254  ...   0   1   1  1   1   1   1   1        Exploits   1  \n",
       "1  25552   62  ...   0   3   2  2   1   1   1   1        Exploits   1  \n",
       "2    268  254  ...   0   5   2  2   1   1   1   1  Reconnaissance   1  \n",
       "3    268  254  ...   0   1   1  1   1   1   1   1        Exploits   1  \n",
       "4    268  254  ...   0   3   1  1   1   1   1   1        Exploits   1  \n",
       "\n",
       "[5 rows x 49 columns]"
      ]
     },
     "execution_count": 3,
     "metadata": {},
     "output_type": "execute_result"
    }
   ],
   "source": [
    "import pandas as pd\n",
    "\n",
    "# Load all datasets\n",
    "data_df1 = pd.read_csv('/kaggle/input/unsw-dataset/UNSW-NB15_1.csv', header=None)\n",
    "data_df2 = pd.read_csv('/kaggle/input/unsw-dataset/UNSW-NB15_2.csv', header=None)\n",
    "data_df3 = pd.read_csv('/kaggle/input/unsw-dataset/UNSW-NB15_3.csv', header=None)\n",
    "data_df4 = pd.read_csv('/kaggle/input/unsw-dataset/UNSW-NB15_4.csv', header=None)\n",
    "\n",
    "# Filter for label == 1 in all datasets\n",
    "label_1_df = pd.concat([\n",
    "    data_df1[data_df1.iloc[:, -1] == 1],\n",
    "    data_df2[data_df2.iloc[:, -1] == 1],\n",
    "    data_df3[data_df3.iloc[:, -1] == 1],\n",
    "    data_df4[data_df4.iloc[:, -1] == 1]\n",
    "])\n",
    "\n",
    "# Filter for label == 0 only in the first dataset\n",
    "label_0_df = data_df1[data_df1.iloc[:, -1] == 0]\n",
    "\n",
    "# Concatenate the filtered datasets\n",
    "data_df = pd.concat([label_1_df, label_0_df], ignore_index=True)\n",
    "\n",
    "# Display the final dataframe\n",
    "data_df.head()\n",
    "\n"
   ]
  },
  {
   "cell_type": "code",
   "execution_count": 4,
   "metadata": {
    "execution": {
     "iopub.execute_input": "2025-01-14T08:00:38.679245Z",
     "iopub.status.busy": "2025-01-14T08:00:38.679013Z",
     "iopub.status.idle": "2025-01-14T08:00:38.701222Z",
     "shell.execute_reply": "2025-01-14T08:00:38.700432Z",
     "shell.execute_reply.started": "2025-01-14T08:00:38.679222Z"
    },
    "trusted": true
   },
   "outputs": [
    {
     "data": {
      "text/html": [
       "<div>\n",
       "<style scoped>\n",
       "    .dataframe tbody tr th:only-of-type {\n",
       "        vertical-align: middle;\n",
       "    }\n",
       "\n",
       "    .dataframe tbody tr th {\n",
       "        vertical-align: top;\n",
       "    }\n",
       "\n",
       "    .dataframe thead th {\n",
       "        text-align: right;\n",
       "    }\n",
       "</style>\n",
       "<table border=\"1\" class=\"dataframe\">\n",
       "  <thead>\n",
       "    <tr style=\"text-align: right;\">\n",
       "      <th></th>\n",
       "      <th>srcip</th>\n",
       "      <th>sport</th>\n",
       "      <th>dstip</th>\n",
       "      <th>dsport</th>\n",
       "      <th>proto</th>\n",
       "      <th>state</th>\n",
       "      <th>dur</th>\n",
       "      <th>sbytes</th>\n",
       "      <th>dbytes</th>\n",
       "      <th>sttl</th>\n",
       "      <th>...</th>\n",
       "      <th>ct_ftp_cmd</th>\n",
       "      <th>ct_srv_src</th>\n",
       "      <th>ct_srv_dst</th>\n",
       "      <th>ct_dst_ltm</th>\n",
       "      <th>ct_src_ ltm</th>\n",
       "      <th>ct_src_dport_ltm</th>\n",
       "      <th>ct_dst_sport_ltm</th>\n",
       "      <th>ct_dst_src_ltm</th>\n",
       "      <th>attack_cat</th>\n",
       "      <th>label</th>\n",
       "    </tr>\n",
       "  </thead>\n",
       "  <tbody>\n",
       "    <tr>\n",
       "      <th>0</th>\n",
       "      <td>175.45.176.3</td>\n",
       "      <td>21223</td>\n",
       "      <td>149.171.126.18</td>\n",
       "      <td>32780</td>\n",
       "      <td>udp</td>\n",
       "      <td>INT</td>\n",
       "      <td>0.000021</td>\n",
       "      <td>728</td>\n",
       "      <td>0</td>\n",
       "      <td>254</td>\n",
       "      <td>...</td>\n",
       "      <td>0</td>\n",
       "      <td>1</td>\n",
       "      <td>1</td>\n",
       "      <td>1</td>\n",
       "      <td>1</td>\n",
       "      <td>1</td>\n",
       "      <td>1</td>\n",
       "      <td>1</td>\n",
       "      <td>Exploits</td>\n",
       "      <td>1</td>\n",
       "    </tr>\n",
       "    <tr>\n",
       "      <th>1</th>\n",
       "      <td>175.45.176.2</td>\n",
       "      <td>23357</td>\n",
       "      <td>149.171.126.16</td>\n",
       "      <td>80</td>\n",
       "      <td>tcp</td>\n",
       "      <td>FIN</td>\n",
       "      <td>0.240139</td>\n",
       "      <td>918</td>\n",
       "      <td>25552</td>\n",
       "      <td>62</td>\n",
       "      <td>...</td>\n",
       "      <td>0</td>\n",
       "      <td>3</td>\n",
       "      <td>2</td>\n",
       "      <td>2</td>\n",
       "      <td>1</td>\n",
       "      <td>1</td>\n",
       "      <td>1</td>\n",
       "      <td>1</td>\n",
       "      <td>Exploits</td>\n",
       "      <td>1</td>\n",
       "    </tr>\n",
       "    <tr>\n",
       "      <th>2</th>\n",
       "      <td>175.45.176.0</td>\n",
       "      <td>13284</td>\n",
       "      <td>149.171.126.16</td>\n",
       "      <td>80</td>\n",
       "      <td>tcp</td>\n",
       "      <td>FIN</td>\n",
       "      <td>2.390390</td>\n",
       "      <td>1362</td>\n",
       "      <td>268</td>\n",
       "      <td>254</td>\n",
       "      <td>...</td>\n",
       "      <td>0</td>\n",
       "      <td>5</td>\n",
       "      <td>2</td>\n",
       "      <td>2</td>\n",
       "      <td>1</td>\n",
       "      <td>1</td>\n",
       "      <td>1</td>\n",
       "      <td>1</td>\n",
       "      <td>Reconnaissance</td>\n",
       "      <td>1</td>\n",
       "    </tr>\n",
       "    <tr>\n",
       "      <th>3</th>\n",
       "      <td>175.45.176.2</td>\n",
       "      <td>13792</td>\n",
       "      <td>149.171.126.16</td>\n",
       "      <td>5555</td>\n",
       "      <td>tcp</td>\n",
       "      <td>FIN</td>\n",
       "      <td>0.175190</td>\n",
       "      <td>8168</td>\n",
       "      <td>268</td>\n",
       "      <td>254</td>\n",
       "      <td>...</td>\n",
       "      <td>0</td>\n",
       "      <td>1</td>\n",
       "      <td>1</td>\n",
       "      <td>1</td>\n",
       "      <td>1</td>\n",
       "      <td>1</td>\n",
       "      <td>1</td>\n",
       "      <td>1</td>\n",
       "      <td>Exploits</td>\n",
       "      <td>1</td>\n",
       "    </tr>\n",
       "    <tr>\n",
       "      <th>4</th>\n",
       "      <td>175.45.176.2</td>\n",
       "      <td>26939</td>\n",
       "      <td>149.171.126.10</td>\n",
       "      <td>80</td>\n",
       "      <td>tcp</td>\n",
       "      <td>FIN</td>\n",
       "      <td>0.190600</td>\n",
       "      <td>844</td>\n",
       "      <td>268</td>\n",
       "      <td>254</td>\n",
       "      <td>...</td>\n",
       "      <td>0</td>\n",
       "      <td>3</td>\n",
       "      <td>1</td>\n",
       "      <td>1</td>\n",
       "      <td>1</td>\n",
       "      <td>1</td>\n",
       "      <td>1</td>\n",
       "      <td>1</td>\n",
       "      <td>Exploits</td>\n",
       "      <td>1</td>\n",
       "    </tr>\n",
       "  </tbody>\n",
       "</table>\n",
       "<p>5 rows × 49 columns</p>\n",
       "</div>"
      ],
      "text/plain": [
       "          srcip  sport           dstip dsport proto state       dur  sbytes  \\\n",
       "0  175.45.176.3  21223  149.171.126.18  32780   udp   INT  0.000021     728   \n",
       "1  175.45.176.2  23357  149.171.126.16     80   tcp   FIN  0.240139     918   \n",
       "2  175.45.176.0  13284  149.171.126.16     80   tcp   FIN  2.390390    1362   \n",
       "3  175.45.176.2  13792  149.171.126.16   5555   tcp   FIN  0.175190    8168   \n",
       "4  175.45.176.2  26939  149.171.126.10     80   tcp   FIN  0.190600     844   \n",
       "\n",
       "   dbytes  sttl  ...  ct_ftp_cmd  ct_srv_src  ct_srv_dst ct_dst_ltm  \\\n",
       "0       0   254  ...           0           1           1          1   \n",
       "1   25552    62  ...           0           3           2          2   \n",
       "2     268   254  ...           0           5           2          2   \n",
       "3     268   254  ...           0           1           1          1   \n",
       "4     268   254  ...           0           3           1          1   \n",
       "\n",
       "   ct_src_ ltm  ct_src_dport_ltm  ct_dst_sport_ltm  ct_dst_src_ltm  \\\n",
       "0            1                 1                 1               1   \n",
       "1            1                 1                 1               1   \n",
       "2            1                 1                 1               1   \n",
       "3            1                 1                 1               1   \n",
       "4            1                 1                 1               1   \n",
       "\n",
       "       attack_cat  label  \n",
       "0        Exploits      1  \n",
       "1        Exploits      1  \n",
       "2  Reconnaissance      1  \n",
       "3        Exploits      1  \n",
       "4        Exploits      1  \n",
       "\n",
       "[5 rows x 49 columns]"
      ]
     },
     "execution_count": 4,
     "metadata": {},
     "output_type": "execute_result"
    }
   ],
   "source": [
    "# data_df = pd.read_csv('/kaggle/input/unsw-dataset/UNSW-NB15_1.csv', header = None)\n",
    "# import pandas as pd\n",
    "\n",
    "\n",
    "columns_df = pd.read_csv('/kaggle/input/unsw-features/UNSW_NB15_features.csv')\n",
    "columns_df['Name'] = columns_df['Name'].str.lower()\n",
    "\n",
    "column_names = columns_df['Name'].tolist()\n",
    "\n",
    "data_df.columns = column_names\n",
    "data_df.head()\n"
   ]
  },
  {
   "cell_type": "code",
   "execution_count": 5,
   "metadata": {
    "execution": {
     "iopub.execute_input": "2025-01-14T08:00:38.702338Z",
     "iopub.status.busy": "2025-01-14T08:00:38.702104Z",
     "iopub.status.idle": "2025-01-14T08:00:38.706036Z",
     "shell.execute_reply": "2025-01-14T08:00:38.705325Z",
     "shell.execute_reply.started": "2025-01-14T08:00:38.702315Z"
    },
    "trusted": true
   },
   "outputs": [],
   "source": [
    "data_df = data_df"
   ]
  },
  {
   "cell_type": "code",
   "execution_count": 6,
   "metadata": {
    "execution": {
     "iopub.execute_input": "2025-01-14T08:00:38.708313Z",
     "iopub.status.busy": "2025-01-14T08:00:38.708076Z",
     "iopub.status.idle": "2025-01-14T08:00:39.150537Z",
     "shell.execute_reply": "2025-01-14T08:00:39.149583Z",
     "shell.execute_reply.started": "2025-01-14T08:00:38.708290Z"
    },
    "trusted": true
   },
   "outputs": [
    {
     "name": "stdout",
     "output_type": "stream",
     "text": [
      "<class 'pandas.core.frame.DataFrame'>\n",
      "RangeIndex: 999069 entries, 0 to 999068\n",
      "Data columns (total 49 columns):\n",
      " #   Column            Non-Null Count   Dtype  \n",
      "---  ------            --------------   -----  \n",
      " 0   srcip             999069 non-null  object \n",
      " 1   sport             999069 non-null  object \n",
      " 2   dstip             999069 non-null  object \n",
      " 3   dsport            999069 non-null  object \n",
      " 4   proto             999069 non-null  object \n",
      " 5   state             999069 non-null  object \n",
      " 6   dur               999069 non-null  float64\n",
      " 7   sbytes            999069 non-null  int64  \n",
      " 8   dbytes            999069 non-null  int64  \n",
      " 9   sttl              999069 non-null  int64  \n",
      " 10  dttl              999069 non-null  int64  \n",
      " 11  sloss             999069 non-null  int64  \n",
      " 12  dloss             999069 non-null  int64  \n",
      " 13  service           999069 non-null  object \n",
      " 14  sload             999069 non-null  float64\n",
      " 15  dload             999069 non-null  float64\n",
      " 16  spkts             999069 non-null  int64  \n",
      " 17  dpkts             999069 non-null  int64  \n",
      " 18  swin              999069 non-null  int64  \n",
      " 19  dwin              999069 non-null  int64  \n",
      " 20  stcpb             999069 non-null  int64  \n",
      " 21  dtcpb             999069 non-null  int64  \n",
      " 22  smeansz           999069 non-null  int64  \n",
      " 23  dmeansz           999069 non-null  int64  \n",
      " 24  trans_depth       999069 non-null  int64  \n",
      " 25  res_bdy_len       999069 non-null  int64  \n",
      " 26  sjit              999069 non-null  float64\n",
      " 27  djit              999069 non-null  float64\n",
      " 28  stime             999069 non-null  int64  \n",
      " 29  ltime             999069 non-null  int64  \n",
      " 30  sintpkt           999069 non-null  float64\n",
      " 31  dintpkt           999069 non-null  float64\n",
      " 32  tcprtt            999069 non-null  float64\n",
      " 33  synack            999069 non-null  float64\n",
      " 34  ackdat            999069 non-null  float64\n",
      " 35  is_sm_ips_ports   999069 non-null  int64  \n",
      " 36  ct_state_ttl      999069 non-null  int64  \n",
      " 37  ct_flw_http_mthd  716130 non-null  float64\n",
      " 38  is_ftp_login      701886 non-null  float64\n",
      " 39  ct_ftp_cmd        999069 non-null  object \n",
      " 40  ct_srv_src        999069 non-null  int64  \n",
      " 41  ct_srv_dst        999069 non-null  int64  \n",
      " 42  ct_dst_ltm        999069 non-null  int64  \n",
      " 43  ct_src_ ltm       999069 non-null  int64  \n",
      " 44  ct_src_dport_ltm  999069 non-null  int64  \n",
      " 45  ct_dst_sport_ltm  999069 non-null  int64  \n",
      " 46  ct_dst_src_ltm    999069 non-null  int64  \n",
      " 47  attack_cat        321283 non-null  object \n",
      " 48  label             999069 non-null  int64  \n",
      "dtypes: float64(12), int64(28), object(9)\n",
      "memory usage: 373.5+ MB\n"
     ]
    }
   ],
   "source": [
    "data_df.info()"
   ]
  },
  {
   "cell_type": "code",
   "execution_count": 7,
   "metadata": {
    "execution": {
     "iopub.execute_input": "2025-01-14T08:00:39.151849Z",
     "iopub.status.busy": "2025-01-14T08:00:39.151570Z",
     "iopub.status.idle": "2025-01-14T08:00:39.363885Z",
     "shell.execute_reply": "2025-01-14T08:00:39.363039Z",
     "shell.execute_reply.started": "2025-01-14T08:00:39.151823Z"
    },
    "trusted": true
   },
   "outputs": [],
   "source": [
    "data_df.drop(columns = 'attack_cat', inplace = True)"
   ]
  },
  {
   "cell_type": "code",
   "execution_count": 8,
   "metadata": {
    "execution": {
     "iopub.execute_input": "2025-01-14T08:00:39.365374Z",
     "iopub.status.busy": "2025-01-14T08:00:39.365006Z",
     "iopub.status.idle": "2025-01-14T08:00:40.384398Z",
     "shell.execute_reply": "2025-01-14T08:00:40.383503Z",
     "shell.execute_reply.started": "2025-01-14T08:00:39.365326Z"
    },
    "trusted": true
   },
   "outputs": [
    {
     "data": {
      "text/html": [
       "<div>\n",
       "<style scoped>\n",
       "    .dataframe tbody tr th:only-of-type {\n",
       "        vertical-align: middle;\n",
       "    }\n",
       "\n",
       "    .dataframe tbody tr th {\n",
       "        vertical-align: top;\n",
       "    }\n",
       "\n",
       "    .dataframe thead th {\n",
       "        text-align: right;\n",
       "    }\n",
       "</style>\n",
       "<table border=\"1\" class=\"dataframe\">\n",
       "  <thead>\n",
       "    <tr style=\"text-align: right;\">\n",
       "      <th></th>\n",
       "      <th>srcip</th>\n",
       "      <th>sport</th>\n",
       "      <th>dstip</th>\n",
       "      <th>dsport</th>\n",
       "      <th>proto</th>\n",
       "      <th>state</th>\n",
       "      <th>dur</th>\n",
       "      <th>sbytes</th>\n",
       "      <th>dbytes</th>\n",
       "      <th>sttl</th>\n",
       "      <th>...</th>\n",
       "      <th>is_ftp_login</th>\n",
       "      <th>ct_ftp_cmd</th>\n",
       "      <th>ct_srv_src</th>\n",
       "      <th>ct_srv_dst</th>\n",
       "      <th>ct_dst_ltm</th>\n",
       "      <th>ct_src_ ltm</th>\n",
       "      <th>ct_src_dport_ltm</th>\n",
       "      <th>ct_dst_sport_ltm</th>\n",
       "      <th>ct_dst_src_ltm</th>\n",
       "      <th>label</th>\n",
       "    </tr>\n",
       "  </thead>\n",
       "  <tbody>\n",
       "    <tr>\n",
       "      <th>0</th>\n",
       "      <td>175.45.176.3</td>\n",
       "      <td>21223</td>\n",
       "      <td>149.171.126.18</td>\n",
       "      <td>32780</td>\n",
       "      <td>udp</td>\n",
       "      <td>INT</td>\n",
       "      <td>0.000021</td>\n",
       "      <td>728</td>\n",
       "      <td>0</td>\n",
       "      <td>254</td>\n",
       "      <td>...</td>\n",
       "      <td>0.0</td>\n",
       "      <td>0</td>\n",
       "      <td>1</td>\n",
       "      <td>1</td>\n",
       "      <td>1</td>\n",
       "      <td>1</td>\n",
       "      <td>1</td>\n",
       "      <td>1</td>\n",
       "      <td>1</td>\n",
       "      <td>1</td>\n",
       "    </tr>\n",
       "    <tr>\n",
       "      <th>1</th>\n",
       "      <td>175.45.176.2</td>\n",
       "      <td>23357</td>\n",
       "      <td>149.171.126.16</td>\n",
       "      <td>80</td>\n",
       "      <td>tcp</td>\n",
       "      <td>FIN</td>\n",
       "      <td>0.240139</td>\n",
       "      <td>918</td>\n",
       "      <td>25552</td>\n",
       "      <td>62</td>\n",
       "      <td>...</td>\n",
       "      <td>0.0</td>\n",
       "      <td>0</td>\n",
       "      <td>3</td>\n",
       "      <td>2</td>\n",
       "      <td>2</td>\n",
       "      <td>1</td>\n",
       "      <td>1</td>\n",
       "      <td>1</td>\n",
       "      <td>1</td>\n",
       "      <td>1</td>\n",
       "    </tr>\n",
       "    <tr>\n",
       "      <th>2</th>\n",
       "      <td>175.45.176.0</td>\n",
       "      <td>13284</td>\n",
       "      <td>149.171.126.16</td>\n",
       "      <td>80</td>\n",
       "      <td>tcp</td>\n",
       "      <td>FIN</td>\n",
       "      <td>2.390390</td>\n",
       "      <td>1362</td>\n",
       "      <td>268</td>\n",
       "      <td>254</td>\n",
       "      <td>...</td>\n",
       "      <td>0.0</td>\n",
       "      <td>0</td>\n",
       "      <td>5</td>\n",
       "      <td>2</td>\n",
       "      <td>2</td>\n",
       "      <td>1</td>\n",
       "      <td>1</td>\n",
       "      <td>1</td>\n",
       "      <td>1</td>\n",
       "      <td>1</td>\n",
       "    </tr>\n",
       "    <tr>\n",
       "      <th>3</th>\n",
       "      <td>175.45.176.2</td>\n",
       "      <td>13792</td>\n",
       "      <td>149.171.126.16</td>\n",
       "      <td>5555</td>\n",
       "      <td>tcp</td>\n",
       "      <td>FIN</td>\n",
       "      <td>0.175190</td>\n",
       "      <td>8168</td>\n",
       "      <td>268</td>\n",
       "      <td>254</td>\n",
       "      <td>...</td>\n",
       "      <td>0.0</td>\n",
       "      <td>0</td>\n",
       "      <td>1</td>\n",
       "      <td>1</td>\n",
       "      <td>1</td>\n",
       "      <td>1</td>\n",
       "      <td>1</td>\n",
       "      <td>1</td>\n",
       "      <td>1</td>\n",
       "      <td>1</td>\n",
       "    </tr>\n",
       "    <tr>\n",
       "      <th>4</th>\n",
       "      <td>175.45.176.2</td>\n",
       "      <td>26939</td>\n",
       "      <td>149.171.126.10</td>\n",
       "      <td>80</td>\n",
       "      <td>tcp</td>\n",
       "      <td>FIN</td>\n",
       "      <td>0.190600</td>\n",
       "      <td>844</td>\n",
       "      <td>268</td>\n",
       "      <td>254</td>\n",
       "      <td>...</td>\n",
       "      <td>0.0</td>\n",
       "      <td>0</td>\n",
       "      <td>3</td>\n",
       "      <td>1</td>\n",
       "      <td>1</td>\n",
       "      <td>1</td>\n",
       "      <td>1</td>\n",
       "      <td>1</td>\n",
       "      <td>1</td>\n",
       "      <td>1</td>\n",
       "    </tr>\n",
       "    <tr>\n",
       "      <th>...</th>\n",
       "      <td>...</td>\n",
       "      <td>...</td>\n",
       "      <td>...</td>\n",
       "      <td>...</td>\n",
       "      <td>...</td>\n",
       "      <td>...</td>\n",
       "      <td>...</td>\n",
       "      <td>...</td>\n",
       "      <td>...</td>\n",
       "      <td>...</td>\n",
       "      <td>...</td>\n",
       "      <td>...</td>\n",
       "      <td>...</td>\n",
       "      <td>...</td>\n",
       "      <td>...</td>\n",
       "      <td>...</td>\n",
       "      <td>...</td>\n",
       "      <td>...</td>\n",
       "      <td>...</td>\n",
       "      <td>...</td>\n",
       "      <td>...</td>\n",
       "    </tr>\n",
       "    <tr>\n",
       "      <th>999064</th>\n",
       "      <td>59.166.0.8</td>\n",
       "      <td>12520</td>\n",
       "      <td>149.171.126.6</td>\n",
       "      <td>31010</td>\n",
       "      <td>tcp</td>\n",
       "      <td>FIN</td>\n",
       "      <td>0.020383</td>\n",
       "      <td>320</td>\n",
       "      <td>1874</td>\n",
       "      <td>31</td>\n",
       "      <td>...</td>\n",
       "      <td>0.0</td>\n",
       "      <td>0</td>\n",
       "      <td>8</td>\n",
       "      <td>20</td>\n",
       "      <td>7</td>\n",
       "      <td>5</td>\n",
       "      <td>1</td>\n",
       "      <td>1</td>\n",
       "      <td>4</td>\n",
       "      <td>0</td>\n",
       "    </tr>\n",
       "    <tr>\n",
       "      <th>999065</th>\n",
       "      <td>59.166.0.0</td>\n",
       "      <td>18895</td>\n",
       "      <td>149.171.126.9</td>\n",
       "      <td>80</td>\n",
       "      <td>tcp</td>\n",
       "      <td>FIN</td>\n",
       "      <td>1.402957</td>\n",
       "      <td>19410</td>\n",
       "      <td>1087890</td>\n",
       "      <td>31</td>\n",
       "      <td>...</td>\n",
       "      <td>0.0</td>\n",
       "      <td>0</td>\n",
       "      <td>1</td>\n",
       "      <td>1</td>\n",
       "      <td>2</td>\n",
       "      <td>7</td>\n",
       "      <td>2</td>\n",
       "      <td>2</td>\n",
       "      <td>2</td>\n",
       "      <td>0</td>\n",
       "    </tr>\n",
       "    <tr>\n",
       "      <th>999066</th>\n",
       "      <td>59.166.0.0</td>\n",
       "      <td>30103</td>\n",
       "      <td>149.171.126.5</td>\n",
       "      <td>5190</td>\n",
       "      <td>tcp</td>\n",
       "      <td>FIN</td>\n",
       "      <td>0.007108</td>\n",
       "      <td>2158</td>\n",
       "      <td>2464</td>\n",
       "      <td>31</td>\n",
       "      <td>...</td>\n",
       "      <td>0.0</td>\n",
       "      <td>0</td>\n",
       "      <td>13</td>\n",
       "      <td>13</td>\n",
       "      <td>6</td>\n",
       "      <td>7</td>\n",
       "      <td>2</td>\n",
       "      <td>1</td>\n",
       "      <td>2</td>\n",
       "      <td>0</td>\n",
       "    </tr>\n",
       "    <tr>\n",
       "      <th>999067</th>\n",
       "      <td>59.166.0.6</td>\n",
       "      <td>30388</td>\n",
       "      <td>149.171.126.5</td>\n",
       "      <td>111</td>\n",
       "      <td>udp</td>\n",
       "      <td>CON</td>\n",
       "      <td>0.004435</td>\n",
       "      <td>568</td>\n",
       "      <td>304</td>\n",
       "      <td>31</td>\n",
       "      <td>...</td>\n",
       "      <td>0.0</td>\n",
       "      <td>0</td>\n",
       "      <td>10</td>\n",
       "      <td>13</td>\n",
       "      <td>6</td>\n",
       "      <td>5</td>\n",
       "      <td>1</td>\n",
       "      <td>1</td>\n",
       "      <td>3</td>\n",
       "      <td>0</td>\n",
       "    </tr>\n",
       "    <tr>\n",
       "      <th>999068</th>\n",
       "      <td>59.166.0.0</td>\n",
       "      <td>6055</td>\n",
       "      <td>149.171.126.5</td>\n",
       "      <td>54145</td>\n",
       "      <td>tcp</td>\n",
       "      <td>FIN</td>\n",
       "      <td>0.072974</td>\n",
       "      <td>4238</td>\n",
       "      <td>60788</td>\n",
       "      <td>31</td>\n",
       "      <td>...</td>\n",
       "      <td>0.0</td>\n",
       "      <td>0</td>\n",
       "      <td>13</td>\n",
       "      <td>13</td>\n",
       "      <td>6</td>\n",
       "      <td>7</td>\n",
       "      <td>1</td>\n",
       "      <td>1</td>\n",
       "      <td>2</td>\n",
       "      <td>0</td>\n",
       "    </tr>\n",
       "  </tbody>\n",
       "</table>\n",
       "<p>999069 rows × 48 columns</p>\n",
       "</div>"
      ],
      "text/plain": [
       "               srcip  sport           dstip dsport proto state       dur  \\\n",
       "0       175.45.176.3  21223  149.171.126.18  32780   udp   INT  0.000021   \n",
       "1       175.45.176.2  23357  149.171.126.16     80   tcp   FIN  0.240139   \n",
       "2       175.45.176.0  13284  149.171.126.16     80   tcp   FIN  2.390390   \n",
       "3       175.45.176.2  13792  149.171.126.16   5555   tcp   FIN  0.175190   \n",
       "4       175.45.176.2  26939  149.171.126.10     80   tcp   FIN  0.190600   \n",
       "...              ...    ...             ...    ...   ...   ...       ...   \n",
       "999064    59.166.0.8  12520   149.171.126.6  31010   tcp   FIN  0.020383   \n",
       "999065    59.166.0.0  18895   149.171.126.9     80   tcp   FIN  1.402957   \n",
       "999066    59.166.0.0  30103   149.171.126.5   5190   tcp   FIN  0.007108   \n",
       "999067    59.166.0.6  30388   149.171.126.5    111   udp   CON  0.004435   \n",
       "999068    59.166.0.0   6055   149.171.126.5  54145   tcp   FIN  0.072974   \n",
       "\n",
       "        sbytes   dbytes  sttl  ...  is_ftp_login  ct_ftp_cmd  ct_srv_src  \\\n",
       "0          728        0   254  ...           0.0           0           1   \n",
       "1          918    25552    62  ...           0.0           0           3   \n",
       "2         1362      268   254  ...           0.0           0           5   \n",
       "3         8168      268   254  ...           0.0           0           1   \n",
       "4          844      268   254  ...           0.0           0           3   \n",
       "...        ...      ...   ...  ...           ...         ...         ...   \n",
       "999064     320     1874    31  ...           0.0           0           8   \n",
       "999065   19410  1087890    31  ...           0.0           0           1   \n",
       "999066    2158     2464    31  ...           0.0           0          13   \n",
       "999067     568      304    31  ...           0.0           0          10   \n",
       "999068    4238    60788    31  ...           0.0           0          13   \n",
       "\n",
       "       ct_srv_dst  ct_dst_ltm  ct_src_ ltm  ct_src_dport_ltm  \\\n",
       "0               1           1            1                 1   \n",
       "1               2           2            1                 1   \n",
       "2               2           2            1                 1   \n",
       "3               1           1            1                 1   \n",
       "4               1           1            1                 1   \n",
       "...           ...         ...          ...               ...   \n",
       "999064         20           7            5                 1   \n",
       "999065          1           2            7                 2   \n",
       "999066         13           6            7                 2   \n",
       "999067         13           6            5                 1   \n",
       "999068         13           6            7                 1   \n",
       "\n",
       "        ct_dst_sport_ltm  ct_dst_src_ltm  label  \n",
       "0                      1               1      1  \n",
       "1                      1               1      1  \n",
       "2                      1               1      1  \n",
       "3                      1               1      1  \n",
       "4                      1               1      1  \n",
       "...                  ...             ...    ...  \n",
       "999064                 1               4      0  \n",
       "999065                 2               2      0  \n",
       "999066                 1               2      0  \n",
       "999067                 1               3      0  \n",
       "999068                 1               2      0  \n",
       "\n",
       "[999069 rows x 48 columns]"
      ]
     },
     "execution_count": 8,
     "metadata": {},
     "output_type": "execute_result"
    }
   ],
   "source": [
    "data_df"
   ]
  },
  {
   "cell_type": "code",
   "execution_count": 9,
   "metadata": {
    "execution": {
     "iopub.execute_input": "2025-01-14T08:00:40.385756Z",
     "iopub.status.busy": "2025-01-14T08:00:40.385460Z",
     "iopub.status.idle": "2025-01-14T08:00:40.787829Z",
     "shell.execute_reply": "2025-01-14T08:00:40.786971Z",
     "shell.execute_reply.started": "2025-01-14T08:00:40.385731Z"
    },
    "trusted": true
   },
   "outputs": [
    {
     "name": "stdout",
     "output_type": "stream",
     "text": [
      "<class 'pandas.core.frame.DataFrame'>\n",
      "RangeIndex: 999069 entries, 0 to 999068\n",
      "Data columns (total 48 columns):\n",
      " #   Column            Non-Null Count   Dtype  \n",
      "---  ------            --------------   -----  \n",
      " 0   srcip             999069 non-null  object \n",
      " 1   sport             999069 non-null  object \n",
      " 2   dstip             999069 non-null  object \n",
      " 3   dsport            999069 non-null  object \n",
      " 4   proto             999069 non-null  object \n",
      " 5   state             999069 non-null  object \n",
      " 6   dur               999069 non-null  float64\n",
      " 7   sbytes            999069 non-null  int64  \n",
      " 8   dbytes            999069 non-null  int64  \n",
      " 9   sttl              999069 non-null  int64  \n",
      " 10  dttl              999069 non-null  int64  \n",
      " 11  sloss             999069 non-null  int64  \n",
      " 12  dloss             999069 non-null  int64  \n",
      " 13  service           999069 non-null  object \n",
      " 14  sload             999069 non-null  float64\n",
      " 15  dload             999069 non-null  float64\n",
      " 16  spkts             999069 non-null  int64  \n",
      " 17  dpkts             999069 non-null  int64  \n",
      " 18  swin              999069 non-null  int64  \n",
      " 19  dwin              999069 non-null  int64  \n",
      " 20  stcpb             999069 non-null  int64  \n",
      " 21  dtcpb             999069 non-null  int64  \n",
      " 22  smeansz           999069 non-null  int64  \n",
      " 23  dmeansz           999069 non-null  int64  \n",
      " 24  trans_depth       999069 non-null  int64  \n",
      " 25  res_bdy_len       999069 non-null  int64  \n",
      " 26  sjit              999069 non-null  float64\n",
      " 27  djit              999069 non-null  float64\n",
      " 28  stime             999069 non-null  int64  \n",
      " 29  ltime             999069 non-null  int64  \n",
      " 30  sintpkt           999069 non-null  float64\n",
      " 31  dintpkt           999069 non-null  float64\n",
      " 32  tcprtt            999069 non-null  float64\n",
      " 33  synack            999069 non-null  float64\n",
      " 34  ackdat            999069 non-null  float64\n",
      " 35  is_sm_ips_ports   999069 non-null  int64  \n",
      " 36  ct_state_ttl      999069 non-null  int64  \n",
      " 37  ct_flw_http_mthd  716130 non-null  float64\n",
      " 38  is_ftp_login      701886 non-null  float64\n",
      " 39  ct_ftp_cmd        999069 non-null  object \n",
      " 40  ct_srv_src        999069 non-null  int64  \n",
      " 41  ct_srv_dst        999069 non-null  int64  \n",
      " 42  ct_dst_ltm        999069 non-null  int64  \n",
      " 43  ct_src_ ltm       999069 non-null  int64  \n",
      " 44  ct_src_dport_ltm  999069 non-null  int64  \n",
      " 45  ct_dst_sport_ltm  999069 non-null  int64  \n",
      " 46  ct_dst_src_ltm    999069 non-null  int64  \n",
      " 47  label             999069 non-null  int64  \n",
      "dtypes: float64(12), int64(28), object(8)\n",
      "memory usage: 365.9+ MB\n"
     ]
    }
   ],
   "source": [
    "data_df.info()"
   ]
  },
  {
   "cell_type": "code",
   "execution_count": 10,
   "metadata": {
    "execution": {
     "iopub.execute_input": "2025-01-14T08:00:40.789612Z",
     "iopub.status.busy": "2025-01-14T08:00:40.789224Z",
     "iopub.status.idle": "2025-01-14T08:00:40.801554Z",
     "shell.execute_reply": "2025-01-14T08:00:40.800707Z",
     "shell.execute_reply.started": "2025-01-14T08:00:40.789570Z"
    },
    "trusted": true
   },
   "outputs": [
    {
     "data": {
      "text/html": [
       "<div>\n",
       "<style scoped>\n",
       "    .dataframe tbody tr th:only-of-type {\n",
       "        vertical-align: middle;\n",
       "    }\n",
       "\n",
       "    .dataframe tbody tr th {\n",
       "        vertical-align: top;\n",
       "    }\n",
       "\n",
       "    .dataframe thead th {\n",
       "        text-align: right;\n",
       "    }\n",
       "</style>\n",
       "<table border=\"1\" class=\"dataframe\">\n",
       "  <thead>\n",
       "    <tr style=\"text-align: right;\">\n",
       "      <th></th>\n",
       "      <th>No.</th>\n",
       "      <th>Name</th>\n",
       "      <th>Type</th>\n",
       "      <th>Description</th>\n",
       "    </tr>\n",
       "  </thead>\n",
       "  <tbody>\n",
       "    <tr>\n",
       "      <th>0</th>\n",
       "      <td>1</td>\n",
       "      <td>srcip</td>\n",
       "      <td>nominal</td>\n",
       "      <td>Source IP address</td>\n",
       "    </tr>\n",
       "    <tr>\n",
       "      <th>1</th>\n",
       "      <td>2</td>\n",
       "      <td>sport</td>\n",
       "      <td>integer</td>\n",
       "      <td>Source port number</td>\n",
       "    </tr>\n",
       "    <tr>\n",
       "      <th>2</th>\n",
       "      <td>3</td>\n",
       "      <td>dstip</td>\n",
       "      <td>nominal</td>\n",
       "      <td>Destination IP address</td>\n",
       "    </tr>\n",
       "    <tr>\n",
       "      <th>3</th>\n",
       "      <td>4</td>\n",
       "      <td>dsport</td>\n",
       "      <td>integer</td>\n",
       "      <td>Destination port number</td>\n",
       "    </tr>\n",
       "    <tr>\n",
       "      <th>4</th>\n",
       "      <td>5</td>\n",
       "      <td>proto</td>\n",
       "      <td>nominal</td>\n",
       "      <td>Transaction protocol</td>\n",
       "    </tr>\n",
       "  </tbody>\n",
       "</table>\n",
       "</div>"
      ],
      "text/plain": [
       "   No.    Name    Type               Description\n",
       "0    1   srcip  nominal        Source IP address\n",
       "1    2   sport  integer       Source port number\n",
       "2    3   dstip  nominal   Destination IP address\n",
       "3    4  dsport  integer  Destination port number\n",
       "4    5   proto  nominal     Transaction protocol"
      ]
     },
     "execution_count": 10,
     "metadata": {},
     "output_type": "execute_result"
    }
   ],
   "source": [
    "features = pd.read_csv('/kaggle/input/unsw-features/UNSW_NB15_features.csv')\n",
    "features.head()"
   ]
  },
  {
   "cell_type": "code",
   "execution_count": 11,
   "metadata": {
    "execution": {
     "iopub.execute_input": "2025-01-14T08:00:40.802865Z",
     "iopub.status.busy": "2025-01-14T08:00:40.802565Z",
     "iopub.status.idle": "2025-01-14T08:00:40.807918Z",
     "shell.execute_reply": "2025-01-14T08:00:40.807125Z",
     "shell.execute_reply.started": "2025-01-14T08:00:40.802838Z"
    },
    "trusted": true
   },
   "outputs": [],
   "source": [
    "features['Type '] = features['Type '].str.lower()"
   ]
  },
  {
   "cell_type": "code",
   "execution_count": 12,
   "metadata": {
    "execution": {
     "iopub.execute_input": "2025-01-14T08:00:40.809350Z",
     "iopub.status.busy": "2025-01-14T08:00:40.809011Z",
     "iopub.status.idle": "2025-01-14T08:00:40.820563Z",
     "shell.execute_reply": "2025-01-14T08:00:40.819845Z",
     "shell.execute_reply.started": "2025-01-14T08:00:40.809311Z"
    },
    "trusted": true
   },
   "outputs": [],
   "source": [
    "nominal_names = features['Name'][features['Type ']=='nominal']\n",
    "integer_names = features['Name'][features['Type ']=='integer']\n",
    "binary_names = features['Name'][features['Type ']=='binary']\n",
    "float_names = features['Name'][features['Type ']=='float']"
   ]
  },
  {
   "cell_type": "code",
   "execution_count": 13,
   "metadata": {
    "execution": {
     "iopub.execute_input": "2025-01-14T08:00:40.821628Z",
     "iopub.status.busy": "2025-01-14T08:00:40.821388Z",
     "iopub.status.idle": "2025-01-14T08:00:40.832628Z",
     "shell.execute_reply": "2025-01-14T08:00:40.831715Z",
     "shell.execute_reply.started": "2025-01-14T08:00:40.821604Z"
    },
    "trusted": true
   },
   "outputs": [],
   "source": [
    "cols = data_df.columns\n",
    "nominal_names = cols.intersection(nominal_names)\n",
    "integer_names = cols.intersection(integer_names)\n",
    "binary_names = cols.intersection(binary_names)\n",
    "float_names = cols.intersection(float_names)"
   ]
  },
  {
   "cell_type": "code",
   "execution_count": 14,
   "metadata": {
    "execution": {
     "iopub.execute_input": "2025-01-14T08:00:40.833892Z",
     "iopub.status.busy": "2025-01-14T08:00:40.833620Z",
     "iopub.status.idle": "2025-01-14T08:00:41.816873Z",
     "shell.execute_reply": "2025-01-14T08:00:41.816087Z",
     "shell.execute_reply.started": "2025-01-14T08:00:40.833869Z"
    },
    "trusted": true
   },
   "outputs": [
    {
     "name": "stdout",
     "output_type": "stream",
     "text": [
      "Total number of rows with invalid numeric values: 580193\n"
     ]
    }
   ],
   "source": [
    "\n",
    "error_count = 0\n",
    "\n",
    "\n",
    "for c in integer_names:\n",
    "    try:\n",
    "        \n",
    "        data_df[c] = pd.to_numeric(data_df[c], errors='coerce')\n",
    "        \n",
    "       \n",
    "        error_count += data_df[c].isna().sum()\n",
    "    except Exception as e:\n",
    "        print(f\"Error processing column {c}: {e}\")\n",
    "\n",
    "\n",
    "print(f\"Total number of rows with invalid numeric values: {error_count}\")\n"
   ]
  },
  {
   "cell_type": "code",
   "execution_count": 15,
   "metadata": {
    "execution": {
     "iopub.execute_input": "2025-01-14T08:00:41.818164Z",
     "iopub.status.busy": "2025-01-14T08:00:41.817911Z",
     "iopub.status.idle": "2025-01-14T08:00:41.829992Z",
     "shell.execute_reply": "2025-01-14T08:00:41.829230Z",
     "shell.execute_reply.started": "2025-01-14T08:00:41.818139Z"
    },
    "trusted": true
   },
   "outputs": [
    {
     "name": "stdout",
     "output_type": "stream",
     "text": [
      "Total number of rows with invalid numeric values: 297183\n"
     ]
    }
   ],
   "source": [
    "\n",
    "error_count = 0\n",
    "\n",
    "\n",
    "for c in binary_names:\n",
    "    try:\n",
    "        \n",
    "        data_df[c] = pd.to_numeric(data_df[c], errors='coerce')\n",
    "        \n",
    "   \n",
    "        error_count += data_df[c].isna().sum()\n",
    "    except Exception as e:\n",
    "        print(f\"Error processing column {c}: {e}\")\n",
    "\n",
    "\n",
    "print(f\"Total number of rows with invalid numeric values: {error_count}\")\n"
   ]
  },
  {
   "cell_type": "code",
   "execution_count": 16,
   "metadata": {
    "execution": {
     "iopub.execute_input": "2025-01-14T08:00:41.831113Z",
     "iopub.status.busy": "2025-01-14T08:00:41.830876Z",
     "iopub.status.idle": "2025-01-14T08:00:41.850036Z",
     "shell.execute_reply": "2025-01-14T08:00:41.849160Z",
     "shell.execute_reply.started": "2025-01-14T08:00:41.831089Z"
    },
    "trusted": true
   },
   "outputs": [
    {
     "name": "stdout",
     "output_type": "stream",
     "text": [
      "Total number of rows with invalid numeric values: 0\n"
     ]
    }
   ],
   "source": [
    "error_count = 0\n",
    "\n",
    "\n",
    "for c in float_names:\n",
    "    try:\n",
    "      \n",
    "        data_df[c] = pd.to_numeric(data_df[c], errors='coerce')\n",
    "        \n",
    "     \n",
    "        error_count += data_df[c].isna().sum()\n",
    "    except Exception as e:\n",
    "        print(f\"Error processing column {c}: {e}\")\n",
    "\n",
    "\n",
    "print(f\"Total number of rows with invalid numeric values: {error_count}\")\n"
   ]
  },
  {
   "cell_type": "code",
   "execution_count": 17,
   "metadata": {
    "execution": {
     "iopub.execute_input": "2025-01-14T08:00:41.851209Z",
     "iopub.status.busy": "2025-01-14T08:00:41.850970Z",
     "iopub.status.idle": "2025-01-14T08:00:48.097172Z",
     "shell.execute_reply": "2025-01-14T08:00:48.096481Z",
     "shell.execute_reply.started": "2025-01-14T08:00:41.851185Z"
    },
    "trusted": true
   },
   "outputs": [],
   "source": [
    "def ip_to_int(ip):\n",
    "    return int(ipaddress.IPv4Address(ip))\n",
    "\n",
    "data_df['src_ip_numeric'] = data_df['srcip'].apply(ip_to_int)\n",
    "data_df['dst_ip_numeric'] = data_df['dstip'].apply(ip_to_int)\n"
   ]
  },
  {
   "cell_type": "code",
   "execution_count": 18,
   "metadata": {
    "execution": {
     "iopub.execute_input": "2025-01-14T08:00:48.102849Z",
     "iopub.status.busy": "2025-01-14T08:00:48.102587Z",
     "iopub.status.idle": "2025-01-14T08:00:48.395519Z",
     "shell.execute_reply": "2025-01-14T08:00:48.394594Z",
     "shell.execute_reply.started": "2025-01-14T08:00:48.102824Z"
    },
    "trusted": true
   },
   "outputs": [
    {
     "name": "stdout",
     "output_type": "stream",
     "text": [
      "<class 'pandas.core.frame.DataFrame'>\n",
      "RangeIndex: 999069 entries, 0 to 999068\n",
      "Data columns (total 50 columns):\n",
      " #   Column            Non-Null Count   Dtype  \n",
      "---  ------            --------------   -----  \n",
      " 0   srcip             999069 non-null  object \n",
      " 1   sport             999061 non-null  float64\n",
      " 2   dstip             999069 non-null  object \n",
      " 3   dsport            999006 non-null  float64\n",
      " 4   proto             999069 non-null  object \n",
      " 5   state             999069 non-null  object \n",
      " 6   dur               999069 non-null  float64\n",
      " 7   sbytes            999069 non-null  int64  \n",
      " 8   dbytes            999069 non-null  int64  \n",
      " 9   sttl              999069 non-null  int64  \n",
      " 10  dttl              999069 non-null  int64  \n",
      " 11  sloss             999069 non-null  int64  \n",
      " 12  dloss             999069 non-null  int64  \n",
      " 13  service           999069 non-null  object \n",
      " 14  sload             999069 non-null  float64\n",
      " 15  dload             999069 non-null  float64\n",
      " 16  spkts             999069 non-null  int64  \n",
      " 17  dpkts             999069 non-null  int64  \n",
      " 18  swin              999069 non-null  int64  \n",
      " 19  dwin              999069 non-null  int64  \n",
      " 20  stcpb             999069 non-null  int64  \n",
      " 21  dtcpb             999069 non-null  int64  \n",
      " 22  smeansz           999069 non-null  int64  \n",
      " 23  dmeansz           999069 non-null  int64  \n",
      " 24  trans_depth       999069 non-null  int64  \n",
      " 25  res_bdy_len       999069 non-null  int64  \n",
      " 26  sjit              999069 non-null  float64\n",
      " 27  djit              999069 non-null  float64\n",
      " 28  stime             999069 non-null  int64  \n",
      " 29  ltime             999069 non-null  int64  \n",
      " 30  sintpkt           999069 non-null  float64\n",
      " 31  dintpkt           999069 non-null  float64\n",
      " 32  tcprtt            999069 non-null  float64\n",
      " 33  synack            999069 non-null  float64\n",
      " 34  ackdat            999069 non-null  float64\n",
      " 35  is_sm_ips_ports   999069 non-null  int64  \n",
      " 36  ct_state_ttl      999069 non-null  int64  \n",
      " 37  ct_flw_http_mthd  716130 non-null  float64\n",
      " 38  is_ftp_login      701886 non-null  float64\n",
      " 39  ct_ftp_cmd        701886 non-null  float64\n",
      " 40  ct_srv_src        999069 non-null  int64  \n",
      " 41  ct_srv_dst        999069 non-null  int64  \n",
      " 42  ct_dst_ltm        999069 non-null  int64  \n",
      " 43  ct_src_ ltm       999069 non-null  int64  \n",
      " 44  ct_src_dport_ltm  999069 non-null  int64  \n",
      " 45  ct_dst_sport_ltm  999069 non-null  int64  \n",
      " 46  ct_dst_src_ltm    999069 non-null  int64  \n",
      " 47  label             999069 non-null  int64  \n",
      " 48  src_ip_numeric    999069 non-null  int64  \n",
      " 49  dst_ip_numeric    999069 non-null  int64  \n",
      "dtypes: float64(15), int64(30), object(5)\n",
      "memory usage: 381.1+ MB\n"
     ]
    }
   ],
   "source": [
    "data_df.info()"
   ]
  },
  {
   "cell_type": "code",
   "execution_count": 19,
   "metadata": {
    "execution": {
     "iopub.execute_input": "2025-01-14T08:00:48.396709Z",
     "iopub.status.busy": "2025-01-14T08:00:48.396437Z",
     "iopub.status.idle": "2025-01-14T08:00:48.675053Z",
     "shell.execute_reply": "2025-01-14T08:00:48.674090Z",
     "shell.execute_reply.started": "2025-01-14T08:00:48.396683Z"
    },
    "trusted": true
   },
   "outputs": [],
   "source": [
    "data_df.drop(columns = ['sport','dsport','ct_flw_http_mthd', 'is_ftp_login', 'ct_ftp_cmd'],inplace = True)"
   ]
  },
  {
   "cell_type": "code",
   "execution_count": 20,
   "metadata": {
    "execution": {
     "iopub.execute_input": "2025-01-14T08:00:48.676487Z",
     "iopub.status.busy": "2025-01-14T08:00:48.676209Z",
     "iopub.status.idle": "2025-01-14T08:00:48.930099Z",
     "shell.execute_reply": "2025-01-14T08:00:48.929236Z",
     "shell.execute_reply.started": "2025-01-14T08:00:48.676462Z"
    },
    "trusted": true
   },
   "outputs": [
    {
     "name": "stdout",
     "output_type": "stream",
     "text": [
      "<class 'pandas.core.frame.DataFrame'>\n",
      "RangeIndex: 999069 entries, 0 to 999068\n",
      "Data columns (total 45 columns):\n",
      " #   Column            Non-Null Count   Dtype  \n",
      "---  ------            --------------   -----  \n",
      " 0   srcip             999069 non-null  object \n",
      " 1   dstip             999069 non-null  object \n",
      " 2   proto             999069 non-null  object \n",
      " 3   state             999069 non-null  object \n",
      " 4   dur               999069 non-null  float64\n",
      " 5   sbytes            999069 non-null  int64  \n",
      " 6   dbytes            999069 non-null  int64  \n",
      " 7   sttl              999069 non-null  int64  \n",
      " 8   dttl              999069 non-null  int64  \n",
      " 9   sloss             999069 non-null  int64  \n",
      " 10  dloss             999069 non-null  int64  \n",
      " 11  service           999069 non-null  object \n",
      " 12  sload             999069 non-null  float64\n",
      " 13  dload             999069 non-null  float64\n",
      " 14  spkts             999069 non-null  int64  \n",
      " 15  dpkts             999069 non-null  int64  \n",
      " 16  swin              999069 non-null  int64  \n",
      " 17  dwin              999069 non-null  int64  \n",
      " 18  stcpb             999069 non-null  int64  \n",
      " 19  dtcpb             999069 non-null  int64  \n",
      " 20  smeansz           999069 non-null  int64  \n",
      " 21  dmeansz           999069 non-null  int64  \n",
      " 22  trans_depth       999069 non-null  int64  \n",
      " 23  res_bdy_len       999069 non-null  int64  \n",
      " 24  sjit              999069 non-null  float64\n",
      " 25  djit              999069 non-null  float64\n",
      " 26  stime             999069 non-null  int64  \n",
      " 27  ltime             999069 non-null  int64  \n",
      " 28  sintpkt           999069 non-null  float64\n",
      " 29  dintpkt           999069 non-null  float64\n",
      " 30  tcprtt            999069 non-null  float64\n",
      " 31  synack            999069 non-null  float64\n",
      " 32  ackdat            999069 non-null  float64\n",
      " 33  is_sm_ips_ports   999069 non-null  int64  \n",
      " 34  ct_state_ttl      999069 non-null  int64  \n",
      " 35  ct_srv_src        999069 non-null  int64  \n",
      " 36  ct_srv_dst        999069 non-null  int64  \n",
      " 37  ct_dst_ltm        999069 non-null  int64  \n",
      " 38  ct_src_ ltm       999069 non-null  int64  \n",
      " 39  ct_src_dport_ltm  999069 non-null  int64  \n",
      " 40  ct_dst_sport_ltm  999069 non-null  int64  \n",
      " 41  ct_dst_src_ltm    999069 non-null  int64  \n",
      " 42  label             999069 non-null  int64  \n",
      " 43  src_ip_numeric    999069 non-null  int64  \n",
      " 44  dst_ip_numeric    999069 non-null  int64  \n",
      "dtypes: float64(10), int64(30), object(5)\n",
      "memory usage: 343.0+ MB\n"
     ]
    }
   ],
   "source": [
    "data_df.info()"
   ]
  },
  {
   "cell_type": "code",
   "execution_count": 21,
   "metadata": {
    "execution": {
     "iopub.execute_input": "2025-01-14T08:00:48.931702Z",
     "iopub.status.busy": "2025-01-14T08:00:48.931303Z",
     "iopub.status.idle": "2025-01-14T08:00:48.944362Z",
     "shell.execute_reply": "2025-01-14T08:00:48.943459Z",
     "shell.execute_reply.started": "2025-01-14T08:00:48.931637Z"
    },
    "trusted": true
   },
   "outputs": [
    {
     "name": "stdout",
     "output_type": "stream",
     "text": [
      "label\n",
      "0    677786\n",
      "1    321283\n",
      "Name: count, dtype: int64\n"
     ]
    }
   ],
   "source": [
    "print(data_df['label'].value_counts())"
   ]
  },
  {
   "cell_type": "code",
   "execution_count": null,
   "metadata": {
    "trusted": true
   },
   "outputs": [],
   "source": []
  },
  {
   "cell_type": "code",
   "execution_count": 22,
   "metadata": {
    "execution": {
     "iopub.execute_input": "2025-01-14T08:00:48.945803Z",
     "iopub.status.busy": "2025-01-14T08:00:48.945503Z",
     "iopub.status.idle": "2025-01-14T08:00:49.125166Z",
     "shell.execute_reply": "2025-01-14T08:00:49.124231Z",
     "shell.execute_reply.started": "2025-01-14T08:00:48.945772Z"
    },
    "trusted": true
   },
   "outputs": [
    {
     "data": {
      "image/png": "[encoded data removed]",
      "text/plain": [
       "<Figure size 800x800 with 1 Axes>"
      ]
     },
     "metadata": {},
     "output_type": "display_data"
    }
   ],
   "source": [
    "\n",
    "plt.figure(figsize=(8,8))\n",
    "plt.pie(data_df.label.value_counts(),labels=['normal','abnormal'],autopct='%0.2f%%')\n",
    "plt.title(\"Pie chart distribution of normal and abnormal labels\",fontsize=16)\n",
    "plt.legend()\n",
    "plt.show()"
   ]
  },
  {
   "cell_type": "code",
   "execution_count": null,
   "metadata": {
    "trusted": true
   },
   "outputs": [],
   "source": []
  },
  {
   "cell_type": "code",
   "execution_count": 23,
   "metadata": {
    "execution": {
     "iopub.execute_input": "2025-01-14T08:00:49.127239Z",
     "iopub.status.busy": "2025-01-14T08:00:49.126140Z",
     "iopub.status.idle": "2025-01-14T08:00:49.647289Z",
     "shell.execute_reply": "2025-01-14T08:00:49.646449Z",
     "shell.execute_reply.started": "2025-01-14T08:00:49.127196Z"
    },
    "trusted": true
   },
   "outputs": [
    {
     "data": {
      "text/html": [
       "<div>\n",
       "<style scoped>\n",
       "    .dataframe tbody tr th:only-of-type {\n",
       "        vertical-align: middle;\n",
       "    }\n",
       "\n",
       "    .dataframe tbody tr th {\n",
       "        vertical-align: top;\n",
       "    }\n",
       "\n",
       "    .dataframe thead th {\n",
       "        text-align: right;\n",
       "    }\n",
       "</style>\n",
       "<table border=\"1\" class=\"dataframe\">\n",
       "  <thead>\n",
       "    <tr style=\"text-align: right;\">\n",
       "      <th></th>\n",
       "      <th>srcip</th>\n",
       "      <th>dstip</th>\n",
       "      <th>proto</th>\n",
       "      <th>state</th>\n",
       "      <th>dur</th>\n",
       "      <th>sbytes</th>\n",
       "      <th>dbytes</th>\n",
       "      <th>sttl</th>\n",
       "      <th>dttl</th>\n",
       "      <th>sloss</th>\n",
       "      <th>...</th>\n",
       "      <th>ct_srv_src</th>\n",
       "      <th>ct_srv_dst</th>\n",
       "      <th>ct_dst_ltm</th>\n",
       "      <th>ct_src_ ltm</th>\n",
       "      <th>ct_src_dport_ltm</th>\n",
       "      <th>ct_dst_sport_ltm</th>\n",
       "      <th>ct_dst_src_ltm</th>\n",
       "      <th>label</th>\n",
       "      <th>src_ip_numeric</th>\n",
       "      <th>dst_ip_numeric</th>\n",
       "    </tr>\n",
       "  </thead>\n",
       "  <tbody>\n",
       "    <tr>\n",
       "      <th>0</th>\n",
       "      <td>175.45.176.3</td>\n",
       "      <td>149.171.126.18</td>\n",
       "      <td>udp</td>\n",
       "      <td>INT</td>\n",
       "      <td>0.000021</td>\n",
       "      <td>728</td>\n",
       "      <td>0</td>\n",
       "      <td>254</td>\n",
       "      <td>0</td>\n",
       "      <td>0</td>\n",
       "      <td>...</td>\n",
       "      <td>1</td>\n",
       "      <td>1</td>\n",
       "      <td>1</td>\n",
       "      <td>1</td>\n",
       "      <td>1</td>\n",
       "      <td>1</td>\n",
       "      <td>1</td>\n",
       "      <td>1</td>\n",
       "      <td>2939006979</td>\n",
       "      <td>2511044114</td>\n",
       "    </tr>\n",
       "    <tr>\n",
       "      <th>1</th>\n",
       "      <td>175.45.176.2</td>\n",
       "      <td>149.171.126.16</td>\n",
       "      <td>tcp</td>\n",
       "      <td>FIN</td>\n",
       "      <td>0.240139</td>\n",
       "      <td>918</td>\n",
       "      <td>25552</td>\n",
       "      <td>62</td>\n",
       "      <td>252</td>\n",
       "      <td>2</td>\n",
       "      <td>...</td>\n",
       "      <td>3</td>\n",
       "      <td>2</td>\n",
       "      <td>2</td>\n",
       "      <td>1</td>\n",
       "      <td>1</td>\n",
       "      <td>1</td>\n",
       "      <td>1</td>\n",
       "      <td>1</td>\n",
       "      <td>2939006978</td>\n",
       "      <td>2511044112</td>\n",
       "    </tr>\n",
       "    <tr>\n",
       "      <th>2</th>\n",
       "      <td>175.45.176.0</td>\n",
       "      <td>149.171.126.16</td>\n",
       "      <td>tcp</td>\n",
       "      <td>FIN</td>\n",
       "      <td>2.390390</td>\n",
       "      <td>1362</td>\n",
       "      <td>268</td>\n",
       "      <td>254</td>\n",
       "      <td>252</td>\n",
       "      <td>6</td>\n",
       "      <td>...</td>\n",
       "      <td>5</td>\n",
       "      <td>2</td>\n",
       "      <td>2</td>\n",
       "      <td>1</td>\n",
       "      <td>1</td>\n",
       "      <td>1</td>\n",
       "      <td>1</td>\n",
       "      <td>1</td>\n",
       "      <td>2939006976</td>\n",
       "      <td>2511044112</td>\n",
       "    </tr>\n",
       "    <tr>\n",
       "      <th>3</th>\n",
       "      <td>175.45.176.2</td>\n",
       "      <td>149.171.126.16</td>\n",
       "      <td>tcp</td>\n",
       "      <td>FIN</td>\n",
       "      <td>0.175190</td>\n",
       "      <td>8168</td>\n",
       "      <td>268</td>\n",
       "      <td>254</td>\n",
       "      <td>252</td>\n",
       "      <td>4</td>\n",
       "      <td>...</td>\n",
       "      <td>1</td>\n",
       "      <td>1</td>\n",
       "      <td>1</td>\n",
       "      <td>1</td>\n",
       "      <td>1</td>\n",
       "      <td>1</td>\n",
       "      <td>1</td>\n",
       "      <td>1</td>\n",
       "      <td>2939006978</td>\n",
       "      <td>2511044112</td>\n",
       "    </tr>\n",
       "    <tr>\n",
       "      <th>4</th>\n",
       "      <td>175.45.176.2</td>\n",
       "      <td>149.171.126.10</td>\n",
       "      <td>tcp</td>\n",
       "      <td>FIN</td>\n",
       "      <td>0.190600</td>\n",
       "      <td>844</td>\n",
       "      <td>268</td>\n",
       "      <td>254</td>\n",
       "      <td>252</td>\n",
       "      <td>2</td>\n",
       "      <td>...</td>\n",
       "      <td>3</td>\n",
       "      <td>1</td>\n",
       "      <td>1</td>\n",
       "      <td>1</td>\n",
       "      <td>1</td>\n",
       "      <td>1</td>\n",
       "      <td>1</td>\n",
       "      <td>1</td>\n",
       "      <td>2939006978</td>\n",
       "      <td>2511044106</td>\n",
       "    </tr>\n",
       "    <tr>\n",
       "      <th>...</th>\n",
       "      <td>...</td>\n",
       "      <td>...</td>\n",
       "      <td>...</td>\n",
       "      <td>...</td>\n",
       "      <td>...</td>\n",
       "      <td>...</td>\n",
       "      <td>...</td>\n",
       "      <td>...</td>\n",
       "      <td>...</td>\n",
       "      <td>...</td>\n",
       "      <td>...</td>\n",
       "      <td>...</td>\n",
       "      <td>...</td>\n",
       "      <td>...</td>\n",
       "      <td>...</td>\n",
       "      <td>...</td>\n",
       "      <td>...</td>\n",
       "      <td>...</td>\n",
       "      <td>...</td>\n",
       "      <td>...</td>\n",
       "      <td>...</td>\n",
       "    </tr>\n",
       "    <tr>\n",
       "      <th>999064</th>\n",
       "      <td>59.166.0.8</td>\n",
       "      <td>149.171.126.6</td>\n",
       "      <td>tcp</td>\n",
       "      <td>FIN</td>\n",
       "      <td>0.020383</td>\n",
       "      <td>320</td>\n",
       "      <td>1874</td>\n",
       "      <td>31</td>\n",
       "      <td>29</td>\n",
       "      <td>1</td>\n",
       "      <td>...</td>\n",
       "      <td>8</td>\n",
       "      <td>20</td>\n",
       "      <td>7</td>\n",
       "      <td>5</td>\n",
       "      <td>1</td>\n",
       "      <td>1</td>\n",
       "      <td>4</td>\n",
       "      <td>0</td>\n",
       "      <td>1000734728</td>\n",
       "      <td>2511044102</td>\n",
       "    </tr>\n",
       "    <tr>\n",
       "      <th>999065</th>\n",
       "      <td>59.166.0.0</td>\n",
       "      <td>149.171.126.9</td>\n",
       "      <td>tcp</td>\n",
       "      <td>FIN</td>\n",
       "      <td>1.402957</td>\n",
       "      <td>19410</td>\n",
       "      <td>1087890</td>\n",
       "      <td>31</td>\n",
       "      <td>29</td>\n",
       "      <td>2</td>\n",
       "      <td>...</td>\n",
       "      <td>1</td>\n",
       "      <td>1</td>\n",
       "      <td>2</td>\n",
       "      <td>7</td>\n",
       "      <td>2</td>\n",
       "      <td>2</td>\n",
       "      <td>2</td>\n",
       "      <td>0</td>\n",
       "      <td>1000734720</td>\n",
       "      <td>2511044105</td>\n",
       "    </tr>\n",
       "    <tr>\n",
       "      <th>999066</th>\n",
       "      <td>59.166.0.0</td>\n",
       "      <td>149.171.126.5</td>\n",
       "      <td>tcp</td>\n",
       "      <td>FIN</td>\n",
       "      <td>0.007108</td>\n",
       "      <td>2158</td>\n",
       "      <td>2464</td>\n",
       "      <td>31</td>\n",
       "      <td>29</td>\n",
       "      <td>6</td>\n",
       "      <td>...</td>\n",
       "      <td>13</td>\n",
       "      <td>13</td>\n",
       "      <td>6</td>\n",
       "      <td>7</td>\n",
       "      <td>2</td>\n",
       "      <td>1</td>\n",
       "      <td>2</td>\n",
       "      <td>0</td>\n",
       "      <td>1000734720</td>\n",
       "      <td>2511044101</td>\n",
       "    </tr>\n",
       "    <tr>\n",
       "      <th>999067</th>\n",
       "      <td>59.166.0.6</td>\n",
       "      <td>149.171.126.5</td>\n",
       "      <td>udp</td>\n",
       "      <td>CON</td>\n",
       "      <td>0.004435</td>\n",
       "      <td>568</td>\n",
       "      <td>304</td>\n",
       "      <td>31</td>\n",
       "      <td>29</td>\n",
       "      <td>0</td>\n",
       "      <td>...</td>\n",
       "      <td>10</td>\n",
       "      <td>13</td>\n",
       "      <td>6</td>\n",
       "      <td>5</td>\n",
       "      <td>1</td>\n",
       "      <td>1</td>\n",
       "      <td>3</td>\n",
       "      <td>0</td>\n",
       "      <td>1000734726</td>\n",
       "      <td>2511044101</td>\n",
       "    </tr>\n",
       "    <tr>\n",
       "      <th>999068</th>\n",
       "      <td>59.166.0.0</td>\n",
       "      <td>149.171.126.5</td>\n",
       "      <td>tcp</td>\n",
       "      <td>FIN</td>\n",
       "      <td>0.072974</td>\n",
       "      <td>4238</td>\n",
       "      <td>60788</td>\n",
       "      <td>31</td>\n",
       "      <td>29</td>\n",
       "      <td>7</td>\n",
       "      <td>...</td>\n",
       "      <td>13</td>\n",
       "      <td>13</td>\n",
       "      <td>6</td>\n",
       "      <td>7</td>\n",
       "      <td>1</td>\n",
       "      <td>1</td>\n",
       "      <td>2</td>\n",
       "      <td>0</td>\n",
       "      <td>1000734720</td>\n",
       "      <td>2511044101</td>\n",
       "    </tr>\n",
       "  </tbody>\n",
       "</table>\n",
       "<p>999069 rows × 45 columns</p>\n",
       "</div>"
      ],
      "text/plain": [
       "               srcip           dstip proto state       dur  sbytes   dbytes  \\\n",
       "0       175.45.176.3  149.171.126.18   udp   INT  0.000021     728        0   \n",
       "1       175.45.176.2  149.171.126.16   tcp   FIN  0.240139     918    25552   \n",
       "2       175.45.176.0  149.171.126.16   tcp   FIN  2.390390    1362      268   \n",
       "3       175.45.176.2  149.171.126.16   tcp   FIN  0.175190    8168      268   \n",
       "4       175.45.176.2  149.171.126.10   tcp   FIN  0.190600     844      268   \n",
       "...              ...             ...   ...   ...       ...     ...      ...   \n",
       "999064    59.166.0.8   149.171.126.6   tcp   FIN  0.020383     320     1874   \n",
       "999065    59.166.0.0   149.171.126.9   tcp   FIN  1.402957   19410  1087890   \n",
       "999066    59.166.0.0   149.171.126.5   tcp   FIN  0.007108    2158     2464   \n",
       "999067    59.166.0.6   149.171.126.5   udp   CON  0.004435     568      304   \n",
       "999068    59.166.0.0   149.171.126.5   tcp   FIN  0.072974    4238    60788   \n",
       "\n",
       "        sttl  dttl  sloss  ...  ct_srv_src ct_srv_dst  ct_dst_ltm  \\\n",
       "0        254     0      0  ...           1          1           1   \n",
       "1         62   252      2  ...           3          2           2   \n",
       "2        254   252      6  ...           5          2           2   \n",
       "3        254   252      4  ...           1          1           1   \n",
       "4        254   252      2  ...           3          1           1   \n",
       "...      ...   ...    ...  ...         ...        ...         ...   \n",
       "999064    31    29      1  ...           8         20           7   \n",
       "999065    31    29      2  ...           1          1           2   \n",
       "999066    31    29      6  ...          13         13           6   \n",
       "999067    31    29      0  ...          10         13           6   \n",
       "999068    31    29      7  ...          13         13           6   \n",
       "\n",
       "        ct_src_ ltm  ct_src_dport_ltm  ct_dst_sport_ltm  ct_dst_src_ltm  \\\n",
       "0                 1                 1                 1               1   \n",
       "1                 1                 1                 1               1   \n",
       "2                 1                 1                 1               1   \n",
       "3                 1                 1                 1               1   \n",
       "4                 1                 1                 1               1   \n",
       "...             ...               ...               ...             ...   \n",
       "999064            5                 1                 1               4   \n",
       "999065            7                 2                 2               2   \n",
       "999066            7                 2                 1               2   \n",
       "999067            5                 1                 1               3   \n",
       "999068            7                 1                 1               2   \n",
       "\n",
       "        label  src_ip_numeric  dst_ip_numeric  \n",
       "0           1      2939006979      2511044114  \n",
       "1           1      2939006978      2511044112  \n",
       "2           1      2939006976      2511044112  \n",
       "3           1      2939006978      2511044112  \n",
       "4           1      2939006978      2511044106  \n",
       "...       ...             ...             ...  \n",
       "999064      0      1000734728      2511044102  \n",
       "999065      0      1000734720      2511044105  \n",
       "999066      0      1000734720      2511044101  \n",
       "999067      0      1000734726      2511044101  \n",
       "999068      0      1000734720      2511044101  \n",
       "\n",
       "[999069 rows x 45 columns]"
      ]
     },
     "execution_count": 23,
     "metadata": {},
     "output_type": "execute_result"
    }
   ],
   "source": [
    "data_df"
   ]
  },
  {
   "cell_type": "code",
   "execution_count": 24,
   "metadata": {
    "execution": {
     "iopub.execute_input": "2025-01-14T08:00:49.648912Z",
     "iopub.status.busy": "2025-01-14T08:00:49.648527Z",
     "iopub.status.idle": "2025-01-14T08:00:49.776333Z",
     "shell.execute_reply": "2025-01-14T08:00:49.775554Z",
     "shell.execute_reply.started": "2025-01-14T08:00:49.648874Z"
    },
    "trusted": true
   },
   "outputs": [
    {
     "data": {
      "image/png": "[encoded data removed]",
      "text/plain": [
       "<Figure size 800x800 with 1 Axes>"
      ]
     },
     "metadata": {},
     "output_type": "display_data"
    }
   ],
   "source": [
    "\n",
    "plt.figure(figsize=(8,8))\n",
    "plt.pie(data_df.label.value_counts(),labels=['normal','abnormal'],autopct='%0.2f%%')\n",
    "plt.title(\"Pie chart distribution of normal and abnormal labels\",fontsize=16)\n",
    "plt.legend()\n",
    "plt.show()"
   ]
  },
  {
   "cell_type": "code",
   "execution_count": 25,
   "metadata": {
    "execution": {
     "iopub.execute_input": "2025-01-14T08:00:49.778084Z",
     "iopub.status.busy": "2025-01-14T08:00:49.777482Z",
     "iopub.status.idle": "2025-01-14T08:00:50.079639Z",
     "shell.execute_reply": "2025-01-14T08:00:50.078938Z",
     "shell.execute_reply.started": "2025-01-14T08:00:49.778035Z"
    },
    "trusted": true
   },
   "outputs": [
    {
     "name": "stdout",
     "output_type": "stream",
     "text": [
      "['dur', 'sbytes', 'dbytes', 'sttl', 'dttl', 'sloss', 'dloss', 'sload', 'dload', 'spkts', 'dpkts', 'swin', 'dwin', 'stcpb', 'dtcpb', 'smeansz', 'dmeansz', 'trans_depth', 'res_bdy_len', 'sjit', 'djit', 'stime', 'ltime', 'sintpkt', 'dintpkt', 'tcprtt', 'synack', 'ackdat', 'is_sm_ips_ports', 'ct_state_ttl', 'ct_srv_src', 'ct_srv_dst', 'ct_dst_ltm', 'ct_src_ ltm', 'ct_src_dport_ltm', 'ct_dst_sport_ltm', 'ct_dst_src_ltm', 'src_ip_numeric', 'dst_ip_numeric']\n"
     ]
    }
   ],
   "source": [
    "num_col = list(data_df.select_dtypes(include='number').columns)\n",
    "# num_col.remove('id')\n",
    "num_col.remove('label')\n",
    "print(num_col)"
   ]
  },
  {
   "cell_type": "code",
   "execution_count": null,
   "metadata": {
    "trusted": true
   },
   "outputs": [],
   "source": []
  },
  {
   "cell_type": "code",
   "execution_count": null,
   "metadata": {
    "trusted": true
   },
   "outputs": [],
   "source": []
  },
  {
   "cell_type": "code",
   "execution_count": 26,
   "metadata": {
    "execution": {
     "iopub.execute_input": "2025-01-14T08:00:50.081157Z",
     "iopub.status.busy": "2025-01-14T08:00:50.080882Z",
     "iopub.status.idle": "2025-01-14T08:00:50.084984Z",
     "shell.execute_reply": "2025-01-14T08:00:50.084108Z",
     "shell.execute_reply.started": "2025-01-14T08:00:50.081130Z"
    },
    "trusted": true
   },
   "outputs": [],
   "source": [
    "# data_df['stime'] = data_df['stime'].apply(lambda x: \"{:.0f}\".format(x))"
   ]
  },
  {
   "cell_type": "code",
   "execution_count": 27,
   "metadata": {
    "execution": {
     "iopub.execute_input": "2025-01-14T08:00:50.086590Z",
     "iopub.status.busy": "2025-01-14T08:00:50.086230Z",
     "iopub.status.idle": "2025-01-14T08:00:50.100513Z",
     "shell.execute_reply": "2025-01-14T08:00:50.099526Z",
     "shell.execute_reply.started": "2025-01-14T08:00:50.086553Z"
    },
    "trusted": true
   },
   "outputs": [],
   "source": [
    "# data_df['stime'].value_counts()"
   ]
  },
  {
   "cell_type": "code",
   "execution_count": 28,
   "metadata": {
    "execution": {
     "iopub.execute_input": "2025-01-14T08:00:50.102179Z",
     "iopub.status.busy": "2025-01-14T08:00:50.101936Z",
     "iopub.status.idle": "2025-01-14T08:00:50.112197Z",
     "shell.execute_reply": "2025-01-14T08:00:50.111414Z",
     "shell.execute_reply.started": "2025-01-14T08:00:50.102155Z"
    },
    "trusted": true
   },
   "outputs": [],
   "source": [
    "\n",
    "# # using minmax scaler for normalizing data\n",
    "# minmax_scale = MinMaxScaler(feature_range=(0, 1))\n",
    "# def normalization(df,col):\n",
    "#   for i in col:\n",
    "#     arr = df[i]\n",
    "#     arr = np.array(arr)\n",
    "#     df[i] = minmax_scale.fit_transform(arr.reshape(len(arr),1))\n",
    "#   return df"
   ]
  },
  {
   "cell_type": "code",
   "execution_count": 29,
   "metadata": {
    "execution": {
     "iopub.execute_input": "2025-01-14T08:00:50.113476Z",
     "iopub.status.busy": "2025-01-14T08:00:50.113193Z",
     "iopub.status.idle": "2025-01-14T08:00:50.137240Z",
     "shell.execute_reply": "2025-01-14T08:00:50.136457Z",
     "shell.execute_reply.started": "2025-01-14T08:00:50.113451Z"
    },
    "trusted": true
   },
   "outputs": [
    {
     "data": {
      "text/html": [
       "<div>\n",
       "<style scoped>\n",
       "    .dataframe tbody tr th:only-of-type {\n",
       "        vertical-align: middle;\n",
       "    }\n",
       "\n",
       "    .dataframe tbody tr th {\n",
       "        vertical-align: top;\n",
       "    }\n",
       "\n",
       "    .dataframe thead th {\n",
       "        text-align: right;\n",
       "    }\n",
       "</style>\n",
       "<table border=\"1\" class=\"dataframe\">\n",
       "  <thead>\n",
       "    <tr style=\"text-align: right;\">\n",
       "      <th></th>\n",
       "      <th>srcip</th>\n",
       "      <th>dstip</th>\n",
       "      <th>proto</th>\n",
       "      <th>state</th>\n",
       "      <th>dur</th>\n",
       "      <th>sbytes</th>\n",
       "      <th>dbytes</th>\n",
       "      <th>sttl</th>\n",
       "      <th>dttl</th>\n",
       "      <th>sloss</th>\n",
       "      <th>...</th>\n",
       "      <th>ct_srv_src</th>\n",
       "      <th>ct_srv_dst</th>\n",
       "      <th>ct_dst_ltm</th>\n",
       "      <th>ct_src_ ltm</th>\n",
       "      <th>ct_src_dport_ltm</th>\n",
       "      <th>ct_dst_sport_ltm</th>\n",
       "      <th>ct_dst_src_ltm</th>\n",
       "      <th>label</th>\n",
       "      <th>src_ip_numeric</th>\n",
       "      <th>dst_ip_numeric</th>\n",
       "    </tr>\n",
       "  </thead>\n",
       "  <tbody>\n",
       "    <tr>\n",
       "      <th>0</th>\n",
       "      <td>175.45.176.3</td>\n",
       "      <td>149.171.126.18</td>\n",
       "      <td>udp</td>\n",
       "      <td>INT</td>\n",
       "      <td>0.000021</td>\n",
       "      <td>728</td>\n",
       "      <td>0</td>\n",
       "      <td>254</td>\n",
       "      <td>0</td>\n",
       "      <td>0</td>\n",
       "      <td>...</td>\n",
       "      <td>1</td>\n",
       "      <td>1</td>\n",
       "      <td>1</td>\n",
       "      <td>1</td>\n",
       "      <td>1</td>\n",
       "      <td>1</td>\n",
       "      <td>1</td>\n",
       "      <td>1</td>\n",
       "      <td>2939006979</td>\n",
       "      <td>2511044114</td>\n",
       "    </tr>\n",
       "    <tr>\n",
       "      <th>1</th>\n",
       "      <td>175.45.176.2</td>\n",
       "      <td>149.171.126.16</td>\n",
       "      <td>tcp</td>\n",
       "      <td>FIN</td>\n",
       "      <td>0.240139</td>\n",
       "      <td>918</td>\n",
       "      <td>25552</td>\n",
       "      <td>62</td>\n",
       "      <td>252</td>\n",
       "      <td>2</td>\n",
       "      <td>...</td>\n",
       "      <td>3</td>\n",
       "      <td>2</td>\n",
       "      <td>2</td>\n",
       "      <td>1</td>\n",
       "      <td>1</td>\n",
       "      <td>1</td>\n",
       "      <td>1</td>\n",
       "      <td>1</td>\n",
       "      <td>2939006978</td>\n",
       "      <td>2511044112</td>\n",
       "    </tr>\n",
       "    <tr>\n",
       "      <th>2</th>\n",
       "      <td>175.45.176.0</td>\n",
       "      <td>149.171.126.16</td>\n",
       "      <td>tcp</td>\n",
       "      <td>FIN</td>\n",
       "      <td>2.390390</td>\n",
       "      <td>1362</td>\n",
       "      <td>268</td>\n",
       "      <td>254</td>\n",
       "      <td>252</td>\n",
       "      <td>6</td>\n",
       "      <td>...</td>\n",
       "      <td>5</td>\n",
       "      <td>2</td>\n",
       "      <td>2</td>\n",
       "      <td>1</td>\n",
       "      <td>1</td>\n",
       "      <td>1</td>\n",
       "      <td>1</td>\n",
       "      <td>1</td>\n",
       "      <td>2939006976</td>\n",
       "      <td>2511044112</td>\n",
       "    </tr>\n",
       "    <tr>\n",
       "      <th>3</th>\n",
       "      <td>175.45.176.2</td>\n",
       "      <td>149.171.126.16</td>\n",
       "      <td>tcp</td>\n",
       "      <td>FIN</td>\n",
       "      <td>0.175190</td>\n",
       "      <td>8168</td>\n",
       "      <td>268</td>\n",
       "      <td>254</td>\n",
       "      <td>252</td>\n",
       "      <td>4</td>\n",
       "      <td>...</td>\n",
       "      <td>1</td>\n",
       "      <td>1</td>\n",
       "      <td>1</td>\n",
       "      <td>1</td>\n",
       "      <td>1</td>\n",
       "      <td>1</td>\n",
       "      <td>1</td>\n",
       "      <td>1</td>\n",
       "      <td>2939006978</td>\n",
       "      <td>2511044112</td>\n",
       "    </tr>\n",
       "    <tr>\n",
       "      <th>4</th>\n",
       "      <td>175.45.176.2</td>\n",
       "      <td>149.171.126.10</td>\n",
       "      <td>tcp</td>\n",
       "      <td>FIN</td>\n",
       "      <td>0.190600</td>\n",
       "      <td>844</td>\n",
       "      <td>268</td>\n",
       "      <td>254</td>\n",
       "      <td>252</td>\n",
       "      <td>2</td>\n",
       "      <td>...</td>\n",
       "      <td>3</td>\n",
       "      <td>1</td>\n",
       "      <td>1</td>\n",
       "      <td>1</td>\n",
       "      <td>1</td>\n",
       "      <td>1</td>\n",
       "      <td>1</td>\n",
       "      <td>1</td>\n",
       "      <td>2939006978</td>\n",
       "      <td>2511044106</td>\n",
       "    </tr>\n",
       "  </tbody>\n",
       "</table>\n",
       "<p>5 rows × 45 columns</p>\n",
       "</div>"
      ],
      "text/plain": [
       "          srcip           dstip proto state       dur  sbytes  dbytes  sttl  \\\n",
       "0  175.45.176.3  149.171.126.18   udp   INT  0.000021     728       0   254   \n",
       "1  175.45.176.2  149.171.126.16   tcp   FIN  0.240139     918   25552    62   \n",
       "2  175.45.176.0  149.171.126.16   tcp   FIN  2.390390    1362     268   254   \n",
       "3  175.45.176.2  149.171.126.16   tcp   FIN  0.175190    8168     268   254   \n",
       "4  175.45.176.2  149.171.126.10   tcp   FIN  0.190600     844     268   254   \n",
       "\n",
       "   dttl  sloss  ...  ct_srv_src ct_srv_dst  ct_dst_ltm  ct_src_ ltm  \\\n",
       "0     0      0  ...           1          1           1            1   \n",
       "1   252      2  ...           3          2           2            1   \n",
       "2   252      6  ...           5          2           2            1   \n",
       "3   252      4  ...           1          1           1            1   \n",
       "4   252      2  ...           3          1           1            1   \n",
       "\n",
       "   ct_src_dport_ltm  ct_dst_sport_ltm  ct_dst_src_ltm  label  src_ip_numeric  \\\n",
       "0                 1                 1               1      1      2939006979   \n",
       "1                 1                 1               1      1      2939006978   \n",
       "2                 1                 1               1      1      2939006976   \n",
       "3                 1                 1               1      1      2939006978   \n",
       "4                 1                 1               1      1      2939006978   \n",
       "\n",
       "   dst_ip_numeric  \n",
       "0      2511044114  \n",
       "1      2511044112  \n",
       "2      2511044112  \n",
       "3      2511044112  \n",
       "4      2511044106  \n",
       "\n",
       "[5 rows x 45 columns]"
      ]
     },
     "execution_count": 29,
     "metadata": {},
     "output_type": "execute_result"
    }
   ],
   "source": [
    "data_df.head()"
   ]
  },
  {
   "cell_type": "code",
   "execution_count": 30,
   "metadata": {
    "execution": {
     "iopub.execute_input": "2025-01-14T08:00:50.138474Z",
     "iopub.status.busy": "2025-01-14T08:00:50.138225Z",
     "iopub.status.idle": "2025-01-14T08:00:50.141912Z",
     "shell.execute_reply": "2025-01-14T08:00:50.141010Z",
     "shell.execute_reply.started": "2025-01-14T08:00:50.138449Z"
    },
    "trusted": true
   },
   "outputs": [],
   "source": [
    "# # calling normalization() function\n",
    "# data_df = normalization(data_df.copy(),num_col)"
   ]
  },
  {
   "cell_type": "code",
   "execution_count": 31,
   "metadata": {
    "execution": {
     "iopub.execute_input": "2025-01-14T08:00:50.143628Z",
     "iopub.status.busy": "2025-01-14T08:00:50.143074Z",
     "iopub.status.idle": "2025-01-14T08:00:50.162692Z",
     "shell.execute_reply": "2025-01-14T08:00:50.161968Z",
     "shell.execute_reply.started": "2025-01-14T08:00:50.143589Z"
    },
    "trusted": true
   },
   "outputs": [
    {
     "data": {
      "text/html": [
       "<div>\n",
       "<style scoped>\n",
       "    .dataframe tbody tr th:only-of-type {\n",
       "        vertical-align: middle;\n",
       "    }\n",
       "\n",
       "    .dataframe tbody tr th {\n",
       "        vertical-align: top;\n",
       "    }\n",
       "\n",
       "    .dataframe thead th {\n",
       "        text-align: right;\n",
       "    }\n",
       "</style>\n",
       "<table border=\"1\" class=\"dataframe\">\n",
       "  <thead>\n",
       "    <tr style=\"text-align: right;\">\n",
       "      <th></th>\n",
       "      <th>srcip</th>\n",
       "      <th>dstip</th>\n",
       "      <th>proto</th>\n",
       "      <th>state</th>\n",
       "      <th>dur</th>\n",
       "      <th>sbytes</th>\n",
       "      <th>dbytes</th>\n",
       "      <th>sttl</th>\n",
       "      <th>dttl</th>\n",
       "      <th>sloss</th>\n",
       "      <th>...</th>\n",
       "      <th>ct_srv_src</th>\n",
       "      <th>ct_srv_dst</th>\n",
       "      <th>ct_dst_ltm</th>\n",
       "      <th>ct_src_ ltm</th>\n",
       "      <th>ct_src_dport_ltm</th>\n",
       "      <th>ct_dst_sport_ltm</th>\n",
       "      <th>ct_dst_src_ltm</th>\n",
       "      <th>label</th>\n",
       "      <th>src_ip_numeric</th>\n",
       "      <th>dst_ip_numeric</th>\n",
       "    </tr>\n",
       "  </thead>\n",
       "  <tbody>\n",
       "    <tr>\n",
       "      <th>0</th>\n",
       "      <td>175.45.176.3</td>\n",
       "      <td>149.171.126.18</td>\n",
       "      <td>udp</td>\n",
       "      <td>INT</td>\n",
       "      <td>0.000021</td>\n",
       "      <td>728</td>\n",
       "      <td>0</td>\n",
       "      <td>254</td>\n",
       "      <td>0</td>\n",
       "      <td>0</td>\n",
       "      <td>...</td>\n",
       "      <td>1</td>\n",
       "      <td>1</td>\n",
       "      <td>1</td>\n",
       "      <td>1</td>\n",
       "      <td>1</td>\n",
       "      <td>1</td>\n",
       "      <td>1</td>\n",
       "      <td>1</td>\n",
       "      <td>2939006979</td>\n",
       "      <td>2511044114</td>\n",
       "    </tr>\n",
       "    <tr>\n",
       "      <th>1</th>\n",
       "      <td>175.45.176.2</td>\n",
       "      <td>149.171.126.16</td>\n",
       "      <td>tcp</td>\n",
       "      <td>FIN</td>\n",
       "      <td>0.240139</td>\n",
       "      <td>918</td>\n",
       "      <td>25552</td>\n",
       "      <td>62</td>\n",
       "      <td>252</td>\n",
       "      <td>2</td>\n",
       "      <td>...</td>\n",
       "      <td>3</td>\n",
       "      <td>2</td>\n",
       "      <td>2</td>\n",
       "      <td>1</td>\n",
       "      <td>1</td>\n",
       "      <td>1</td>\n",
       "      <td>1</td>\n",
       "      <td>1</td>\n",
       "      <td>2939006978</td>\n",
       "      <td>2511044112</td>\n",
       "    </tr>\n",
       "    <tr>\n",
       "      <th>2</th>\n",
       "      <td>175.45.176.0</td>\n",
       "      <td>149.171.126.16</td>\n",
       "      <td>tcp</td>\n",
       "      <td>FIN</td>\n",
       "      <td>2.390390</td>\n",
       "      <td>1362</td>\n",
       "      <td>268</td>\n",
       "      <td>254</td>\n",
       "      <td>252</td>\n",
       "      <td>6</td>\n",
       "      <td>...</td>\n",
       "      <td>5</td>\n",
       "      <td>2</td>\n",
       "      <td>2</td>\n",
       "      <td>1</td>\n",
       "      <td>1</td>\n",
       "      <td>1</td>\n",
       "      <td>1</td>\n",
       "      <td>1</td>\n",
       "      <td>2939006976</td>\n",
       "      <td>2511044112</td>\n",
       "    </tr>\n",
       "    <tr>\n",
       "      <th>3</th>\n",
       "      <td>175.45.176.2</td>\n",
       "      <td>149.171.126.16</td>\n",
       "      <td>tcp</td>\n",
       "      <td>FIN</td>\n",
       "      <td>0.175190</td>\n",
       "      <td>8168</td>\n",
       "      <td>268</td>\n",
       "      <td>254</td>\n",
       "      <td>252</td>\n",
       "      <td>4</td>\n",
       "      <td>...</td>\n",
       "      <td>1</td>\n",
       "      <td>1</td>\n",
       "      <td>1</td>\n",
       "      <td>1</td>\n",
       "      <td>1</td>\n",
       "      <td>1</td>\n",
       "      <td>1</td>\n",
       "      <td>1</td>\n",
       "      <td>2939006978</td>\n",
       "      <td>2511044112</td>\n",
       "    </tr>\n",
       "    <tr>\n",
       "      <th>4</th>\n",
       "      <td>175.45.176.2</td>\n",
       "      <td>149.171.126.10</td>\n",
       "      <td>tcp</td>\n",
       "      <td>FIN</td>\n",
       "      <td>0.190600</td>\n",
       "      <td>844</td>\n",
       "      <td>268</td>\n",
       "      <td>254</td>\n",
       "      <td>252</td>\n",
       "      <td>2</td>\n",
       "      <td>...</td>\n",
       "      <td>3</td>\n",
       "      <td>1</td>\n",
       "      <td>1</td>\n",
       "      <td>1</td>\n",
       "      <td>1</td>\n",
       "      <td>1</td>\n",
       "      <td>1</td>\n",
       "      <td>1</td>\n",
       "      <td>2939006978</td>\n",
       "      <td>2511044106</td>\n",
       "    </tr>\n",
       "  </tbody>\n",
       "</table>\n",
       "<p>5 rows × 45 columns</p>\n",
       "</div>"
      ],
      "text/plain": [
       "          srcip           dstip proto state       dur  sbytes  dbytes  sttl  \\\n",
       "0  175.45.176.3  149.171.126.18   udp   INT  0.000021     728       0   254   \n",
       "1  175.45.176.2  149.171.126.16   tcp   FIN  0.240139     918   25552    62   \n",
       "2  175.45.176.0  149.171.126.16   tcp   FIN  2.390390    1362     268   254   \n",
       "3  175.45.176.2  149.171.126.16   tcp   FIN  0.175190    8168     268   254   \n",
       "4  175.45.176.2  149.171.126.10   tcp   FIN  0.190600     844     268   254   \n",
       "\n",
       "   dttl  sloss  ...  ct_srv_src ct_srv_dst  ct_dst_ltm  ct_src_ ltm  \\\n",
       "0     0      0  ...           1          1           1            1   \n",
       "1   252      2  ...           3          2           2            1   \n",
       "2   252      6  ...           5          2           2            1   \n",
       "3   252      4  ...           1          1           1            1   \n",
       "4   252      2  ...           3          1           1            1   \n",
       "\n",
       "   ct_src_dport_ltm  ct_dst_sport_ltm  ct_dst_src_ltm  label  src_ip_numeric  \\\n",
       "0                 1                 1               1      1      2939006979   \n",
       "1                 1                 1               1      1      2939006978   \n",
       "2                 1                 1               1      1      2939006976   \n",
       "3                 1                 1               1      1      2939006978   \n",
       "4                 1                 1               1      1      2939006978   \n",
       "\n",
       "   dst_ip_numeric  \n",
       "0      2511044114  \n",
       "1      2511044112  \n",
       "2      2511044112  \n",
       "3      2511044112  \n",
       "4      2511044106  \n",
       "\n",
       "[5 rows x 45 columns]"
      ]
     },
     "execution_count": 31,
     "metadata": {},
     "output_type": "execute_result"
    }
   ],
   "source": [
    "data_df.head()"
   ]
  },
  {
   "cell_type": "code",
   "execution_count": 32,
   "metadata": {
    "execution": {
     "iopub.execute_input": "2025-01-14T08:00:50.164457Z",
     "iopub.status.busy": "2025-01-14T08:00:50.163809Z",
     "iopub.status.idle": "2025-01-14T08:00:50.168314Z",
     "shell.execute_reply": "2025-01-14T08:00:50.167454Z",
     "shell.execute_reply.started": "2025-01-14T08:00:50.164405Z"
    },
    "trusted": true
   },
   "outputs": [],
   "source": [
    "num_col.append('label')"
   ]
  },
  {
   "cell_type": "code",
   "execution_count": 33,
   "metadata": {
    "execution": {
     "iopub.execute_input": "2025-01-14T08:00:50.169689Z",
     "iopub.status.busy": "2025-01-14T08:00:50.169344Z",
     "iopub.status.idle": "2025-01-14T08:00:50.784898Z",
     "shell.execute_reply": "2025-01-14T08:00:50.784161Z",
     "shell.execute_reply.started": "2025-01-14T08:00:50.169632Z"
    },
    "trusted": true
   },
   "outputs": [],
   "source": [
    "bin_label = pd.DataFrame(data_df.label.map(lambda x:'normal' if x==0 else 'abnormal'))\n",
    "bin_data = data_df.copy()\n",
    "bin_data['label'] = bin_label\n",
    "     "
   ]
  },
  {
   "cell_type": "code",
   "execution_count": 34,
   "metadata": {
    "execution": {
     "iopub.execute_input": "2025-01-14T08:00:50.785960Z",
     "iopub.status.busy": "2025-01-14T08:00:50.785735Z",
     "iopub.status.idle": "2025-01-14T08:00:50.933836Z",
     "shell.execute_reply": "2025-01-14T08:00:50.933107Z",
     "shell.execute_reply.started": "2025-01-14T08:00:50.785937Z"
    },
    "trusted": true
   },
   "outputs": [],
   "source": [
    "le1 = preprocessing.LabelEncoder()\n",
    "enc_label = bin_label.apply(le1.fit_transform)\n",
    "bin_data['label'] = enc_label"
   ]
  },
  {
   "cell_type": "markdown",
   "metadata": {},
   "source": []
  },
  {
   "cell_type": "code",
   "execution_count": 35,
   "metadata": {
    "execution": {
     "iopub.execute_input": "2025-01-14T08:00:50.934955Z",
     "iopub.status.busy": "2025-01-14T08:00:50.934732Z",
     "iopub.status.idle": "2025-01-14T08:00:50.940500Z",
     "shell.execute_reply": "2025-01-14T08:00:50.939614Z",
     "shell.execute_reply.started": "2025-01-14T08:00:50.934932Z"
    },
    "trusted": true
   },
   "outputs": [
    {
     "data": {
      "text/plain": [
       "array(['abnormal', 'normal'], dtype=object)"
      ]
     },
     "execution_count": 35,
     "metadata": {},
     "output_type": "execute_result"
    }
   ],
   "source": [
    "le1.classes_"
   ]
  },
  {
   "cell_type": "code",
   "execution_count": 36,
   "metadata": {
    "execution": {
     "iopub.execute_input": "2025-01-14T08:00:50.941785Z",
     "iopub.status.busy": "2025-01-14T08:00:50.941462Z",
     "iopub.status.idle": "2025-01-14T08:00:55.594177Z",
     "shell.execute_reply": "2025-01-14T08:00:55.593376Z",
     "shell.execute_reply.started": "2025-01-14T08:00:50.941736Z"
    },
    "trusted": true
   },
   "outputs": [
    {
     "data": {
      "image/png": "[encoded data removed]",
      "text/plain": [
       "<Figure size 2000x800 with 2 Axes>"
      ]
     },
     "metadata": {},
     "output_type": "display_data"
    }
   ],
   "source": [
    "plt.figure(figsize=(20,8))\n",
    "corr_bin = bin_data[num_col].corr()\n",
    "sns.heatmap(corr_bin,vmax=1.0,annot=False)\n",
    "plt.title('Correlation Matrix for Binary Labels',fontsize=16)\n",
    "plt.show()"
   ]
  },
  {
   "cell_type": "code",
   "execution_count": 37,
   "metadata": {
    "execution": {
     "iopub.execute_input": "2025-01-14T08:00:55.595510Z",
     "iopub.status.busy": "2025-01-14T08:00:55.595251Z",
     "iopub.status.idle": "2025-01-14T08:00:55.603020Z",
     "shell.execute_reply": "2025-01-14T08:00:55.602106Z",
     "shell.execute_reply.started": "2025-01-14T08:00:55.595484Z"
    },
    "trusted": true
   },
   "outputs": [
    {
     "data": {
      "text/plain": [
       "dload               0.360791\n",
       "stcpb               0.379982\n",
       "dtcpb               0.380295\n",
       "sload               0.424631\n",
       "dmeansz             0.443474\n",
       "dwin                0.500450\n",
       "swin                0.501522\n",
       "ct_src_ ltm         0.508745\n",
       "ct_dst_ltm          0.511710\n",
       "ct_srv_src          0.563857\n",
       "ct_srv_dst          0.573594\n",
       "ct_src_dport_ltm    0.620878\n",
       "ct_dst_sport_ltm    0.660275\n",
       "ct_dst_src_ltm      0.684330\n",
       "ct_state_ttl        0.931165\n",
       "ltime               0.948891\n",
       "stime               0.948891\n",
       "sttl                0.949574\n",
       "src_ip_numeric      0.974117\n",
       "label               1.000000\n",
       "Name: label, dtype: float64"
      ]
     },
     "execution_count": 37,
     "metadata": {},
     "output_type": "execute_result"
    }
   ],
   "source": [
    "corr_ybin = abs(corr_bin['label'])\n",
    "highest_corr_bin = corr_ybin[corr_ybin >0.3]\n",
    "highest_corr_bin.sort_values(ascending=True)"
   ]
  },
  {
   "cell_type": "code",
   "execution_count": 38,
   "metadata": {
    "execution": {
     "iopub.execute_input": "2025-01-14T08:00:55.604456Z",
     "iopub.status.busy": "2025-01-14T08:00:55.604182Z",
     "iopub.status.idle": "2025-01-14T08:00:55.614431Z",
     "shell.execute_reply": "2025-01-14T08:00:55.613509Z",
     "shell.execute_reply.started": "2025-01-14T08:00:55.604430Z"
    },
    "trusted": true
   },
   "outputs": [
    {
     "data": {
      "text/plain": [
       "Index(['sttl', 'sload', 'dload', 'swin', 'dwin', 'stcpb', 'dtcpb', 'dmeansz',\n",
       "       'stime', 'ltime', 'ct_state_ttl', 'ct_srv_src', 'ct_srv_dst',\n",
       "       'ct_dst_ltm', 'ct_src_ ltm', 'ct_src_dport_ltm', 'ct_dst_sport_ltm',\n",
       "       'ct_dst_src_ltm', 'src_ip_numeric', 'label'],\n",
       "      dtype='object')"
      ]
     },
     "execution_count": 38,
     "metadata": {},
     "output_type": "execute_result"
    }
   ],
   "source": [
    "bin_cols = highest_corr_bin.index\n",
    "bin_cols\n",
    "     "
   ]
  },
  {
   "cell_type": "code",
   "execution_count": 39,
   "metadata": {
    "execution": {
     "iopub.execute_input": "2025-01-14T08:00:55.615760Z",
     "iopub.status.busy": "2025-01-14T08:00:55.615468Z",
     "iopub.status.idle": "2025-01-14T08:00:55.802442Z",
     "shell.execute_reply": "2025-01-14T08:00:55.801779Z",
     "shell.execute_reply.started": "2025-01-14T08:00:55.615734Z"
    },
    "trusted": true
   },
   "outputs": [],
   "source": [
    "bin_data = bin_data[bin_cols].copy()\n",
    "# bin_data.drop(columns = ['sttl', 'dttl','stime', 'ltime'],inplace = True)"
   ]
  },
  {
   "cell_type": "code",
   "execution_count": 40,
   "metadata": {
    "execution": {
     "iopub.execute_input": "2025-01-14T08:00:55.803651Z",
     "iopub.status.busy": "2025-01-14T08:00:55.803381Z",
     "iopub.status.idle": "2025-01-14T08:00:55.807531Z",
     "shell.execute_reply": "2025-01-14T08:00:55.806672Z",
     "shell.execute_reply.started": "2025-01-14T08:00:55.803624Z"
    },
    "trusted": true
   },
   "outputs": [],
   "source": [
    "# bin_data.drop(columns = ['ct_state_ttl'],inplace = True)"
   ]
  },
  {
   "cell_type": "code",
   "execution_count": 41,
   "metadata": {
    "execution": {
     "iopub.execute_input": "2025-01-14T08:00:55.808754Z",
     "iopub.status.busy": "2025-01-14T08:00:55.808485Z",
     "iopub.status.idle": "2025-01-14T08:00:55.845785Z",
     "shell.execute_reply": "2025-01-14T08:00:55.845185Z",
     "shell.execute_reply.started": "2025-01-14T08:00:55.808730Z"
    },
    "trusted": true
   },
   "outputs": [],
   "source": [
    "X = bin_data.drop(columns=['label'],axis=1)\n",
    "Y = bin_data['label']"
   ]
  },
  {
   "cell_type": "code",
   "execution_count": 42,
   "metadata": {
    "execution": {
     "iopub.execute_input": "2025-01-14T08:00:55.846908Z",
     "iopub.status.busy": "2025-01-14T08:00:55.846636Z",
     "iopub.status.idle": "2025-01-14T08:00:55.862011Z",
     "shell.execute_reply": "2025-01-14T08:00:55.861120Z",
     "shell.execute_reply.started": "2025-01-14T08:00:55.846885Z"
    },
    "trusted": true
   },
   "outputs": [
    {
     "data": {
      "text/html": [
       "<div>\n",
       "<style scoped>\n",
       "    .dataframe tbody tr th:only-of-type {\n",
       "        vertical-align: middle;\n",
       "    }\n",
       "\n",
       "    .dataframe tbody tr th {\n",
       "        vertical-align: top;\n",
       "    }\n",
       "\n",
       "    .dataframe thead th {\n",
       "        text-align: right;\n",
       "    }\n",
       "</style>\n",
       "<table border=\"1\" class=\"dataframe\">\n",
       "  <thead>\n",
       "    <tr style=\"text-align: right;\">\n",
       "      <th></th>\n",
       "      <th>sttl</th>\n",
       "      <th>sload</th>\n",
       "      <th>dload</th>\n",
       "      <th>swin</th>\n",
       "      <th>dwin</th>\n",
       "      <th>stcpb</th>\n",
       "      <th>dtcpb</th>\n",
       "      <th>dmeansz</th>\n",
       "      <th>stime</th>\n",
       "      <th>ltime</th>\n",
       "      <th>ct_state_ttl</th>\n",
       "      <th>ct_srv_src</th>\n",
       "      <th>ct_srv_dst</th>\n",
       "      <th>ct_dst_ltm</th>\n",
       "      <th>ct_src_ ltm</th>\n",
       "      <th>ct_src_dport_ltm</th>\n",
       "      <th>ct_dst_sport_ltm</th>\n",
       "      <th>ct_dst_src_ltm</th>\n",
       "      <th>src_ip_numeric</th>\n",
       "    </tr>\n",
       "  </thead>\n",
       "  <tbody>\n",
       "    <tr>\n",
       "      <th>0</th>\n",
       "      <td>254</td>\n",
       "      <td>1.386667e+08</td>\n",
       "      <td>0.000000e+00</td>\n",
       "      <td>0</td>\n",
       "      <td>0</td>\n",
       "      <td>0</td>\n",
       "      <td>0</td>\n",
       "      <td>0</td>\n",
       "      <td>1421927415</td>\n",
       "      <td>1421927415</td>\n",
       "      <td>2</td>\n",
       "      <td>1</td>\n",
       "      <td>1</td>\n",
       "      <td>1</td>\n",
       "      <td>1</td>\n",
       "      <td>1</td>\n",
       "      <td>1</td>\n",
       "      <td>1</td>\n",
       "      <td>2939006979</td>\n",
       "    </tr>\n",
       "    <tr>\n",
       "      <th>1</th>\n",
       "      <td>62</td>\n",
       "      <td>2.805042e+04</td>\n",
       "      <td>8.157942e+05</td>\n",
       "      <td>255</td>\n",
       "      <td>255</td>\n",
       "      <td>1708297952</td>\n",
       "      <td>1939490744</td>\n",
       "      <td>1065</td>\n",
       "      <td>1421927416</td>\n",
       "      <td>1421927416</td>\n",
       "      <td>1</td>\n",
       "      <td>3</td>\n",
       "      <td>2</td>\n",
       "      <td>2</td>\n",
       "      <td>1</td>\n",
       "      <td>1</td>\n",
       "      <td>1</td>\n",
       "      <td>1</td>\n",
       "      <td>2939006978</td>\n",
       "    </tr>\n",
       "    <tr>\n",
       "      <th>2</th>\n",
       "      <td>254</td>\n",
       "      <td>4.233619e+03</td>\n",
       "      <td>7.496685e+02</td>\n",
       "      <td>255</td>\n",
       "      <td>255</td>\n",
       "      <td>3897219059</td>\n",
       "      <td>2466816006</td>\n",
       "      <td>45</td>\n",
       "      <td>1421927414</td>\n",
       "      <td>1421927416</td>\n",
       "      <td>1</td>\n",
       "      <td>5</td>\n",
       "      <td>2</td>\n",
       "      <td>2</td>\n",
       "      <td>1</td>\n",
       "      <td>1</td>\n",
       "      <td>1</td>\n",
       "      <td>1</td>\n",
       "      <td>2939006976</td>\n",
       "    </tr>\n",
       "    <tr>\n",
       "      <th>3</th>\n",
       "      <td>254</td>\n",
       "      <td>3.463668e+05</td>\n",
       "      <td>1.022889e+04</td>\n",
       "      <td>255</td>\n",
       "      <td>255</td>\n",
       "      <td>2505143795</td>\n",
       "      <td>3592239707</td>\n",
       "      <td>45</td>\n",
       "      <td>1421927417</td>\n",
       "      <td>1421927417</td>\n",
       "      <td>1</td>\n",
       "      <td>1</td>\n",
       "      <td>1</td>\n",
       "      <td>1</td>\n",
       "      <td>1</td>\n",
       "      <td>1</td>\n",
       "      <td>1</td>\n",
       "      <td>1</td>\n",
       "      <td>2939006978</td>\n",
       "    </tr>\n",
       "    <tr>\n",
       "      <th>4</th>\n",
       "      <td>254</td>\n",
       "      <td>3.189927e+04</td>\n",
       "      <td>9.401889e+03</td>\n",
       "      <td>255</td>\n",
       "      <td>255</td>\n",
       "      <td>3006332195</td>\n",
       "      <td>1452987536</td>\n",
       "      <td>45</td>\n",
       "      <td>1421927418</td>\n",
       "      <td>1421927418</td>\n",
       "      <td>1</td>\n",
       "      <td>3</td>\n",
       "      <td>1</td>\n",
       "      <td>1</td>\n",
       "      <td>1</td>\n",
       "      <td>1</td>\n",
       "      <td>1</td>\n",
       "      <td>1</td>\n",
       "      <td>2939006978</td>\n",
       "    </tr>\n",
       "    <tr>\n",
       "      <th>...</th>\n",
       "      <td>...</td>\n",
       "      <td>...</td>\n",
       "      <td>...</td>\n",
       "      <td>...</td>\n",
       "      <td>...</td>\n",
       "      <td>...</td>\n",
       "      <td>...</td>\n",
       "      <td>...</td>\n",
       "      <td>...</td>\n",
       "      <td>...</td>\n",
       "      <td>...</td>\n",
       "      <td>...</td>\n",
       "      <td>...</td>\n",
       "      <td>...</td>\n",
       "      <td>...</td>\n",
       "      <td>...</td>\n",
       "      <td>...</td>\n",
       "      <td>...</td>\n",
       "      <td>...</td>\n",
       "    </tr>\n",
       "    <tr>\n",
       "      <th>999064</th>\n",
       "      <td>31</td>\n",
       "      <td>1.047932e+05</td>\n",
       "      <td>6.436736e+05</td>\n",
       "      <td>255</td>\n",
       "      <td>255</td>\n",
       "      <td>3208686479</td>\n",
       "      <td>3225486168</td>\n",
       "      <td>234</td>\n",
       "      <td>1421955842</td>\n",
       "      <td>1421955842</td>\n",
       "      <td>0</td>\n",
       "      <td>8</td>\n",
       "      <td>20</td>\n",
       "      <td>7</td>\n",
       "      <td>5</td>\n",
       "      <td>1</td>\n",
       "      <td>1</td>\n",
       "      <td>4</td>\n",
       "      <td>1000734728</td>\n",
       "    </tr>\n",
       "    <tr>\n",
       "      <th>999065</th>\n",
       "      <td>31</td>\n",
       "      <td>1.103783e+05</td>\n",
       "      <td>6.195098e+06</td>\n",
       "      <td>255</td>\n",
       "      <td>255</td>\n",
       "      <td>283296697</td>\n",
       "      <td>2429736754</td>\n",
       "      <td>1458</td>\n",
       "      <td>1421955841</td>\n",
       "      <td>1421955842</td>\n",
       "      <td>0</td>\n",
       "      <td>1</td>\n",
       "      <td>1</td>\n",
       "      <td>2</td>\n",
       "      <td>7</td>\n",
       "      <td>2</td>\n",
       "      <td>2</td>\n",
       "      <td>2</td>\n",
       "      <td>1000734720</td>\n",
       "    </tr>\n",
       "    <tr>\n",
       "      <th>999066</th>\n",
       "      <td>31</td>\n",
       "      <td>2.328644e+06</td>\n",
       "      <td>2.658413e+06</td>\n",
       "      <td>255</td>\n",
       "      <td>255</td>\n",
       "      <td>703293844</td>\n",
       "      <td>2848960529</td>\n",
       "      <td>103</td>\n",
       "      <td>1421955842</td>\n",
       "      <td>1421955842</td>\n",
       "      <td>0</td>\n",
       "      <td>13</td>\n",
       "      <td>13</td>\n",
       "      <td>6</td>\n",
       "      <td>7</td>\n",
       "      <td>2</td>\n",
       "      <td>1</td>\n",
       "      <td>2</td>\n",
       "      <td>1000734720</td>\n",
       "    </tr>\n",
       "    <tr>\n",
       "      <th>999067</th>\n",
       "      <td>31</td>\n",
       "      <td>7.684329e+05</td>\n",
       "      <td>4.112740e+05</td>\n",
       "      <td>0</td>\n",
       "      <td>0</td>\n",
       "      <td>0</td>\n",
       "      <td>0</td>\n",
       "      <td>76</td>\n",
       "      <td>1421955842</td>\n",
       "      <td>1421955842</td>\n",
       "      <td>0</td>\n",
       "      <td>10</td>\n",
       "      <td>13</td>\n",
       "      <td>6</td>\n",
       "      <td>5</td>\n",
       "      <td>1</td>\n",
       "      <td>1</td>\n",
       "      <td>3</td>\n",
       "      <td>1000734726</td>\n",
       "    </tr>\n",
       "    <tr>\n",
       "      <th>999068</th>\n",
       "      <td>31</td>\n",
       "      <td>4.582454e+05</td>\n",
       "      <td>6.571546e+06</td>\n",
       "      <td>255</td>\n",
       "      <td>255</td>\n",
       "      <td>1003293149</td>\n",
       "      <td>1003585034</td>\n",
       "      <td>844</td>\n",
       "      <td>1421955842</td>\n",
       "      <td>1421955842</td>\n",
       "      <td>0</td>\n",
       "      <td>13</td>\n",
       "      <td>13</td>\n",
       "      <td>6</td>\n",
       "      <td>7</td>\n",
       "      <td>1</td>\n",
       "      <td>1</td>\n",
       "      <td>2</td>\n",
       "      <td>1000734720</td>\n",
       "    </tr>\n",
       "  </tbody>\n",
       "</table>\n",
       "<p>999069 rows × 19 columns</p>\n",
       "</div>"
      ],
      "text/plain": [
       "        sttl         sload         dload  swin  dwin       stcpb       dtcpb  \\\n",
       "0        254  1.386667e+08  0.000000e+00     0     0           0           0   \n",
       "1         62  2.805042e+04  8.157942e+05   255   255  1708297952  1939490744   \n",
       "2        254  4.233619e+03  7.496685e+02   255   255  3897219059  2466816006   \n",
       "3        254  3.463668e+05  1.022889e+04   255   255  2505143795  3592239707   \n",
       "4        254  3.189927e+04  9.401889e+03   255   255  3006332195  1452987536   \n",
       "...      ...           ...           ...   ...   ...         ...         ...   \n",
       "999064    31  1.047932e+05  6.436736e+05   255   255  3208686479  3225486168   \n",
       "999065    31  1.103783e+05  6.195098e+06   255   255   283296697  2429736754   \n",
       "999066    31  2.328644e+06  2.658413e+06   255   255   703293844  2848960529   \n",
       "999067    31  7.684329e+05  4.112740e+05     0     0           0           0   \n",
       "999068    31  4.582454e+05  6.571546e+06   255   255  1003293149  1003585034   \n",
       "\n",
       "        dmeansz       stime       ltime  ct_state_ttl  ct_srv_src  ct_srv_dst  \\\n",
       "0             0  1421927415  1421927415             2           1           1   \n",
       "1          1065  1421927416  1421927416             1           3           2   \n",
       "2            45  1421927414  1421927416             1           5           2   \n",
       "3            45  1421927417  1421927417             1           1           1   \n",
       "4            45  1421927418  1421927418             1           3           1   \n",
       "...         ...         ...         ...           ...         ...         ...   \n",
       "999064      234  1421955842  1421955842             0           8          20   \n",
       "999065     1458  1421955841  1421955842             0           1           1   \n",
       "999066      103  1421955842  1421955842             0          13          13   \n",
       "999067       76  1421955842  1421955842             0          10          13   \n",
       "999068      844  1421955842  1421955842             0          13          13   \n",
       "\n",
       "        ct_dst_ltm  ct_src_ ltm  ct_src_dport_ltm  ct_dst_sport_ltm  \\\n",
       "0                1            1                 1                 1   \n",
       "1                2            1                 1                 1   \n",
       "2                2            1                 1                 1   \n",
       "3                1            1                 1                 1   \n",
       "4                1            1                 1                 1   \n",
       "...            ...          ...               ...               ...   \n",
       "999064           7            5                 1                 1   \n",
       "999065           2            7                 2                 2   \n",
       "999066           6            7                 2                 1   \n",
       "999067           6            5                 1                 1   \n",
       "999068           6            7                 1                 1   \n",
       "\n",
       "        ct_dst_src_ltm  src_ip_numeric  \n",
       "0                    1      2939006979  \n",
       "1                    1      2939006978  \n",
       "2                    1      2939006976  \n",
       "3                    1      2939006978  \n",
       "4                    1      2939006978  \n",
       "...                ...             ...  \n",
       "999064               4      1000734728  \n",
       "999065               2      1000734720  \n",
       "999066               2      1000734720  \n",
       "999067               3      1000734726  \n",
       "999068               2      1000734720  \n",
       "\n",
       "[999069 rows x 19 columns]"
      ]
     },
     "execution_count": 42,
     "metadata": {},
     "output_type": "execute_result"
    }
   ],
   "source": [
    "X"
   ]
  },
  {
   "cell_type": "code",
   "execution_count": 43,
   "metadata": {
    "execution": {
     "iopub.execute_input": "2025-01-14T08:00:55.863144Z",
     "iopub.status.busy": "2025-01-14T08:00:55.862902Z",
     "iopub.status.idle": "2025-01-14T08:00:55.870432Z",
     "shell.execute_reply": "2025-01-14T08:00:55.869703Z",
     "shell.execute_reply.started": "2025-01-14T08:00:55.863100Z"
    },
    "trusted": true
   },
   "outputs": [],
   "source": [
    "\n",
    "# X_train,X_test,y_train,y_test = train_test_split(X,Y,test_size=0.20, random_state=50)"
   ]
  },
  {
   "cell_type": "code",
   "execution_count": 44,
   "metadata": {
    "execution": {
     "iopub.execute_input": "2025-01-14T08:00:55.871529Z",
     "iopub.status.busy": "2025-01-14T08:00:55.871308Z",
     "iopub.status.idle": "2025-01-14T08:00:55.880683Z",
     "shell.execute_reply": "2025-01-14T08:00:55.879877Z",
     "shell.execute_reply.started": "2025-01-14T08:00:55.871506Z"
    },
    "trusted": true
   },
   "outputs": [],
   "source": [
    "# knn_bin=KNeighborsClassifier(n_neighbors=5)\n",
    "# knn_bin.fit(X_train,y_train)"
   ]
  },
  {
   "cell_type": "code",
   "execution_count": null,
   "metadata": {
    "trusted": true
   },
   "outputs": [],
   "source": []
  },
  {
   "cell_type": "code",
   "execution_count": 45,
   "metadata": {
    "execution": {
     "iopub.execute_input": "2025-01-14T08:00:55.881892Z",
     "iopub.status.busy": "2025-01-14T08:00:55.881558Z",
     "iopub.status.idle": "2025-01-14T08:00:55.890999Z",
     "shell.execute_reply": "2025-01-14T08:00:55.890151Z",
     "shell.execute_reply.started": "2025-01-14T08:00:55.881855Z"
    },
    "trusted": true
   },
   "outputs": [],
   "source": [
    "\n",
    "# y_pred = knn_bin.predict(X_test)"
   ]
  },
  {
   "cell_type": "code",
   "execution_count": 46,
   "metadata": {
    "execution": {
     "iopub.execute_input": "2025-01-14T08:00:55.892299Z",
     "iopub.status.busy": "2025-01-14T08:00:55.892043Z",
     "iopub.status.idle": "2025-01-14T08:00:55.901279Z",
     "shell.execute_reply": "2025-01-14T08:00:55.900548Z",
     "shell.execute_reply.started": "2025-01-14T08:00:55.892274Z"
    },
    "trusted": true
   },
   "outputs": [],
   "source": [
    "# print(\"Mean Absolute Error - \" , metrics.mean_absolute_error(y_test, y_pred))\n",
    "# print(\"Mean Squared Error - \" , metrics.mean_squared_error(y_test, y_pred))\n",
    "# print(\"Root Mean Squared Error - \" , np.sqrt(metrics.mean_squared_error(y_test, y_pred)))\n",
    "# print(\"R2 Score - \" , metrics.explained_variance_score(y_test, y_pred)*100)\n",
    "# print(\"Accuracy - \",accuracy_score(y_test,y_pred)*100)\n",
    "     "
   ]
  },
  {
   "cell_type": "code",
   "execution_count": 47,
   "metadata": {
    "execution": {
     "iopub.execute_input": "2025-01-14T08:00:55.902560Z",
     "iopub.status.busy": "2025-01-14T08:00:55.902313Z",
     "iopub.status.idle": "2025-01-14T08:00:55.923265Z",
     "shell.execute_reply": "2025-01-14T08:00:55.922525Z",
     "shell.execute_reply.started": "2025-01-14T08:00:55.902537Z"
    },
    "trusted": true
   },
   "outputs": [],
   "source": [
    "# cls_report= classification_report(y_true=y_test, y_pred=y_pred,target_names=le1.classes_)\n",
    "# print(cls_report)"
   ]
  },
  {
   "cell_type": "code",
   "execution_count": null,
   "metadata": {
    "trusted": true
   },
   "outputs": [],
   "source": []
  },
  {
   "cell_type": "code",
   "execution_count": 48,
   "metadata": {
    "execution": {
     "iopub.execute_input": "2025-01-14T08:00:55.924386Z",
     "iopub.status.busy": "2025-01-14T08:00:55.924137Z",
     "iopub.status.idle": "2025-01-14T08:00:55.949016Z",
     "shell.execute_reply": "2025-01-14T08:00:55.948251Z",
     "shell.execute_reply.started": "2025-01-14T08:00:55.924361Z"
    },
    "trusted": true
   },
   "outputs": [
    {
     "data": {
      "text/html": [
       "<div>\n",
       "<style scoped>\n",
       "    .dataframe tbody tr th:only-of-type {\n",
       "        vertical-align: middle;\n",
       "    }\n",
       "\n",
       "    .dataframe tbody tr th {\n",
       "        vertical-align: top;\n",
       "    }\n",
       "\n",
       "    .dataframe thead th {\n",
       "        text-align: right;\n",
       "    }\n",
       "</style>\n",
       "<table border=\"1\" class=\"dataframe\">\n",
       "  <thead>\n",
       "    <tr style=\"text-align: right;\">\n",
       "      <th></th>\n",
       "      <th>spkts</th>\n",
       "      <th>stime</th>\n",
       "      <th>ltime</th>\n",
       "      <th>dur</th>\n",
       "    </tr>\n",
       "  </thead>\n",
       "  <tbody>\n",
       "    <tr>\n",
       "      <th>0</th>\n",
       "      <td>2</td>\n",
       "      <td>1421927415</td>\n",
       "      <td>1421927415</td>\n",
       "      <td>0.000021</td>\n",
       "    </tr>\n",
       "    <tr>\n",
       "      <th>1</th>\n",
       "      <td>12</td>\n",
       "      <td>1421927416</td>\n",
       "      <td>1421927416</td>\n",
       "      <td>0.240139</td>\n",
       "    </tr>\n",
       "    <tr>\n",
       "      <th>2</th>\n",
       "      <td>14</td>\n",
       "      <td>1421927414</td>\n",
       "      <td>1421927416</td>\n",
       "      <td>2.390390</td>\n",
       "    </tr>\n",
       "    <tr>\n",
       "      <th>3</th>\n",
       "      <td>14</td>\n",
       "      <td>1421927417</td>\n",
       "      <td>1421927417</td>\n",
       "      <td>0.175190</td>\n",
       "    </tr>\n",
       "    <tr>\n",
       "      <th>4</th>\n",
       "      <td>10</td>\n",
       "      <td>1421927418</td>\n",
       "      <td>1421927418</td>\n",
       "      <td>0.190600</td>\n",
       "    </tr>\n",
       "    <tr>\n",
       "      <th>...</th>\n",
       "      <td>...</td>\n",
       "      <td>...</td>\n",
       "      <td>...</td>\n",
       "      <td>...</td>\n",
       "    </tr>\n",
       "    <tr>\n",
       "      <th>999064</th>\n",
       "      <td>6</td>\n",
       "      <td>1421955842</td>\n",
       "      <td>1421955842</td>\n",
       "      <td>0.020383</td>\n",
       "    </tr>\n",
       "    <tr>\n",
       "      <th>999065</th>\n",
       "      <td>364</td>\n",
       "      <td>1421955841</td>\n",
       "      <td>1421955842</td>\n",
       "      <td>1.402957</td>\n",
       "    </tr>\n",
       "    <tr>\n",
       "      <th>999066</th>\n",
       "      <td>24</td>\n",
       "      <td>1421955842</td>\n",
       "      <td>1421955842</td>\n",
       "      <td>0.007108</td>\n",
       "    </tr>\n",
       "    <tr>\n",
       "      <th>999067</th>\n",
       "      <td>4</td>\n",
       "      <td>1421955842</td>\n",
       "      <td>1421955842</td>\n",
       "      <td>0.004435</td>\n",
       "    </tr>\n",
       "    <tr>\n",
       "      <th>999068</th>\n",
       "      <td>72</td>\n",
       "      <td>1421955842</td>\n",
       "      <td>1421955842</td>\n",
       "      <td>0.072974</td>\n",
       "    </tr>\n",
       "  </tbody>\n",
       "</table>\n",
       "<p>999069 rows × 4 columns</p>\n",
       "</div>"
      ],
      "text/plain": [
       "        spkts       stime       ltime       dur\n",
       "0           2  1421927415  1421927415  0.000021\n",
       "1          12  1421927416  1421927416  0.240139\n",
       "2          14  1421927414  1421927416  2.390390\n",
       "3          14  1421927417  1421927417  0.175190\n",
       "4          10  1421927418  1421927418  0.190600\n",
       "...       ...         ...         ...       ...\n",
       "999064      6  1421955842  1421955842  0.020383\n",
       "999065    364  1421955841  1421955842  1.402957\n",
       "999066     24  1421955842  1421955842  0.007108\n",
       "999067      4  1421955842  1421955842  0.004435\n",
       "999068     72  1421955842  1421955842  0.072974\n",
       "\n",
       "[999069 rows x 4 columns]"
      ]
     },
     "execution_count": 48,
     "metadata": {},
     "output_type": "execute_result"
    }
   ],
   "source": [
    "data_df[['spkts','stime', 'ltime', 'dur']]"
   ]
  },
  {
   "cell_type": "code",
   "execution_count": 49,
   "metadata": {
    "execution": {
     "iopub.execute_input": "2025-01-14T08:00:55.950027Z",
     "iopub.status.busy": "2025-01-14T08:00:55.949796Z",
     "iopub.status.idle": "2025-01-14T08:00:55.956180Z",
     "shell.execute_reply": "2025-01-14T08:00:55.955285Z",
     "shell.execute_reply.started": "2025-01-14T08:00:55.950004Z"
    },
    "trusted": true
   },
   "outputs": [
    {
     "data": {
      "text/plain": [
       "0         1421927415\n",
       "1         1421927416\n",
       "2         1421927414\n",
       "3         1421927417\n",
       "4         1421927418\n",
       "             ...    \n",
       "999064    1421955842\n",
       "999065    1421955841\n",
       "999066    1421955842\n",
       "999067    1421955842\n",
       "999068    1421955842\n",
       "Name: stime, Length: 999069, dtype: int64"
      ]
     },
     "execution_count": 49,
     "metadata": {},
     "output_type": "execute_result"
    }
   ],
   "source": [
    "data_df['stime']"
   ]
  },
  {
   "cell_type": "code",
   "execution_count": null,
   "metadata": {
    "trusted": true
   },
   "outputs": [],
   "source": []
  },
  {
   "cell_type": "code",
   "execution_count": null,
   "metadata": {
    "trusted": true
   },
   "outputs": [],
   "source": []
  },
  {
   "cell_type": "code",
   "execution_count": 50,
   "metadata": {
    "execution": {
     "iopub.execute_input": "2025-01-14T08:00:55.957645Z",
     "iopub.status.busy": "2025-01-14T08:00:55.957299Z",
     "iopub.status.idle": "2025-01-14T08:00:55.974430Z",
     "shell.execute_reply": "2025-01-14T08:00:55.973686Z",
     "shell.execute_reply.started": "2025-01-14T08:00:55.957611Z"
    },
    "trusted": true
   },
   "outputs": [
    {
     "data": {
      "text/plain": [
       "spkts\n",
       "2      390843\n",
       "4       57835\n",
       "14      50037\n",
       "52      45602\n",
       "12      39782\n",
       "        ...  \n",
       "267         1\n",
       "125         1\n",
       "499         1\n",
       "513         1\n",
       "677         1\n",
       "Name: count, Length: 917, dtype: int64"
      ]
     },
     "execution_count": 50,
     "metadata": {},
     "output_type": "execute_result"
    }
   ],
   "source": [
    "data_df['spkts'].value_counts()"
   ]
  },
  {
   "cell_type": "code",
   "execution_count": 51,
   "metadata": {
    "execution": {
     "iopub.execute_input": "2025-01-14T08:00:55.975515Z",
     "iopub.status.busy": "2025-01-14T08:00:55.975268Z",
     "iopub.status.idle": "2025-01-14T08:00:55.991380Z",
     "shell.execute_reply": "2025-01-14T08:00:55.990558Z",
     "shell.execute_reply.started": "2025-01-14T08:00:55.975491Z"
    },
    "trusted": true
   },
   "outputs": [
    {
     "data": {
      "text/plain": [
       "spkts\n",
       "2      390843\n",
       "4       57835\n",
       "14      50037\n",
       "52      45602\n",
       "12      39782\n",
       "        ...  \n",
       "267         1\n",
       "125         1\n",
       "499         1\n",
       "513         1\n",
       "677         1\n",
       "Name: count, Length: 917, dtype: int64"
      ]
     },
     "execution_count": 51,
     "metadata": {},
     "output_type": "execute_result"
    }
   ],
   "source": [
    "feature_cols = ['spkts', 'stime', 'ltime', 'dur', 'src_ip_numeric', 'dst_ip_numeric']\n",
    "data_df['spkts'].value_counts()"
   ]
  },
  {
   "cell_type": "code",
   "execution_count": 52,
   "metadata": {
    "execution": {
     "iopub.execute_input": "2025-01-14T08:00:55.992571Z",
     "iopub.status.busy": "2025-01-14T08:00:55.992284Z",
     "iopub.status.idle": "2025-01-14T08:00:56.000622Z",
     "shell.execute_reply": "2025-01-14T08:00:55.999879Z",
     "shell.execute_reply.started": "2025-01-14T08:00:55.992541Z"
    },
    "trusted": true
   },
   "outputs": [],
   "source": [
    "device = torch.cuda"
   ]
  },
  {
   "cell_type": "code",
   "execution_count": 53,
   "metadata": {
    "execution": {
     "iopub.execute_input": "2025-01-14T08:00:56.002329Z",
     "iopub.status.busy": "2025-01-14T08:00:56.001886Z",
     "iopub.status.idle": "2025-01-14T08:00:56.026107Z",
     "shell.execute_reply": "2025-01-14T08:00:56.025474Z",
     "shell.execute_reply.started": "2025-01-14T08:00:56.002289Z"
    },
    "trusted": true
   },
   "outputs": [],
   "source": [
    "import numpy as np\n",
    "import torch\n",
    "import torch.nn as nn\n",
    "import torch.optim as optim\n",
    "from torch.utils.data import DataLoader, TensorDataset, random_split\n",
    "from sklearn.preprocessing import StandardScaler\n",
    "from sklearn.metrics import accuracy_score\n",
    "import pandas as pd\n",
    "\n",
    "class SimpleNN(nn.Module):\n",
    "    def __init__(self, input_dim):\n",
    "        super(SimpleNN, self).__init__()\n",
    "        self.network = nn.Sequential(\n",
    "            nn.Linear(input_dim, 128),\n",
    "            nn.ReLU(),\n",
    "            nn.Linear(128, 64),\n",
    "            nn.ReLU(),\n",
    "            nn.Linear(64, 2)\n",
    "        )\n",
    "    \n",
    "    def forward(self, x):\n",
    "        return self.network(x)\n",
    "\n",
    "class GradientMatchingCondenser:\n",
    "    def __init__(self, feature_dim, num_synthetic_samples_per_class=100,\n",
    "                 outer_steps=50, inner_steps=10, weight_steps=5, sample_steps=5,\n",
    "                 lr_weights=0.01, lr_synthetic=0.01):\n",
    "        self.feature_dim = feature_dim\n",
    "        self.num_synthetic_per_class = num_synthetic_samples_per_class\n",
    "        self.outer_steps = outer_steps\n",
    "        self.inner_steps = inner_steps\n",
    "        self.weight_steps = weight_steps\n",
    "        self.sample_steps = sample_steps\n",
    "        self.lr_weights = lr_weights\n",
    "        self.lr_synthetic = lr_synthetic\n",
    "        self.device = torch.device('cuda')\n",
    "        \n",
    "    def initialize_synthetic_data(self, num_classes):\n",
    "     \n",
    "        synthetic_data = torch.randn(num_classes * self.num_synthetic_per_class, \n",
    "                                   self.feature_dim, requires_grad=True, \n",
    "                                   device=self.device)\n",
    "        \n",
    "        # Create labels for synthetic data\n",
    "        synthetic_labels = torch.tensor([label for label in range(num_classes) \n",
    "                                       for _ in range(self.num_synthetic_per_class)],\n",
    "                                      device=self.device)\n",
    "        \n",
    "        return synthetic_data, synthetic_labels\n",
    "    \n",
    "    def compute_gradient_matching_loss(self, real_grads, synthetic_grads):\n",
    "        total_loss = torch.tensor(0.0, requires_grad=True, device=self.device)\n",
    "        \n",
    "        for rg, sg in zip(real_grads, synthetic_grads):\n",
    "            if rg is None or sg is None:\n",
    "                continue\n",
    "            rg_flat = rg.view(-1)\n",
    "            sg_flat = sg.view(-1)\n",
    "            cos_sim = torch.nn.functional.cosine_similarity(rg_flat, sg_flat, dim=0)\n",
    "            total_loss = total_loss + (1 - cos_sim)\n",
    "            \n",
    "        return total_loss\n",
    "\n",
    "    def get_gradients(self, model, data, labels, criterion):\n",
    "        model.zero_grad()\n",
    "        outputs = model(data)\n",
    "        loss = criterion(outputs, labels)\n",
    "        grad = torch.autograd.grad(loss, model.parameters(), create_graph=True)\n",
    "        return grad\n",
    "\n",
    "    def condense(self, real_data, real_labels):\n",
    "        # Move data to device\n",
    "        real_data = real_data.to(self.device)\n",
    "        real_labels = real_labels.to(self.device)\n",
    "        \n",
    "        # Initialize synthetic data\n",
    "        synthetic_data, synthetic_labels = self.initialize_synthetic_data(2)  # Binary classification\n",
    "        synthetic_optimizer = optim.Adam([synthetic_data], lr=self.lr_synthetic)\n",
    "        \n",
    "        criterion = nn.CrossEntropyLoss()\n",
    "        \n",
    "        for outer_step in range(self.outer_steps):\n",
    "            # Initialize a new network for each outer step\n",
    "            model = SimpleNN(self.feature_dim).to(self.device)\n",
    "            optimizer = optim.SGD(model.parameters(), lr=self.lr_weights)\n",
    "            \n",
    "            for inner_step in range(self.inner_steps):\n",
    "                synthetic_optimizer.zero_grad()\n",
    "                model.zero_grad()\n",
    "                \n",
    "                \n",
    "                for c in range(2):  \n",
    "                    class_mask_real = real_labels == c\n",
    "                    class_mask_synthetic = synthetic_labels == c\n",
    "                \n",
    "                \n",
    "                    real_indices = torch.nonzero(class_mask_real).squeeze()\n",
    "                    synthetic_indices = torch.nonzero(class_mask_synthetic).squeeze()\n",
    "                \n",
    "                   \n",
    "                    shuffled_real_indices = real_indices[torch.randperm(len(real_indices))]\n",
    "                    sampled_real_indices = shuffled_real_indices[:256]\n",
    "                \n",
    "                 \n",
    "                    real_batch_data = real_data[sampled_real_indices]\n",
    "                    real_batch_labels = real_labels[sampled_real_indices]\n",
    "                \n",
    "                  \n",
    "                    synthetic_batch_data = synthetic_data[class_mask_synthetic]\n",
    "                    synthetic_batch_labels = synthetic_labels[class_mask_synthetic]\n",
    "                    \n",
    "     \n",
    "                    real_grads = self.get_gradients(model, real_batch_data, \n",
    "                                                  real_batch_labels, criterion)\n",
    "                    synthetic_grads = self.get_gradients(model, synthetic_batch_data, \n",
    "                                                       synthetic_batch_labels, criterion)\n",
    "                    \n",
    "                 \n",
    "                    matching_loss = self.compute_gradient_matching_loss(real_grads, \n",
    "                                                                      synthetic_grads)\n",
    "                    matching_loss.backward(retain_graph=True)\n",
    "                \n",
    "             \n",
    "                synthetic_optimizer.step()\n",
    "                \n",
    "                # Update model weights using synthetic data\n",
    "                optimizer.zero_grad()\n",
    "                synthetic_outputs = model(synthetic_data)\n",
    "                loss = criterion(synthetic_outputs, synthetic_labels)\n",
    "                loss.backward()\n",
    "                optimizer.step()\n",
    "            \n",
    "            if outer_step % 10 == 0:\n",
    "                print(f\"Outer step {outer_step}, Matching Loss: {matching_loss.item():.4f}\")\n",
    "        \n",
    "        return synthetic_data.detach().cpu(), synthetic_labels.detach().cpu()\n",
    "\n",
    "def prepare_data(data_df, feature_cols, label_col, test_size=0.2):\n",
    "  \n",
    "    X = data_df[feature_cols].values\n",
    "    y = data_df[label_col].values\n",
    "    \n",
    "   \n",
    "    scaler = StandardScaler()\n",
    "    X_scaled = scaler.fit_transform(X)\n",
    "\n",
    "    X_tensor = torch.FloatTensor(X_scaled)\n",
    "    y_tensor = torch.LongTensor(y)\n",
    "    \n",
    "\n",
    "    dataset = TensorDataset(X_tensor, y_tensor)\n",
    "    train_size = int((1 - test_size) * len(dataset))\n",
    "    test_size = len(dataset) - train_size\n",
    "    train_dataset, test_dataset = random_split(dataset, [train_size, test_size])\n",
    "    \n",
    "    return train_dataset, test_dataset, scaler\n",
    "\n",
    "def train_and_evaluate(model, train_data, test_data, epochs=50):\n",
    "    device = torch.device('cuda')\n",
    "    model = model.to(device)\n",
    "    criterion = nn.CrossEntropyLoss()\n",
    "    optimizer = optim.Adam(model.parameters())\n",
    "    train_loader = DataLoader(train_data, batch_size=32, shuffle=True)\n",
    "    \n",
    "\n",
    "    for epoch in range(epochs):\n",
    "        model.train()\n",
    "        for batch_data, batch_labels in train_loader:\n",
    "            batch_data, batch_labels = batch_data.to(device), batch_labels.to(device)\n",
    "            optimizer.zero_grad()\n",
    "            outputs = model(batch_data)\n",
    "            loss = criterion(outputs, batch_labels)\n",
    "            loss.backward()\n",
    "            optimizer.step()\n",
    "    \n",
    "    # Evaluation\n",
    "    model.eval()\n",
    "    test_loader = DataLoader(test_data, batch_size=32)\n",
    "    all_preds = []\n",
    "    all_labels = []\n",
    "    \n",
    "    with torch.no_grad():\n",
    "        for batch_data, batch_labels in test_loader:\n",
    "            batch_data = batch_data.to(device)\n",
    "            outputs = model(batch_data)\n",
    "            _, predicted = torch.max(outputs.data, 1)\n",
    "            all_preds.extend(predicted.cpu().numpy())\n",
    "            all_labels.extend(batch_labels.numpy())\n",
    "    \n",
    "    return accuracy_score(all_labels, all_preds)\n",
    "    "
   ]
  },
  {
   "cell_type": "code",
   "execution_count": 54,
   "metadata": {
    "execution": {
     "iopub.execute_input": "2025-01-14T08:00:56.031856Z",
     "iopub.status.busy": "2025-01-14T08:00:56.031551Z",
     "iopub.status.idle": "2025-01-14T08:00:56.040290Z",
     "shell.execute_reply": "2025-01-14T08:00:56.039709Z",
     "shell.execute_reply.started": "2025-01-14T08:00:56.031832Z"
    },
    "trusted": true
   },
   "outputs": [],
   "source": [
    "\n",
    "### This is to test our data on a different model and comparing it with the performance of original data\n",
    "import torch.nn as nn\n",
    "\n",
    "class SimpleFeedForwardNN(nn.Module):\n",
    "    def __init__(self, input_dim, num_classes):\n",
    "        super(SimpleFeedForwardNN, self).__init__()\n",
    "        \n",
    "       \n",
    "        self.fc1 = nn.Linear(input_dim, 256)  \n",
    "        self.relu1 = nn.ReLU()\n",
    "        \n",
    "    \n",
    "        self.fc2 = nn.Linear(256, 128)  \n",
    "        self.relu2 = nn.ReLU()  # ReLU activation\n",
    "        \n",
    "        # Third hidden layer\n",
    "        self.fc3 = nn.Linear(128, 64)  \n",
    "        self.relu3 = nn.ReLU()  \n",
    "        \n",
    "        # Output layer\n",
    "        self.fc4 = nn.Linear(64, num_classes)  \n",
    "        \n",
    "    def forward(self, x):\n",
    "   \n",
    "        x = self.fc1(x)\n",
    "        x = self.relu1(x)\n",
    "        \n",
    "       \n",
    "        x = self.fc2(x)\n",
    "        x = self.relu2(x)\n",
    "        \n",
    "     \n",
    "        x = self.fc3(x)\n",
    "        x = self.relu3(x)\n",
    "        \n",
    "       \n",
    "        x = self.fc4(x)\n",
    "        \n",
    "        return x\n"
   ]
  },
  {
   "cell_type": "code",
   "execution_count": 55,
   "metadata": {
    "execution": {
     "iopub.execute_input": "2025-01-14T08:00:56.041650Z",
     "iopub.status.busy": "2025-01-14T08:00:56.041339Z",
     "iopub.status.idle": "2025-01-14T08:37:52.024899Z",
     "shell.execute_reply": "2025-01-14T08:37:52.024014Z",
     "shell.execute_reply.started": "2025-01-14T08:00:56.041617Z"
    },
    "trusted": true
   },
   "outputs": [
    {
     "name": "stdout",
     "output_type": "stream",
     "text": [
      "Outer step 0, Matching Loss: 1.8891\n",
      "Outer step 10, Matching Loss: 0.3987\n",
      "Outer step 20, Matching Loss: 0.2662\n",
      "Outer step 30, Matching Loss: 0.2354\n",
      "Outer step 40, Matching Loss: 0.2825\n",
      "Original Data Accuracy: 0.9955\n",
      "Synthetic Data Accuracy: 0.9757\n"
     ]
    }
   ],
   "source": [
    "label_col = 'label'\n",
    "\n",
    "train_dataset, test_dataset, scaler = prepare_data(data_df, feature_cols, label_col)\n",
    "feature_dim = len(feature_cols)\n",
    "\n",
    "condenser = GradientMatchingCondenser(\n",
    "    feature_dim=feature_dim,\n",
    "    num_synthetic_samples_per_class=100,  \n",
    "    outer_steps=50,\n",
    "    inner_steps=10\n",
    ")\n",
    "\n",
    "\n",
    "train_data = train_dataset.dataset.tensors[0][train_dataset.indices]\n",
    "train_labels = train_dataset.dataset.tensors[1][train_dataset.indices]\n",
    "\n",
    "\n",
    "synthetic_data, synthetic_labels = condenser.condense(train_data, train_labels)\n",
    "\n",
    "\n",
    "synthetic_dataset = TensorDataset(synthetic_data, synthetic_labels)\n",
    "\n",
    "\n",
    "model_original = SimpleFeedForwardNN(feature_dim,2)\n",
    "model_synthetic = SimpleFeedForwardNN(feature_dim,2)\n",
    "\n",
    "train_dataset, test_dataset, scaler = prepare_data(data_df, feature_cols, label_col)\n",
    "\n",
    "acc_original = train_and_evaluate(model_original, train_dataset, test_dataset)\n",
    "\n",
    "\n",
    "acc_synthetic = train_and_evaluate(model_synthetic, synthetic_dataset, test_dataset)\n",
    "\n",
    "print(f\"Original Data Accuracy: {acc_original:.4f}\")\n",
    "print(f\"Synthetic Data Accuracy: {acc_synthetic:.4f}\")"
   ]
  },
  {
   "cell_type": "code",
   "execution_count": 56,
   "metadata": {
    "execution": {
     "iopub.execute_input": "2025-01-14T08:37:52.027139Z",
     "iopub.status.busy": "2025-01-14T08:37:52.026222Z",
     "iopub.status.idle": "2025-01-14T08:37:52.064380Z",
     "shell.execute_reply": "2025-01-14T08:37:52.063676Z",
     "shell.execute_reply.started": "2025-01-14T08:37:52.027094Z"
    },
    "trusted": true
   },
   "outputs": [
    {
     "data": {
      "text/plain": [
       "tensor([[ 0.5232, -0.4181, -0.0397,  0.3457,  0.5301,  0.8881],\n",
       "        [-0.3723, -0.5271, -0.8320,  0.0053, -0.8592,  0.1059],\n",
       "        [ 1.0020, -0.4314, -1.2981, -0.0436, -0.4780,  0.3693],\n",
       "        ...,\n",
       "        [-0.1773,  2.3204,  2.9398,  0.1041,  1.7380, -0.4254],\n",
       "        [-0.4250,  1.6537,  1.8943,  0.0353,  1.6943,  0.0700],\n",
       "        [-0.2766,  2.1786,  1.8189,  0.0318,  1.2969,  0.0833]])"
      ]
     },
     "execution_count": 56,
     "metadata": {},
     "output_type": "execute_result"
    }
   ],
   "source": [
    "synthetic_data"
   ]
  },
  {
   "cell_type": "code",
   "execution_count": 57,
   "metadata": {
    "execution": {
     "iopub.execute_input": "2025-01-14T08:37:52.065641Z",
     "iopub.status.busy": "2025-01-14T08:37:52.065372Z",
     "iopub.status.idle": "2025-01-14T08:38:13.719309Z",
     "shell.execute_reply": "2025-01-14T08:38:13.718497Z",
     "shell.execute_reply.started": "2025-01-14T08:37:52.065615Z"
    },
    "trusted": true
   },
   "outputs": [],
   "source": [
    "data_df = data_df.sample(n=10000,random_state = 42)\n",
    "train_dataset, test_dataset, scaler = prepare_data(data_df, feature_cols, label_col)\n",
    "feature_dim = len(feature_cols)\n",
    "acc_original = train_and_evaluate(model_original, train_dataset, test_dataset)"
   ]
  },
  {
   "cell_type": "code",
   "execution_count": 58,
   "metadata": {
    "execution": {
     "iopub.execute_input": "2025-01-14T08:38:13.720698Z",
     "iopub.status.busy": "2025-01-14T08:38:13.720385Z",
     "iopub.status.idle": "2025-01-14T08:38:13.727466Z",
     "shell.execute_reply": "2025-01-14T08:38:13.726684Z",
     "shell.execute_reply.started": "2025-01-14T08:38:13.720641Z"
    },
    "trusted": true
   },
   "outputs": [
    {
     "data": {
      "text/plain": [
       "tensor([[ 0.5232, -0.4181, -0.0397,  0.3457,  0.5301,  0.8881],\n",
       "        [-0.3723, -0.5271, -0.8320,  0.0053, -0.8592,  0.1059],\n",
       "        [ 1.0020, -0.4314, -1.2981, -0.0436, -0.4780,  0.3693],\n",
       "        ...,\n",
       "        [-0.1773,  2.3204,  2.9398,  0.1041,  1.7380, -0.4254],\n",
       "        [-0.4250,  1.6537,  1.8943,  0.0353,  1.6943,  0.0700],\n",
       "        [-0.2766,  2.1786,  1.8189,  0.0318,  1.2969,  0.0833]])"
      ]
     },
     "execution_count": 58,
     "metadata": {},
     "output_type": "execute_result"
    }
   ],
   "source": [
    "synthetic_data"
   ]
  },
  {
   "cell_type": "code",
   "execution_count": 59,
   "metadata": {
    "execution": {
     "iopub.execute_input": "2025-01-14T08:38:13.728909Z",
     "iopub.status.busy": "2025-01-14T08:38:13.728500Z",
     "iopub.status.idle": "2025-01-14T08:38:13.738917Z",
     "shell.execute_reply": "2025-01-14T08:38:13.738161Z",
     "shell.execute_reply.started": "2025-01-14T08:38:13.728872Z"
    },
    "trusted": true
   },
   "outputs": [
    {
     "name": "stdout",
     "output_type": "stream",
     "text": [
      "Real Data Accuracy: 0.9950\n"
     ]
    }
   ],
   "source": [
    "print(f\"Real Data Accuracy: {acc_original:.4f}\")"
   ]
  },
  {
   "cell_type": "code",
   "execution_count": 60,
   "metadata": {
    "execution": {
     "iopub.execute_input": "2025-01-14T08:38:13.740026Z",
     "iopub.status.busy": "2025-01-14T08:38:13.739790Z",
     "iopub.status.idle": "2025-01-14T08:38:14.395358Z",
     "shell.execute_reply": "2025-01-14T08:38:14.394710Z",
     "shell.execute_reply.started": "2025-01-14T08:38:13.740002Z"
    },
    "trusted": true
   },
   "outputs": [],
   "source": [
    "device = torch.cuda\n",
    "acc_synthetic = train_and_evaluate(model_synthetic, synthetic_dataset, test_dataset)"
   ]
  },
  {
   "cell_type": "code",
   "execution_count": 61,
   "metadata": {
    "execution": {
     "iopub.execute_input": "2025-01-14T08:38:14.396626Z",
     "iopub.status.busy": "2025-01-14T08:38:14.396382Z",
     "iopub.status.idle": "2025-01-14T08:38:14.401540Z",
     "shell.execute_reply": "2025-01-14T08:38:14.400488Z",
     "shell.execute_reply.started": "2025-01-14T08:38:14.396598Z"
    },
    "trusted": true
   },
   "outputs": [
    {
     "name": "stdout",
     "output_type": "stream",
     "text": [
      "Synthetic Data Accuracy: 0.9895\n"
     ]
    }
   ],
   "source": [
    "print(f\"Synthetic Data Accuracy: {acc_synthetic:.4f}\")"
   ]
  },
  {
   "cell_type": "code",
   "execution_count": 62,
   "metadata": {
    "execution": {
     "iopub.execute_input": "2025-01-14T08:38:14.402777Z",
     "iopub.status.busy": "2025-01-14T08:38:14.402522Z",
     "iopub.status.idle": "2025-01-14T08:38:14.413794Z",
     "shell.execute_reply": "2025-01-14T08:38:14.412963Z",
     "shell.execute_reply.started": "2025-01-14T08:38:14.402753Z"
    },
    "trusted": true
   },
   "outputs": [
    {
     "data": {
      "text/plain": [
       "tensor([0, 0, 0, 0, 0, 0, 0, 0, 0, 0, 0, 0, 0, 0, 0, 0, 0, 0, 0, 0, 0, 0, 0, 0,\n",
       "        0, 0, 0, 0, 0, 0, 0, 0, 0, 0, 0, 0, 0, 0, 0, 0, 0, 0, 0, 0, 0, 0, 0, 0,\n",
       "        0, 0, 0, 0, 0, 0, 0, 0, 0, 0, 0, 0, 0, 0, 0, 0, 0, 0, 0, 0, 0, 0, 0, 0,\n",
       "        0, 0, 0, 0, 0, 0, 0, 0, 0, 0, 0, 0, 0, 0, 0, 0, 0, 0, 0, 0, 0, 0, 0, 0,\n",
       "        0, 0, 0, 0, 1, 1, 1, 1, 1, 1, 1, 1, 1, 1, 1, 1, 1, 1, 1, 1, 1, 1, 1, 1,\n",
       "        1, 1, 1, 1, 1, 1, 1, 1, 1, 1, 1, 1, 1, 1, 1, 1, 1, 1, 1, 1, 1, 1, 1, 1,\n",
       "        1, 1, 1, 1, 1, 1, 1, 1, 1, 1, 1, 1, 1, 1, 1, 1, 1, 1, 1, 1, 1, 1, 1, 1,\n",
       "        1, 1, 1, 1, 1, 1, 1, 1, 1, 1, 1, 1, 1, 1, 1, 1, 1, 1, 1, 1, 1, 1, 1, 1,\n",
       "        1, 1, 1, 1, 1, 1, 1, 1])"
      ]
     },
     "execution_count": 62,
     "metadata": {},
     "output_type": "execute_result"
    }
   ],
   "source": [
    "synthetic_labels"
   ]
  },
  {
   "cell_type": "code",
   "execution_count": 63,
   "metadata": {
    "execution": {
     "iopub.execute_input": "2025-01-14T08:38:14.418877Z",
     "iopub.status.busy": "2025-01-14T08:38:14.418605Z",
     "iopub.status.idle": "2025-01-14T08:38:14.438770Z",
     "shell.execute_reply": "2025-01-14T08:38:14.437939Z",
     "shell.execute_reply.started": "2025-01-14T08:38:14.418853Z"
    },
    "trusted": true
   },
   "outputs": [
    {
     "name": "stdout",
     "output_type": "stream",
     "text": [
      "Unique Value Counts:\n",
      "         Value  Count\n",
      "0    -1.611044      1\n",
      "1    -1.576257      1\n",
      "2    -1.575053      1\n",
      "3    -1.534517      1\n",
      "4    -1.520900      1\n",
      "...        ...    ...\n",
      "1195  2.741357      1\n",
      "1196  2.893723      1\n",
      "1197  2.938779      1\n",
      "1198  2.939793      1\n",
      "1199  3.198317      1\n",
      "\n",
      "[1200 rows x 2 columns]\n"
     ]
    }
   ],
   "source": [
    "tensor_flattened = synthetic_data.flatten()\n",
    "\n",
    "\n",
    "unique_values, counts = torch.unique(tensor_flattened, return_counts=True)\n",
    "\n",
    "\n",
    "import pandas as pd\n",
    "df = pd.DataFrame({'Value': unique_values.numpy(), 'Count': counts.numpy()})\n",
    "\n",
    "print(\"Unique Value Counts:\")\n",
    "print(df)"
   ]
  },
  {
   "cell_type": "markdown",
   "metadata": {},
   "source": [
    "# Note that work below this cell is not related to the update of 14th Jan"
   ]
  },
  {
   "cell_type": "code",
   "execution_count": 62,
   "metadata": {
    "execution": {
     "iopub.execute_input": "2025-01-11T16:24:50.256689Z",
     "iopub.status.busy": "2025-01-11T16:24:50.256348Z",
     "iopub.status.idle": "2025-01-11T16:24:50.594234Z",
     "shell.execute_reply": "2025-01-11T16:24:50.593232Z",
     "shell.execute_reply.started": "2025-01-11T16:24:50.256660Z"
    },
    "trusted": true
   },
   "outputs": [],
   "source": [
    "feature_cols = ['spkts', 'stime', 'ltime', 'dur']\n",
    "num_classes = 2\n",
    "ipc = 1000  # Points per class\n",
    "\n",
    "# Separate data by label\n",
    "synthetic_data = []\n",
    "synthetic_labels = []\n",
    "\n",
    "for label in range(num_classes):\n",
    "    # Filter data for the current class\n",
    "    class_data = data_df[data_df['label'] == label][feature_cols].values\n",
    "    class_tensor = torch.tensor(class_data, dtype=torch.float)\n",
    "\n",
    "    # Select `ipc` random points\n",
    "    random_indices = torch.randint(0, len(class_tensor), (ipc,))\n",
    "    synthetic_real = class_tensor[random_indices]\n",
    "\n",
    "    # Randomize a subset of the selected points\n",
    "    random_offset = torch.randn_like(synthetic_real) * 0.1  # Adjust noise scale if needed\n",
    "    synthetic_real += random_offset\n",
    "\n",
    "    # Append synthetic data and corresponding labels\n",
    "    synthetic_data.append(synthetic_real)\n",
    "    synthetic_labels.extend([label] * ipc)\n",
    "\n",
    "# Combine all synthetic data and labels\n",
    "synthetic_data = torch.cat(synthetic_data, dim=0)\n",
    "synthetic_labels = torch.tensor(synthetic_labels, dtype=torch.long)\n",
    "\n",
    "# Convert synthetic data back to DataFrame\n",
    "synthetic_df = pd.DataFrame(synthetic_data.numpy(), columns=feature_cols)\n",
    "synthetic_df['label'] = synthetic_labels.numpy()\n",
    "\n"
   ]
  },
  {
   "cell_type": "code",
   "execution_count": 102,
   "metadata": {
    "execution": {
     "iopub.execute_input": "2025-01-07T12:53:41.958481Z",
     "iopub.status.busy": "2025-01-07T12:53:41.957845Z",
     "iopub.status.idle": "2025-01-07T12:53:41.970907Z",
     "shell.execute_reply": "2025-01-07T12:53:41.970079Z",
     "shell.execute_reply.started": "2025-01-07T12:53:41.958449Z"
    },
    "trusted": true
   },
   "outputs": [
    {
     "data": {
      "text/html": [
       "<div>\n",
       "<style scoped>\n",
       "    .dataframe tbody tr th:only-of-type {\n",
       "        vertical-align: middle;\n",
       "    }\n",
       "\n",
       "    .dataframe tbody tr th {\n",
       "        vertical-align: top;\n",
       "    }\n",
       "\n",
       "    .dataframe thead th {\n",
       "        text-align: right;\n",
       "    }\n",
       "</style>\n",
       "<table border=\"1\" class=\"dataframe\">\n",
       "  <thead>\n",
       "    <tr style=\"text-align: right;\">\n",
       "      <th></th>\n",
       "      <th>spkts</th>\n",
       "      <th>stime</th>\n",
       "      <th>ltime</th>\n",
       "      <th>dur</th>\n",
       "      <th>label</th>\n",
       "    </tr>\n",
       "  </thead>\n",
       "  <tbody>\n",
       "    <tr>\n",
       "      <th>0</th>\n",
       "      <td>2.112052</td>\n",
       "      <td>1.421948e+09</td>\n",
       "      <td>1.421948e+09</td>\n",
       "      <td>0.094689</td>\n",
       "      <td>0</td>\n",
       "    </tr>\n",
       "    <tr>\n",
       "      <th>1</th>\n",
       "      <td>2.144625</td>\n",
       "      <td>1.421949e+09</td>\n",
       "      <td>1.421949e+09</td>\n",
       "      <td>-0.138674</td>\n",
       "      <td>0</td>\n",
       "    </tr>\n",
       "    <tr>\n",
       "      <th>2</th>\n",
       "      <td>11.949087</td>\n",
       "      <td>1.421947e+09</td>\n",
       "      <td>1.421947e+09</td>\n",
       "      <td>1.008140</td>\n",
       "      <td>0</td>\n",
       "    </tr>\n",
       "    <tr>\n",
       "      <th>3</th>\n",
       "      <td>59.898613</td>\n",
       "      <td>1.421929e+09</td>\n",
       "      <td>1.421929e+09</td>\n",
       "      <td>0.177062</td>\n",
       "      <td>0</td>\n",
       "    </tr>\n",
       "    <tr>\n",
       "      <th>4</th>\n",
       "      <td>192.196579</td>\n",
       "      <td>1.421928e+09</td>\n",
       "      <td>1.421928e+09</td>\n",
       "      <td>0.294260</td>\n",
       "      <td>0</td>\n",
       "    </tr>\n",
       "    <tr>\n",
       "      <th>...</th>\n",
       "      <td>...</td>\n",
       "      <td>...</td>\n",
       "      <td>...</td>\n",
       "      <td>...</td>\n",
       "      <td>...</td>\n",
       "    </tr>\n",
       "    <tr>\n",
       "      <th>1995</th>\n",
       "      <td>2.003206</td>\n",
       "      <td>1.424240e+09</td>\n",
       "      <td>1.424240e+09</td>\n",
       "      <td>0.126244</td>\n",
       "      <td>1</td>\n",
       "    </tr>\n",
       "    <tr>\n",
       "      <th>1996</th>\n",
       "      <td>2.035321</td>\n",
       "      <td>1.424232e+09</td>\n",
       "      <td>1.424232e+09</td>\n",
       "      <td>0.052460</td>\n",
       "      <td>1</td>\n",
       "    </tr>\n",
       "    <tr>\n",
       "      <th>1997</th>\n",
       "      <td>1.901305</td>\n",
       "      <td>1.424238e+09</td>\n",
       "      <td>1.424238e+09</td>\n",
       "      <td>0.038794</td>\n",
       "      <td>1</td>\n",
       "    </tr>\n",
       "    <tr>\n",
       "      <th>1998</th>\n",
       "      <td>2.119006</td>\n",
       "      <td>1.424232e+09</td>\n",
       "      <td>1.424232e+09</td>\n",
       "      <td>0.018765</td>\n",
       "      <td>1</td>\n",
       "    </tr>\n",
       "    <tr>\n",
       "      <th>1999</th>\n",
       "      <td>1.946034</td>\n",
       "      <td>1.424225e+09</td>\n",
       "      <td>1.424225e+09</td>\n",
       "      <td>-0.025332</td>\n",
       "      <td>1</td>\n",
       "    </tr>\n",
       "  </tbody>\n",
       "</table>\n",
       "<p>2000 rows × 5 columns</p>\n",
       "</div>"
      ],
      "text/plain": [
       "           spkts         stime         ltime       dur  label\n",
       "0       2.112052  1.421948e+09  1.421948e+09  0.094689      0\n",
       "1       2.144625  1.421949e+09  1.421949e+09 -0.138674      0\n",
       "2      11.949087  1.421947e+09  1.421947e+09  1.008140      0\n",
       "3      59.898613  1.421929e+09  1.421929e+09  0.177062      0\n",
       "4     192.196579  1.421928e+09  1.421928e+09  0.294260      0\n",
       "...          ...           ...           ...       ...    ...\n",
       "1995    2.003206  1.424240e+09  1.424240e+09  0.126244      1\n",
       "1996    2.035321  1.424232e+09  1.424232e+09  0.052460      1\n",
       "1997    1.901305  1.424238e+09  1.424238e+09  0.038794      1\n",
       "1998    2.119006  1.424232e+09  1.424232e+09  0.018765      1\n",
       "1999    1.946034  1.424225e+09  1.424225e+09 -0.025332      1\n",
       "\n",
       "[2000 rows x 5 columns]"
      ]
     },
     "execution_count": 102,
     "metadata": {},
     "output_type": "execute_result"
    }
   ],
   "source": [
    "synthetic_df"
   ]
  },
  {
   "cell_type": "code",
   "execution_count": 103,
   "metadata": {
    "execution": {
     "iopub.execute_input": "2025-01-07T12:53:43.506801Z",
     "iopub.status.busy": "2025-01-07T12:53:43.506427Z",
     "iopub.status.idle": "2025-01-07T12:53:43.514562Z",
     "shell.execute_reply": "2025-01-07T12:53:43.513843Z",
     "shell.execute_reply.started": "2025-01-07T12:53:43.506771Z"
    },
    "trusted": true
   },
   "outputs": [
    {
     "name": "stdout",
     "output_type": "stream",
     "text": [
      "Training set size: 1600\n",
      "Testing set size: 400\n"
     ]
    }
   ],
   "source": [
    "from sklearn.model_selection import train_test_split\n",
    "\n",
    "# Perform train-test split\n",
    "train_df, test_df = train_test_split(synthetic_df, test_size=0.2, random_state=42, stratify=synthetic_df['label'])\n",
    "\n",
    "# Display the sizes of the splits\n",
    "print(f\"Training set size: {len(train_df)}\")\n",
    "print(f\"Testing set size: {len(test_df)}\")"
   ]
  },
  {
   "cell_type": "code",
   "execution_count": 104,
   "metadata": {
    "execution": {
     "iopub.execute_input": "2025-01-07T12:53:45.020612Z",
     "iopub.status.busy": "2025-01-07T12:53:45.019982Z",
     "iopub.status.idle": "2025-01-07T12:53:45.026009Z",
     "shell.execute_reply": "2025-01-07T12:53:45.025127Z",
     "shell.execute_reply.started": "2025-01-07T12:53:45.020581Z"
    },
    "trusted": true
   },
   "outputs": [
    {
     "name": "stdout",
     "output_type": "stream",
     "text": [
      "label\n",
      "0    1000\n",
      "1    1000\n",
      "Name: count, dtype: int64\n"
     ]
    }
   ],
   "source": [
    "print(synthetic_df['label'].value_counts())"
   ]
  },
  {
   "cell_type": "code",
   "execution_count": 105,
   "metadata": {
    "execution": {
     "iopub.execute_input": "2025-01-07T12:53:45.990130Z",
     "iopub.status.busy": "2025-01-07T12:53:45.989216Z",
     "iopub.status.idle": "2025-01-07T12:53:46.002327Z",
     "shell.execute_reply": "2025-01-07T12:53:46.001387Z",
     "shell.execute_reply.started": "2025-01-07T12:53:45.990081Z"
    },
    "trusted": true
   },
   "outputs": [
    {
     "data": {
      "text/html": [
       "<div>\n",
       "<style scoped>\n",
       "    .dataframe tbody tr th:only-of-type {\n",
       "        vertical-align: middle;\n",
       "    }\n",
       "\n",
       "    .dataframe tbody tr th {\n",
       "        vertical-align: top;\n",
       "    }\n",
       "\n",
       "    .dataframe thead th {\n",
       "        text-align: right;\n",
       "    }\n",
       "</style>\n",
       "<table border=\"1\" class=\"dataframe\">\n",
       "  <thead>\n",
       "    <tr style=\"text-align: right;\">\n",
       "      <th></th>\n",
       "      <th>spkts</th>\n",
       "      <th>stime</th>\n",
       "      <th>ltime</th>\n",
       "      <th>dur</th>\n",
       "      <th>label</th>\n",
       "    </tr>\n",
       "  </thead>\n",
       "  <tbody>\n",
       "    <tr>\n",
       "      <th>0</th>\n",
       "      <td>2.112052</td>\n",
       "      <td>1.421948e+09</td>\n",
       "      <td>1.421948e+09</td>\n",
       "      <td>0.094689</td>\n",
       "      <td>0</td>\n",
       "    </tr>\n",
       "    <tr>\n",
       "      <th>1</th>\n",
       "      <td>2.144625</td>\n",
       "      <td>1.421949e+09</td>\n",
       "      <td>1.421949e+09</td>\n",
       "      <td>-0.138674</td>\n",
       "      <td>0</td>\n",
       "    </tr>\n",
       "    <tr>\n",
       "      <th>2</th>\n",
       "      <td>11.949087</td>\n",
       "      <td>1.421947e+09</td>\n",
       "      <td>1.421947e+09</td>\n",
       "      <td>1.008140</td>\n",
       "      <td>0</td>\n",
       "    </tr>\n",
       "    <tr>\n",
       "      <th>3</th>\n",
       "      <td>59.898613</td>\n",
       "      <td>1.421929e+09</td>\n",
       "      <td>1.421929e+09</td>\n",
       "      <td>0.177062</td>\n",
       "      <td>0</td>\n",
       "    </tr>\n",
       "    <tr>\n",
       "      <th>4</th>\n",
       "      <td>192.196579</td>\n",
       "      <td>1.421928e+09</td>\n",
       "      <td>1.421928e+09</td>\n",
       "      <td>0.294260</td>\n",
       "      <td>0</td>\n",
       "    </tr>\n",
       "    <tr>\n",
       "      <th>...</th>\n",
       "      <td>...</td>\n",
       "      <td>...</td>\n",
       "      <td>...</td>\n",
       "      <td>...</td>\n",
       "      <td>...</td>\n",
       "    </tr>\n",
       "    <tr>\n",
       "      <th>1995</th>\n",
       "      <td>2.003206</td>\n",
       "      <td>1.424240e+09</td>\n",
       "      <td>1.424240e+09</td>\n",
       "      <td>0.126244</td>\n",
       "      <td>1</td>\n",
       "    </tr>\n",
       "    <tr>\n",
       "      <th>1996</th>\n",
       "      <td>2.035321</td>\n",
       "      <td>1.424232e+09</td>\n",
       "      <td>1.424232e+09</td>\n",
       "      <td>0.052460</td>\n",
       "      <td>1</td>\n",
       "    </tr>\n",
       "    <tr>\n",
       "      <th>1997</th>\n",
       "      <td>1.901305</td>\n",
       "      <td>1.424238e+09</td>\n",
       "      <td>1.424238e+09</td>\n",
       "      <td>0.038794</td>\n",
       "      <td>1</td>\n",
       "    </tr>\n",
       "    <tr>\n",
       "      <th>1998</th>\n",
       "      <td>2.119006</td>\n",
       "      <td>1.424232e+09</td>\n",
       "      <td>1.424232e+09</td>\n",
       "      <td>0.018765</td>\n",
       "      <td>1</td>\n",
       "    </tr>\n",
       "    <tr>\n",
       "      <th>1999</th>\n",
       "      <td>1.946034</td>\n",
       "      <td>1.424225e+09</td>\n",
       "      <td>1.424225e+09</td>\n",
       "      <td>-0.025332</td>\n",
       "      <td>1</td>\n",
       "    </tr>\n",
       "  </tbody>\n",
       "</table>\n",
       "<p>2000 rows × 5 columns</p>\n",
       "</div>"
      ],
      "text/plain": [
       "           spkts         stime         ltime       dur  label\n",
       "0       2.112052  1.421948e+09  1.421948e+09  0.094689      0\n",
       "1       2.144625  1.421949e+09  1.421949e+09 -0.138674      0\n",
       "2      11.949087  1.421947e+09  1.421947e+09  1.008140      0\n",
       "3      59.898613  1.421929e+09  1.421929e+09  0.177062      0\n",
       "4     192.196579  1.421928e+09  1.421928e+09  0.294260      0\n",
       "...          ...           ...           ...       ...    ...\n",
       "1995    2.003206  1.424240e+09  1.424240e+09  0.126244      1\n",
       "1996    2.035321  1.424232e+09  1.424232e+09  0.052460      1\n",
       "1997    1.901305  1.424238e+09  1.424238e+09  0.038794      1\n",
       "1998    2.119006  1.424232e+09  1.424232e+09  0.018765      1\n",
       "1999    1.946034  1.424225e+09  1.424225e+09 -0.025332      1\n",
       "\n",
       "[2000 rows x 5 columns]"
      ]
     },
     "execution_count": 105,
     "metadata": {},
     "output_type": "execute_result"
    }
   ],
   "source": [
    "synthetic_df"
   ]
  },
  {
   "cell_type": "code",
   "execution_count": 106,
   "metadata": {
    "execution": {
     "iopub.execute_input": "2025-01-07T12:53:49.432296Z",
     "iopub.status.busy": "2025-01-07T12:53:49.431501Z",
     "iopub.status.idle": "2025-01-07T12:53:49.435958Z",
     "shell.execute_reply": "2025-01-07T12:53:49.434978Z",
     "shell.execute_reply.started": "2025-01-07T12:53:49.432264Z"
    },
    "trusted": true
   },
   "outputs": [],
   "source": [
    "iterations = 500"
   ]
  },
  {
   "cell_type": "code",
   "execution_count": null,
   "metadata": {
    "trusted": true
   },
   "outputs": [],
   "source": []
  },
  {
   "cell_type": "code",
   "execution_count": null,
   "metadata": {
    "trusted": true
   },
   "outputs": [],
   "source": []
  },
  {
   "cell_type": "code",
   "execution_count": null,
   "metadata": {
    "trusted": true
   },
   "outputs": [],
   "source": []
  },
  {
   "cell_type": "code",
   "execution_count": null,
   "metadata": {
    "trusted": true
   },
   "outputs": [],
   "source": []
  },
  {
   "cell_type": "code",
   "execution_count": null,
   "metadata": {
    "trusted": true
   },
   "outputs": [],
   "source": []
  },
  {
   "cell_type": "code",
   "execution_count": 59,
   "metadata": {
    "execution": {
     "iopub.execute_input": "2025-01-14T07:24:15.741378Z",
     "iopub.status.busy": "2025-01-14T07:24:15.741094Z",
     "iopub.status.idle": "2025-01-14T07:24:15.746602Z",
     "shell.execute_reply": "2025-01-14T07:24:15.745808Z",
     "shell.execute_reply.started": "2025-01-14T07:24:15.741351Z"
    },
    "trusted": true
   },
   "outputs": [
    {
     "data": {
      "text/plain": [
       "''"
      ]
     },
     "execution_count": 59,
     "metadata": {},
     "output_type": "execute_result"
    }
   ],
   "source": []
  },
  {
   "cell_type": "code",
   "execution_count": null,
   "metadata": {
    "trusted": true
   },
   "outputs": [],
   "source": []
  },
  {
   "cell_type": "code",
   "execution_count": null,
   "metadata": {
    "trusted": true
   },
   "outputs": [],
   "source": []
  },
  {
   "cell_type": "code",
   "execution_count": null,
   "metadata": {
    "trusted": true
   },
   "outputs": [],
   "source": []
  },
  {
   "cell_type": "code",
   "execution_count": 58,
   "metadata": {
    "execution": {
     "iopub.execute_input": "2025-01-14T07:23:07.338538Z",
     "iopub.status.busy": "2025-01-14T07:23:07.338035Z",
     "iopub.status.idle": "2025-01-14T07:24:15.739785Z",
     "shell.execute_reply": "2025-01-14T07:24:15.738942Z",
     "shell.execute_reply.started": "2025-01-14T07:23:07.338505Z"
    },
    "trusted": true
   },
   "outputs": [
    {
     "name": "stderr",
     "output_type": "stream",
     "text": [
      "/opt/conda/lib/python3.10/site-packages/sklearn/cluster/_kmeans.py:870: FutureWarning: The default value of `n_init` will change from 10 to 'auto' in 1.4. Set the value of `n_init` explicitly to suppress the warning\n",
      "  warnings.warn(\n",
      "/tmp/ipykernel_30/2421901524.py:33: FutureWarning: Setting an item of incompatible dtype is deprecated and will raise an error in a future version of pandas. Value '34.47967777992629' has dtype incompatible with int64, please explicitly cast to a compatible dtype first.\n",
      "  data_df.loc[data_df['feature_cluster'] == cluster_id, feature] = perturbed_mean\n",
      "/tmp/ipykernel_30/2421901524.py:33: FutureWarning: Setting an item of incompatible dtype is deprecated and will raise an error in a future version of pandas. Value '1421927640.018331' has dtype incompatible with int64, please explicitly cast to a compatible dtype first.\n",
      "  data_df.loc[data_df['feature_cluster'] == cluster_id, feature] = perturbed_mean\n",
      "/tmp/ipykernel_30/2421901524.py:33: FutureWarning: Setting an item of incompatible dtype is deprecated and will raise an error in a future version of pandas. Value '1421927639.1819675' has dtype incompatible with int64, please explicitly cast to a compatible dtype first.\n",
      "  data_df.loc[data_df['feature_cluster'] == cluster_id, feature] = perturbed_mean\n"
     ]
    },
    {
     "name": "stdout",
     "output_type": "stream",
     "text": [
      "               stime         ltime       dur\n",
      "0       1.421928e+09  1.421928e+09  2.029604\n",
      "1       1.421928e+09  1.421928e+09  2.029604\n",
      "2       1.421928e+09  1.421928e+09  2.029604\n",
      "3       1.421928e+09  1.421928e+09  2.029604\n",
      "4       1.421928e+09  1.421928e+09  2.029604\n",
      "...              ...           ...       ...\n",
      "999064  1.421956e+09  1.421956e+09 -0.444617\n",
      "999065  1.421956e+09  1.421956e+09 -0.444617\n",
      "999066  1.421956e+09  1.421956e+09 -0.444617\n",
      "999067  1.421956e+09  1.421956e+09 -0.444617\n",
      "999068  1.421956e+09  1.421956e+09 -0.444617\n",
      "\n",
      "[999069 rows x 3 columns]\n"
     ]
    }
   ],
   "source": [
    "from sklearn.cluster import KMeans\n",
    "from numpy.random import laplace\n",
    "import numpy as np\n",
    "\n",
    "\n",
    "K_features = 100\n",
    "epsilon = 1.0   \n",
    "\n",
    "\n",
    "feature_cols = ['spkts', 'stime', 'ltime', 'dur']\n",
    "kmeans_features = KMeans(n_clusters=K_features, random_state=42)\n",
    "data_df['feature_cluster'] = kmeans_features.fit_predict(data_df[feature_cols])\n",
    "\n",
    "\n",
    "def apply_differential_privacy_means(df, features, epsilon):\n",
    "    perturbed_means = {}\n",
    "    for feature in features:\n",
    "        perturbed_means[feature] = {}\n",
    "        for cluster_id in df['feature_cluster'].unique():\n",
    "            cluster_data = df[df['feature_cluster'] == cluster_id][feature]\n",
    "            mean = cluster_data.mean()\n",
    "            noise = laplace(0, 1 / epsilon)  # Laplace noise\n",
    "            perturbed_means[feature][cluster_id] = mean + noise\n",
    "            \n",
    "    return perturbed_means\n",
    "\n",
    "perturbed_means = apply_differential_privacy_means(data_df, feature_cols, epsilon)\n",
    "\n",
    "\n",
    "\n",
    "for feature in feature_cols:\n",
    "    for cluster_id, perturbed_mean in perturbed_means[feature].items():\n",
    "        data_df.loc[data_df['feature_cluster'] == cluster_id, feature] = perturbed_mean\n",
    "\n",
    "\n",
    "\n",
    "print(data_df[['stime', 'ltime', 'dur']])\n"
   ]
  },
  {
   "cell_type": "code",
   "execution_count": 146,
   "metadata": {
    "execution": {
     "iopub.execute_input": "2024-11-10T17:48:49.373379Z",
     "iopub.status.busy": "2024-11-10T17:48:49.372828Z",
     "iopub.status.idle": "2024-11-10T17:48:49.409518Z",
     "shell.execute_reply": "2024-11-10T17:48:49.407079Z",
     "shell.execute_reply.started": "2024-11-10T17:48:49.373324Z"
    },
    "trusted": true
   },
   "outputs": [
    {
     "data": {
      "text/plain": [
       "spkts\n",
       "81.986622    32556\n",
       "53.927177    26199\n",
       "52.986262    25952\n",
       "27.034063    19151\n",
       "36.268354    17115\n",
       "             ...  \n",
       "21.065616     1774\n",
       "18.818854     1597\n",
       "21.910642     1566\n",
       "23.594220     1328\n",
       "21.968637     1120\n",
       "Name: count, Length: 100, dtype: int64"
      ]
     },
     "execution_count": 146,
     "metadata": {},
     "output_type": "execute_result"
    }
   ],
   "source": [
    "data_df['spkts'].value_counts()"
   ]
  },
  {
   "cell_type": "code",
   "execution_count": null,
   "metadata": {
    "execution": {
     "iopub.status.busy": "2024-11-10T17:48:05.717277Z",
     "iopub.status.idle": "2024-11-10T17:48:05.717855Z",
     "shell.execute_reply": "2024-11-10T17:48:05.717621Z",
     "shell.execute_reply.started": "2024-11-10T17:48:05.717596Z"
    },
    "trusted": true
   },
   "outputs": [],
   "source": [
    "data_df['spkts'].value_counts()"
   ]
  },
  {
   "cell_type": "code",
   "execution_count": 51,
   "metadata": {
    "execution": {
     "iopub.execute_input": "2024-11-10T16:52:10.781879Z",
     "iopub.status.busy": "2024-11-10T16:52:10.781362Z",
     "iopub.status.idle": "2024-11-10T16:52:11.056318Z",
     "shell.execute_reply": "2024-11-10T16:52:11.055202Z",
     "shell.execute_reply.started": "2024-11-10T16:52:10.781800Z"
    },
    "trusted": true
   },
   "outputs": [],
   "source": [
    "data_df = data_df.drop('feature_cluster', axis = 1)\n",
    "\n"
   ]
  },
  {
   "cell_type": "code",
   "execution_count": 52,
   "metadata": {
    "execution": {
     "iopub.execute_input": "2024-11-10T16:52:11.058206Z",
     "iopub.status.busy": "2024-11-10T16:52:11.057757Z",
     "iopub.status.idle": "2024-11-10T16:52:11.391945Z",
     "shell.execute_reply": "2024-11-10T16:52:11.390847Z",
     "shell.execute_reply.started": "2024-11-10T16:52:11.058164Z"
    },
    "trusted": true
   },
   "outputs": [],
   "source": [
    "# Specify the two columns you want at the start\n",
    "cols_to_move = ['src_ip_numeric', 'dst_ip_numeric']\n",
    "\n",
    "# Get the remaining columns\n",
    "remaining_cols = [col for col in data_df.columns if col not in cols_to_move]\n",
    "\n",
    "# Reorder the DataFrame\n",
    "data_df = data_df[cols_to_move + remaining_cols]"
   ]
  },
  {
   "cell_type": "code",
   "execution_count": 53,
   "metadata": {
    "execution": {
     "iopub.execute_input": "2024-11-10T16:52:11.394152Z",
     "iopub.status.busy": "2024-11-10T16:52:11.393454Z",
     "iopub.status.idle": "2024-11-10T16:52:12.039183Z",
     "shell.execute_reply": "2024-11-10T16:52:12.037896Z",
     "shell.execute_reply.started": "2024-11-10T16:52:11.394099Z"
    },
    "trusted": true
   },
   "outputs": [
    {
     "data": {
      "text/html": [
       "<div>\n",
       "<style scoped>\n",
       "    .dataframe tbody tr th:only-of-type {\n",
       "        vertical-align: middle;\n",
       "    }\n",
       "\n",
       "    .dataframe tbody tr th {\n",
       "        vertical-align: top;\n",
       "    }\n",
       "\n",
       "    .dataframe thead th {\n",
       "        text-align: right;\n",
       "    }\n",
       "</style>\n",
       "<table border=\"1\" class=\"dataframe\">\n",
       "  <thead>\n",
       "    <tr style=\"text-align: right;\">\n",
       "      <th></th>\n",
       "      <th>src_ip_numeric</th>\n",
       "      <th>dst_ip_numeric</th>\n",
       "      <th>srcip</th>\n",
       "      <th>dstip</th>\n",
       "      <th>proto</th>\n",
       "      <th>state</th>\n",
       "      <th>dur</th>\n",
       "      <th>sbytes</th>\n",
       "      <th>dbytes</th>\n",
       "      <th>sttl</th>\n",
       "      <th>...</th>\n",
       "      <th>is_sm_ips_ports</th>\n",
       "      <th>ct_state_ttl</th>\n",
       "      <th>ct_srv_src</th>\n",
       "      <th>ct_srv_dst</th>\n",
       "      <th>ct_dst_ltm</th>\n",
       "      <th>ct_src_ ltm</th>\n",
       "      <th>ct_src_dport_ltm</th>\n",
       "      <th>ct_dst_sport_ltm</th>\n",
       "      <th>ct_dst_src_ltm</th>\n",
       "      <th>label</th>\n",
       "    </tr>\n",
       "  </thead>\n",
       "  <tbody>\n",
       "    <tr>\n",
       "      <th>0</th>\n",
       "      <td>2939006979</td>\n",
       "      <td>2511044114</td>\n",
       "      <td>175.45.176.3</td>\n",
       "      <td>149.171.126.18</td>\n",
       "      <td>udp</td>\n",
       "      <td>INT</td>\n",
       "      <td>1.596457</td>\n",
       "      <td>728</td>\n",
       "      <td>0</td>\n",
       "      <td>254</td>\n",
       "      <td>...</td>\n",
       "      <td>0</td>\n",
       "      <td>2</td>\n",
       "      <td>1</td>\n",
       "      <td>1</td>\n",
       "      <td>1</td>\n",
       "      <td>1</td>\n",
       "      <td>1</td>\n",
       "      <td>1</td>\n",
       "      <td>1</td>\n",
       "      <td>1</td>\n",
       "    </tr>\n",
       "    <tr>\n",
       "      <th>1</th>\n",
       "      <td>2939006978</td>\n",
       "      <td>2511044112</td>\n",
       "      <td>175.45.176.2</td>\n",
       "      <td>149.171.126.16</td>\n",
       "      <td>tcp</td>\n",
       "      <td>FIN</td>\n",
       "      <td>1.596457</td>\n",
       "      <td>918</td>\n",
       "      <td>25552</td>\n",
       "      <td>62</td>\n",
       "      <td>...</td>\n",
       "      <td>0</td>\n",
       "      <td>1</td>\n",
       "      <td>3</td>\n",
       "      <td>2</td>\n",
       "      <td>2</td>\n",
       "      <td>1</td>\n",
       "      <td>1</td>\n",
       "      <td>1</td>\n",
       "      <td>1</td>\n",
       "      <td>1</td>\n",
       "    </tr>\n",
       "    <tr>\n",
       "      <th>2</th>\n",
       "      <td>2939006976</td>\n",
       "      <td>2511044112</td>\n",
       "      <td>175.45.176.0</td>\n",
       "      <td>149.171.126.16</td>\n",
       "      <td>tcp</td>\n",
       "      <td>FIN</td>\n",
       "      <td>1.596457</td>\n",
       "      <td>1362</td>\n",
       "      <td>268</td>\n",
       "      <td>254</td>\n",
       "      <td>...</td>\n",
       "      <td>0</td>\n",
       "      <td>1</td>\n",
       "      <td>5</td>\n",
       "      <td>2</td>\n",
       "      <td>2</td>\n",
       "      <td>1</td>\n",
       "      <td>1</td>\n",
       "      <td>1</td>\n",
       "      <td>1</td>\n",
       "      <td>1</td>\n",
       "    </tr>\n",
       "    <tr>\n",
       "      <th>3</th>\n",
       "      <td>2939006978</td>\n",
       "      <td>2511044112</td>\n",
       "      <td>175.45.176.2</td>\n",
       "      <td>149.171.126.16</td>\n",
       "      <td>tcp</td>\n",
       "      <td>FIN</td>\n",
       "      <td>1.596457</td>\n",
       "      <td>8168</td>\n",
       "      <td>268</td>\n",
       "      <td>254</td>\n",
       "      <td>...</td>\n",
       "      <td>0</td>\n",
       "      <td>1</td>\n",
       "      <td>1</td>\n",
       "      <td>1</td>\n",
       "      <td>1</td>\n",
       "      <td>1</td>\n",
       "      <td>1</td>\n",
       "      <td>1</td>\n",
       "      <td>1</td>\n",
       "      <td>1</td>\n",
       "    </tr>\n",
       "    <tr>\n",
       "      <th>4</th>\n",
       "      <td>2939006978</td>\n",
       "      <td>2511044106</td>\n",
       "      <td>175.45.176.2</td>\n",
       "      <td>149.171.126.10</td>\n",
       "      <td>tcp</td>\n",
       "      <td>FIN</td>\n",
       "      <td>1.596457</td>\n",
       "      <td>844</td>\n",
       "      <td>268</td>\n",
       "      <td>254</td>\n",
       "      <td>...</td>\n",
       "      <td>0</td>\n",
       "      <td>1</td>\n",
       "      <td>3</td>\n",
       "      <td>1</td>\n",
       "      <td>1</td>\n",
       "      <td>1</td>\n",
       "      <td>1</td>\n",
       "      <td>1</td>\n",
       "      <td>1</td>\n",
       "      <td>1</td>\n",
       "    </tr>\n",
       "    <tr>\n",
       "      <th>...</th>\n",
       "      <td>...</td>\n",
       "      <td>...</td>\n",
       "      <td>...</td>\n",
       "      <td>...</td>\n",
       "      <td>...</td>\n",
       "      <td>...</td>\n",
       "      <td>...</td>\n",
       "      <td>...</td>\n",
       "      <td>...</td>\n",
       "      <td>...</td>\n",
       "      <td>...</td>\n",
       "      <td>...</td>\n",
       "      <td>...</td>\n",
       "      <td>...</td>\n",
       "      <td>...</td>\n",
       "      <td>...</td>\n",
       "      <td>...</td>\n",
       "      <td>...</td>\n",
       "      <td>...</td>\n",
       "      <td>...</td>\n",
       "      <td>...</td>\n",
       "    </tr>\n",
       "    <tr>\n",
       "      <th>999064</th>\n",
       "      <td>1000734728</td>\n",
       "      <td>2511044102</td>\n",
       "      <td>59.166.0.8</td>\n",
       "      <td>149.171.126.6</td>\n",
       "      <td>tcp</td>\n",
       "      <td>FIN</td>\n",
       "      <td>-0.070793</td>\n",
       "      <td>320</td>\n",
       "      <td>1874</td>\n",
       "      <td>31</td>\n",
       "      <td>...</td>\n",
       "      <td>0</td>\n",
       "      <td>0</td>\n",
       "      <td>8</td>\n",
       "      <td>20</td>\n",
       "      <td>7</td>\n",
       "      <td>5</td>\n",
       "      <td>1</td>\n",
       "      <td>1</td>\n",
       "      <td>4</td>\n",
       "      <td>0</td>\n",
       "    </tr>\n",
       "    <tr>\n",
       "      <th>999065</th>\n",
       "      <td>1000734720</td>\n",
       "      <td>2511044105</td>\n",
       "      <td>59.166.0.0</td>\n",
       "      <td>149.171.126.9</td>\n",
       "      <td>tcp</td>\n",
       "      <td>FIN</td>\n",
       "      <td>-0.070793</td>\n",
       "      <td>19410</td>\n",
       "      <td>1087890</td>\n",
       "      <td>31</td>\n",
       "      <td>...</td>\n",
       "      <td>0</td>\n",
       "      <td>0</td>\n",
       "      <td>1</td>\n",
       "      <td>1</td>\n",
       "      <td>2</td>\n",
       "      <td>7</td>\n",
       "      <td>2</td>\n",
       "      <td>2</td>\n",
       "      <td>2</td>\n",
       "      <td>0</td>\n",
       "    </tr>\n",
       "    <tr>\n",
       "      <th>999066</th>\n",
       "      <td>1000734720</td>\n",
       "      <td>2511044101</td>\n",
       "      <td>59.166.0.0</td>\n",
       "      <td>149.171.126.5</td>\n",
       "      <td>tcp</td>\n",
       "      <td>FIN</td>\n",
       "      <td>-0.070793</td>\n",
       "      <td>2158</td>\n",
       "      <td>2464</td>\n",
       "      <td>31</td>\n",
       "      <td>...</td>\n",
       "      <td>0</td>\n",
       "      <td>0</td>\n",
       "      <td>13</td>\n",
       "      <td>13</td>\n",
       "      <td>6</td>\n",
       "      <td>7</td>\n",
       "      <td>2</td>\n",
       "      <td>1</td>\n",
       "      <td>2</td>\n",
       "      <td>0</td>\n",
       "    </tr>\n",
       "    <tr>\n",
       "      <th>999067</th>\n",
       "      <td>1000734726</td>\n",
       "      <td>2511044101</td>\n",
       "      <td>59.166.0.6</td>\n",
       "      <td>149.171.126.5</td>\n",
       "      <td>udp</td>\n",
       "      <td>CON</td>\n",
       "      <td>-0.070793</td>\n",
       "      <td>568</td>\n",
       "      <td>304</td>\n",
       "      <td>31</td>\n",
       "      <td>...</td>\n",
       "      <td>0</td>\n",
       "      <td>0</td>\n",
       "      <td>10</td>\n",
       "      <td>13</td>\n",
       "      <td>6</td>\n",
       "      <td>5</td>\n",
       "      <td>1</td>\n",
       "      <td>1</td>\n",
       "      <td>3</td>\n",
       "      <td>0</td>\n",
       "    </tr>\n",
       "    <tr>\n",
       "      <th>999068</th>\n",
       "      <td>1000734720</td>\n",
       "      <td>2511044101</td>\n",
       "      <td>59.166.0.0</td>\n",
       "      <td>149.171.126.5</td>\n",
       "      <td>tcp</td>\n",
       "      <td>FIN</td>\n",
       "      <td>-0.070793</td>\n",
       "      <td>4238</td>\n",
       "      <td>60788</td>\n",
       "      <td>31</td>\n",
       "      <td>...</td>\n",
       "      <td>0</td>\n",
       "      <td>0</td>\n",
       "      <td>13</td>\n",
       "      <td>13</td>\n",
       "      <td>6</td>\n",
       "      <td>7</td>\n",
       "      <td>1</td>\n",
       "      <td>1</td>\n",
       "      <td>2</td>\n",
       "      <td>0</td>\n",
       "    </tr>\n",
       "  </tbody>\n",
       "</table>\n",
       "<p>999069 rows × 45 columns</p>\n",
       "</div>"
      ],
      "text/plain": [
       "        src_ip_numeric  dst_ip_numeric         srcip           dstip proto  \\\n",
       "0           2939006979      2511044114  175.45.176.3  149.171.126.18   udp   \n",
       "1           2939006978      2511044112  175.45.176.2  149.171.126.16   tcp   \n",
       "2           2939006976      2511044112  175.45.176.0  149.171.126.16   tcp   \n",
       "3           2939006978      2511044112  175.45.176.2  149.171.126.16   tcp   \n",
       "4           2939006978      2511044106  175.45.176.2  149.171.126.10   tcp   \n",
       "...                ...             ...           ...             ...   ...   \n",
       "999064      1000734728      2511044102    59.166.0.8   149.171.126.6   tcp   \n",
       "999065      1000734720      2511044105    59.166.0.0   149.171.126.9   tcp   \n",
       "999066      1000734720      2511044101    59.166.0.0   149.171.126.5   tcp   \n",
       "999067      1000734726      2511044101    59.166.0.6   149.171.126.5   udp   \n",
       "999068      1000734720      2511044101    59.166.0.0   149.171.126.5   tcp   \n",
       "\n",
       "       state       dur  sbytes   dbytes  sttl  ...  is_sm_ips_ports  \\\n",
       "0        INT  1.596457     728        0   254  ...                0   \n",
       "1        FIN  1.596457     918    25552    62  ...                0   \n",
       "2        FIN  1.596457    1362      268   254  ...                0   \n",
       "3        FIN  1.596457    8168      268   254  ...                0   \n",
       "4        FIN  1.596457     844      268   254  ...                0   \n",
       "...      ...       ...     ...      ...   ...  ...              ...   \n",
       "999064   FIN -0.070793     320     1874    31  ...                0   \n",
       "999065   FIN -0.070793   19410  1087890    31  ...                0   \n",
       "999066   FIN -0.070793    2158     2464    31  ...                0   \n",
       "999067   CON -0.070793     568      304    31  ...                0   \n",
       "999068   FIN -0.070793    4238    60788    31  ...                0   \n",
       "\n",
       "        ct_state_ttl  ct_srv_src ct_srv_dst  ct_dst_ltm  ct_src_ ltm  \\\n",
       "0                  2           1          1           1            1   \n",
       "1                  1           3          2           2            1   \n",
       "2                  1           5          2           2            1   \n",
       "3                  1           1          1           1            1   \n",
       "4                  1           3          1           1            1   \n",
       "...              ...         ...        ...         ...          ...   \n",
       "999064             0           8         20           7            5   \n",
       "999065             0           1          1           2            7   \n",
       "999066             0          13         13           6            7   \n",
       "999067             0          10         13           6            5   \n",
       "999068             0          13         13           6            7   \n",
       "\n",
       "        ct_src_dport_ltm  ct_dst_sport_ltm  ct_dst_src_ltm  label  \n",
       "0                      1                 1               1      1  \n",
       "1                      1                 1               1      1  \n",
       "2                      1                 1               1      1  \n",
       "3                      1                 1               1      1  \n",
       "4                      1                 1               1      1  \n",
       "...                  ...               ...             ...    ...  \n",
       "999064                 1                 1               4      0  \n",
       "999065                 2                 2               2      0  \n",
       "999066                 2                 1               2      0  \n",
       "999067                 1                 1               3      0  \n",
       "999068                 1                 1               2      0  \n",
       "\n",
       "[999069 rows x 45 columns]"
      ]
     },
     "execution_count": 53,
     "metadata": {},
     "output_type": "execute_result"
    }
   ],
   "source": [
    "data_df"
   ]
  },
  {
   "cell_type": "code",
   "execution_count": 54,
   "metadata": {
    "execution": {
     "iopub.execute_input": "2024-11-10T16:52:12.041237Z",
     "iopub.status.busy": "2024-11-10T16:52:12.040823Z",
     "iopub.status.idle": "2024-11-10T16:52:12.053288Z",
     "shell.execute_reply": "2024-11-10T16:52:12.052072Z",
     "shell.execute_reply.started": "2024-11-10T16:52:12.041198Z"
    },
    "trusted": true
   },
   "outputs": [
    {
     "data": {
      "text/plain": [
       "0         1.421928e+09\n",
       "1         1.421928e+09\n",
       "2         1.421928e+09\n",
       "3         1.421928e+09\n",
       "4         1.421928e+09\n",
       "              ...     \n",
       "999064    1.421956e+09\n",
       "999065    1.421956e+09\n",
       "999066    1.421956e+09\n",
       "999067    1.421956e+09\n",
       "999068    1.421956e+09\n",
       "Name: stime, Length: 999069, dtype: float64"
      ]
     },
     "execution_count": 54,
     "metadata": {},
     "output_type": "execute_result"
    }
   ],
   "source": [
    "data_df['stime']"
   ]
  },
  {
   "cell_type": "code",
   "execution_count": 55,
   "metadata": {
    "execution": {
     "iopub.execute_input": "2024-11-10T16:52:12.055333Z",
     "iopub.status.busy": "2024-11-10T16:52:12.054878Z",
     "iopub.status.idle": "2024-11-10T16:52:14.353380Z",
     "shell.execute_reply": "2024-11-10T16:52:14.352274Z",
     "shell.execute_reply.started": "2024-11-10T16:52:12.055281Z"
    },
    "trusted": true
   },
   "outputs": [],
   "source": [
    " data_df['stime'] = data_df['stime'].apply(lambda x: \"{:.0f}\".format(x))\n",
    " data_df['ltime'] = data_df['ltime'].apply(lambda x: \"{:.0f}\".format(x))\n",
    " data_df['dur'] = data_df['dur'].apply(lambda x: \"{:.0f}\".format(x))"
   ]
  },
  {
   "cell_type": "code",
   "execution_count": 56,
   "metadata": {
    "execution": {
     "iopub.execute_input": "2024-11-10T16:52:14.355401Z",
     "iopub.status.busy": "2024-11-10T16:52:14.354985Z",
     "iopub.status.idle": "2024-11-10T16:52:14.427039Z",
     "shell.execute_reply": "2024-11-10T16:52:14.425588Z",
     "shell.execute_reply.started": "2024-11-10T16:52:14.355350Z"
    },
    "trusted": true
   },
   "outputs": [
    {
     "name": "stdout",
     "output_type": "stream",
     "text": [
      "             stime       ltime dur\n",
      "0       1421927663  1421927665   2\n",
      "1       1421927663  1421927665   2\n",
      "2       1421927663  1421927665   2\n",
      "3       1421927663  1421927665   2\n",
      "4       1421927663  1421927665   2\n",
      "...            ...         ...  ..\n",
      "999064  1421955576  1421955580  -0\n",
      "999065  1421955576  1421955580  -0\n",
      "999066  1421955576  1421955580  -0\n",
      "999067  1421955576  1421955580  -0\n",
      "999068  1421955576  1421955580  -0\n",
      "\n",
      "[999069 rows x 3 columns]\n"
     ]
    }
   ],
   "source": [
    "print(data_df[['stime', 'ltime', 'dur']])"
   ]
  },
  {
   "cell_type": "code",
   "execution_count": 57,
   "metadata": {
    "execution": {
     "iopub.execute_input": "2024-11-10T16:52:14.428939Z",
     "iopub.status.busy": "2024-11-10T16:52:14.428514Z",
     "iopub.status.idle": "2024-11-10T16:52:17.720687Z",
     "shell.execute_reply": "2024-11-10T16:52:17.719617Z",
     "shell.execute_reply.started": "2024-11-10T16:52:14.428898Z"
    },
    "trusted": true
   },
   "outputs": [],
   "source": [
    "data_df['stime'] = pd.to_numeric(data_df['stime'], errors='coerce')\n",
    "data_df['ltime'] = pd.to_numeric(data_df['ltime'], errors='coerce')\n",
    "data_df['dur'] = pd.to_numeric(data_df['dur'], errors='coerce')"
   ]
  },
  {
   "cell_type": "code",
   "execution_count": 58,
   "metadata": {
    "execution": {
     "iopub.execute_input": "2024-11-10T16:52:17.722360Z",
     "iopub.status.busy": "2024-11-10T16:52:17.721997Z",
     "iopub.status.idle": "2024-11-10T16:52:18.048884Z",
     "shell.execute_reply": "2024-11-10T16:52:18.047677Z",
     "shell.execute_reply.started": "2024-11-10T16:52:17.722322Z"
    },
    "trusted": true
   },
   "outputs": [
    {
     "name": "stdout",
     "output_type": "stream",
     "text": [
      "['src_ip_numeric', 'dst_ip_numeric', 'dur', 'sbytes', 'dbytes', 'sttl', 'dttl', 'sloss', 'dloss', 'sload', 'dload', 'spkts', 'dpkts', 'swin', 'dwin', 'stcpb', 'dtcpb', 'smeansz', 'dmeansz', 'trans_depth', 'res_bdy_len', 'sjit', 'djit', 'stime', 'ltime', 'sintpkt', 'dintpkt', 'tcprtt', 'synack', 'ackdat', 'is_sm_ips_ports', 'ct_state_ttl', 'ct_srv_src', 'ct_srv_dst', 'ct_dst_ltm', 'ct_src_ ltm', 'ct_src_dport_ltm', 'ct_dst_sport_ltm', 'ct_dst_src_ltm']\n"
     ]
    }
   ],
   "source": [
    "num_col = list(data_df.select_dtypes(include='number').columns)\n",
    "# num_col.remove('id')\n",
    "num_col.remove('label')\n",
    "print(num_col)"
   ]
  },
  {
   "cell_type": "code",
   "execution_count": 59,
   "metadata": {
    "execution": {
     "iopub.execute_input": "2024-11-10T16:52:18.050673Z",
     "iopub.status.busy": "2024-11-10T16:52:18.050239Z",
     "iopub.status.idle": "2024-11-10T16:52:18.056184Z",
     "shell.execute_reply": "2024-11-10T16:52:18.054889Z",
     "shell.execute_reply.started": "2024-11-10T16:52:18.050632Z"
    },
    "trusted": true
   },
   "outputs": [],
   "source": [
    "num_col.append('label')"
   ]
  },
  {
   "cell_type": "code",
   "execution_count": 60,
   "metadata": {
    "execution": {
     "iopub.execute_input": "2024-11-10T16:52:18.057993Z",
     "iopub.status.busy": "2024-11-10T16:52:18.057544Z",
     "iopub.status.idle": "2024-11-10T16:52:18.897473Z",
     "shell.execute_reply": "2024-11-10T16:52:18.896215Z",
     "shell.execute_reply.started": "2024-11-10T16:52:18.057936Z"
    },
    "trusted": true
   },
   "outputs": [],
   "source": [
    "bin_label = pd.DataFrame(data_df.label.map(lambda x:'normal' if x==0 else 'abnormal'))\n",
    "bin_data = data_df.copy()\n",
    "bin_data['label'] = bin_label\n",
    "     "
   ]
  },
  {
   "cell_type": "code",
   "execution_count": null,
   "metadata": {
    "trusted": true
   },
   "outputs": [],
   "source": []
  },
  {
   "cell_type": "code",
   "execution_count": 61,
   "metadata": {
    "execution": {
     "iopub.execute_input": "2024-11-10T16:52:18.899540Z",
     "iopub.status.busy": "2024-11-10T16:52:18.899066Z",
     "iopub.status.idle": "2024-11-10T16:52:19.236116Z",
     "shell.execute_reply": "2024-11-10T16:52:19.234846Z",
     "shell.execute_reply.started": "2024-11-10T16:52:18.899484Z"
    },
    "trusted": true
   },
   "outputs": [
    {
     "data": {
      "text/html": [
       "<div>\n",
       "<style scoped>\n",
       "    .dataframe tbody tr th:only-of-type {\n",
       "        vertical-align: middle;\n",
       "    }\n",
       "\n",
       "    .dataframe tbody tr th {\n",
       "        vertical-align: top;\n",
       "    }\n",
       "\n",
       "    .dataframe thead th {\n",
       "        text-align: right;\n",
       "    }\n",
       "</style>\n",
       "<table border=\"1\" class=\"dataframe\">\n",
       "  <thead>\n",
       "    <tr style=\"text-align: right;\">\n",
       "      <th></th>\n",
       "      <th>src_ip_numeric</th>\n",
       "      <th>dst_ip_numeric</th>\n",
       "      <th>srcip</th>\n",
       "      <th>dstip</th>\n",
       "      <th>proto</th>\n",
       "      <th>state</th>\n",
       "      <th>dur</th>\n",
       "      <th>sbytes</th>\n",
       "      <th>dbytes</th>\n",
       "      <th>sttl</th>\n",
       "      <th>...</th>\n",
       "      <th>is_sm_ips_ports</th>\n",
       "      <th>ct_state_ttl</th>\n",
       "      <th>ct_srv_src</th>\n",
       "      <th>ct_srv_dst</th>\n",
       "      <th>ct_dst_ltm</th>\n",
       "      <th>ct_src_ ltm</th>\n",
       "      <th>ct_src_dport_ltm</th>\n",
       "      <th>ct_dst_sport_ltm</th>\n",
       "      <th>ct_dst_src_ltm</th>\n",
       "      <th>label</th>\n",
       "    </tr>\n",
       "  </thead>\n",
       "  <tbody>\n",
       "    <tr>\n",
       "      <th>0</th>\n",
       "      <td>2939006979</td>\n",
       "      <td>2511044114</td>\n",
       "      <td>175.45.176.3</td>\n",
       "      <td>149.171.126.18</td>\n",
       "      <td>udp</td>\n",
       "      <td>INT</td>\n",
       "      <td>2</td>\n",
       "      <td>728</td>\n",
       "      <td>0</td>\n",
       "      <td>254</td>\n",
       "      <td>...</td>\n",
       "      <td>0</td>\n",
       "      <td>2</td>\n",
       "      <td>1</td>\n",
       "      <td>1</td>\n",
       "      <td>1</td>\n",
       "      <td>1</td>\n",
       "      <td>1</td>\n",
       "      <td>1</td>\n",
       "      <td>1</td>\n",
       "      <td>abnormal</td>\n",
       "    </tr>\n",
       "    <tr>\n",
       "      <th>1</th>\n",
       "      <td>2939006978</td>\n",
       "      <td>2511044112</td>\n",
       "      <td>175.45.176.2</td>\n",
       "      <td>149.171.126.16</td>\n",
       "      <td>tcp</td>\n",
       "      <td>FIN</td>\n",
       "      <td>2</td>\n",
       "      <td>918</td>\n",
       "      <td>25552</td>\n",
       "      <td>62</td>\n",
       "      <td>...</td>\n",
       "      <td>0</td>\n",
       "      <td>1</td>\n",
       "      <td>3</td>\n",
       "      <td>2</td>\n",
       "      <td>2</td>\n",
       "      <td>1</td>\n",
       "      <td>1</td>\n",
       "      <td>1</td>\n",
       "      <td>1</td>\n",
       "      <td>abnormal</td>\n",
       "    </tr>\n",
       "    <tr>\n",
       "      <th>2</th>\n",
       "      <td>2939006976</td>\n",
       "      <td>2511044112</td>\n",
       "      <td>175.45.176.0</td>\n",
       "      <td>149.171.126.16</td>\n",
       "      <td>tcp</td>\n",
       "      <td>FIN</td>\n",
       "      <td>2</td>\n",
       "      <td>1362</td>\n",
       "      <td>268</td>\n",
       "      <td>254</td>\n",
       "      <td>...</td>\n",
       "      <td>0</td>\n",
       "      <td>1</td>\n",
       "      <td>5</td>\n",
       "      <td>2</td>\n",
       "      <td>2</td>\n",
       "      <td>1</td>\n",
       "      <td>1</td>\n",
       "      <td>1</td>\n",
       "      <td>1</td>\n",
       "      <td>abnormal</td>\n",
       "    </tr>\n",
       "    <tr>\n",
       "      <th>3</th>\n",
       "      <td>2939006978</td>\n",
       "      <td>2511044112</td>\n",
       "      <td>175.45.176.2</td>\n",
       "      <td>149.171.126.16</td>\n",
       "      <td>tcp</td>\n",
       "      <td>FIN</td>\n",
       "      <td>2</td>\n",
       "      <td>8168</td>\n",
       "      <td>268</td>\n",
       "      <td>254</td>\n",
       "      <td>...</td>\n",
       "      <td>0</td>\n",
       "      <td>1</td>\n",
       "      <td>1</td>\n",
       "      <td>1</td>\n",
       "      <td>1</td>\n",
       "      <td>1</td>\n",
       "      <td>1</td>\n",
       "      <td>1</td>\n",
       "      <td>1</td>\n",
       "      <td>abnormal</td>\n",
       "    </tr>\n",
       "    <tr>\n",
       "      <th>4</th>\n",
       "      <td>2939006978</td>\n",
       "      <td>2511044106</td>\n",
       "      <td>175.45.176.2</td>\n",
       "      <td>149.171.126.10</td>\n",
       "      <td>tcp</td>\n",
       "      <td>FIN</td>\n",
       "      <td>2</td>\n",
       "      <td>844</td>\n",
       "      <td>268</td>\n",
       "      <td>254</td>\n",
       "      <td>...</td>\n",
       "      <td>0</td>\n",
       "      <td>1</td>\n",
       "      <td>3</td>\n",
       "      <td>1</td>\n",
       "      <td>1</td>\n",
       "      <td>1</td>\n",
       "      <td>1</td>\n",
       "      <td>1</td>\n",
       "      <td>1</td>\n",
       "      <td>abnormal</td>\n",
       "    </tr>\n",
       "    <tr>\n",
       "      <th>...</th>\n",
       "      <td>...</td>\n",
       "      <td>...</td>\n",
       "      <td>...</td>\n",
       "      <td>...</td>\n",
       "      <td>...</td>\n",
       "      <td>...</td>\n",
       "      <td>...</td>\n",
       "      <td>...</td>\n",
       "      <td>...</td>\n",
       "      <td>...</td>\n",
       "      <td>...</td>\n",
       "      <td>...</td>\n",
       "      <td>...</td>\n",
       "      <td>...</td>\n",
       "      <td>...</td>\n",
       "      <td>...</td>\n",
       "      <td>...</td>\n",
       "      <td>...</td>\n",
       "      <td>...</td>\n",
       "      <td>...</td>\n",
       "      <td>...</td>\n",
       "    </tr>\n",
       "    <tr>\n",
       "      <th>999064</th>\n",
       "      <td>1000734728</td>\n",
       "      <td>2511044102</td>\n",
       "      <td>59.166.0.8</td>\n",
       "      <td>149.171.126.6</td>\n",
       "      <td>tcp</td>\n",
       "      <td>FIN</td>\n",
       "      <td>0</td>\n",
       "      <td>320</td>\n",
       "      <td>1874</td>\n",
       "      <td>31</td>\n",
       "      <td>...</td>\n",
       "      <td>0</td>\n",
       "      <td>0</td>\n",
       "      <td>8</td>\n",
       "      <td>20</td>\n",
       "      <td>7</td>\n",
       "      <td>5</td>\n",
       "      <td>1</td>\n",
       "      <td>1</td>\n",
       "      <td>4</td>\n",
       "      <td>normal</td>\n",
       "    </tr>\n",
       "    <tr>\n",
       "      <th>999065</th>\n",
       "      <td>1000734720</td>\n",
       "      <td>2511044105</td>\n",
       "      <td>59.166.0.0</td>\n",
       "      <td>149.171.126.9</td>\n",
       "      <td>tcp</td>\n",
       "      <td>FIN</td>\n",
       "      <td>0</td>\n",
       "      <td>19410</td>\n",
       "      <td>1087890</td>\n",
       "      <td>31</td>\n",
       "      <td>...</td>\n",
       "      <td>0</td>\n",
       "      <td>0</td>\n",
       "      <td>1</td>\n",
       "      <td>1</td>\n",
       "      <td>2</td>\n",
       "      <td>7</td>\n",
       "      <td>2</td>\n",
       "      <td>2</td>\n",
       "      <td>2</td>\n",
       "      <td>normal</td>\n",
       "    </tr>\n",
       "    <tr>\n",
       "      <th>999066</th>\n",
       "      <td>1000734720</td>\n",
       "      <td>2511044101</td>\n",
       "      <td>59.166.0.0</td>\n",
       "      <td>149.171.126.5</td>\n",
       "      <td>tcp</td>\n",
       "      <td>FIN</td>\n",
       "      <td>0</td>\n",
       "      <td>2158</td>\n",
       "      <td>2464</td>\n",
       "      <td>31</td>\n",
       "      <td>...</td>\n",
       "      <td>0</td>\n",
       "      <td>0</td>\n",
       "      <td>13</td>\n",
       "      <td>13</td>\n",
       "      <td>6</td>\n",
       "      <td>7</td>\n",
       "      <td>2</td>\n",
       "      <td>1</td>\n",
       "      <td>2</td>\n",
       "      <td>normal</td>\n",
       "    </tr>\n",
       "    <tr>\n",
       "      <th>999067</th>\n",
       "      <td>1000734726</td>\n",
       "      <td>2511044101</td>\n",
       "      <td>59.166.0.6</td>\n",
       "      <td>149.171.126.5</td>\n",
       "      <td>udp</td>\n",
       "      <td>CON</td>\n",
       "      <td>0</td>\n",
       "      <td>568</td>\n",
       "      <td>304</td>\n",
       "      <td>31</td>\n",
       "      <td>...</td>\n",
       "      <td>0</td>\n",
       "      <td>0</td>\n",
       "      <td>10</td>\n",
       "      <td>13</td>\n",
       "      <td>6</td>\n",
       "      <td>5</td>\n",
       "      <td>1</td>\n",
       "      <td>1</td>\n",
       "      <td>3</td>\n",
       "      <td>normal</td>\n",
       "    </tr>\n",
       "    <tr>\n",
       "      <th>999068</th>\n",
       "      <td>1000734720</td>\n",
       "      <td>2511044101</td>\n",
       "      <td>59.166.0.0</td>\n",
       "      <td>149.171.126.5</td>\n",
       "      <td>tcp</td>\n",
       "      <td>FIN</td>\n",
       "      <td>0</td>\n",
       "      <td>4238</td>\n",
       "      <td>60788</td>\n",
       "      <td>31</td>\n",
       "      <td>...</td>\n",
       "      <td>0</td>\n",
       "      <td>0</td>\n",
       "      <td>13</td>\n",
       "      <td>13</td>\n",
       "      <td>6</td>\n",
       "      <td>7</td>\n",
       "      <td>1</td>\n",
       "      <td>1</td>\n",
       "      <td>2</td>\n",
       "      <td>normal</td>\n",
       "    </tr>\n",
       "  </tbody>\n",
       "</table>\n",
       "<p>999069 rows × 45 columns</p>\n",
       "</div>"
      ],
      "text/plain": [
       "        src_ip_numeric  dst_ip_numeric         srcip           dstip proto  \\\n",
       "0           2939006979      2511044114  175.45.176.3  149.171.126.18   udp   \n",
       "1           2939006978      2511044112  175.45.176.2  149.171.126.16   tcp   \n",
       "2           2939006976      2511044112  175.45.176.0  149.171.126.16   tcp   \n",
       "3           2939006978      2511044112  175.45.176.2  149.171.126.16   tcp   \n",
       "4           2939006978      2511044106  175.45.176.2  149.171.126.10   tcp   \n",
       "...                ...             ...           ...             ...   ...   \n",
       "999064      1000734728      2511044102    59.166.0.8   149.171.126.6   tcp   \n",
       "999065      1000734720      2511044105    59.166.0.0   149.171.126.9   tcp   \n",
       "999066      1000734720      2511044101    59.166.0.0   149.171.126.5   tcp   \n",
       "999067      1000734726      2511044101    59.166.0.6   149.171.126.5   udp   \n",
       "999068      1000734720      2511044101    59.166.0.0   149.171.126.5   tcp   \n",
       "\n",
       "       state  dur  sbytes   dbytes  sttl  ...  is_sm_ips_ports  ct_state_ttl  \\\n",
       "0        INT    2     728        0   254  ...                0             2   \n",
       "1        FIN    2     918    25552    62  ...                0             1   \n",
       "2        FIN    2    1362      268   254  ...                0             1   \n",
       "3        FIN    2    8168      268   254  ...                0             1   \n",
       "4        FIN    2     844      268   254  ...                0             1   \n",
       "...      ...  ...     ...      ...   ...  ...              ...           ...   \n",
       "999064   FIN    0     320     1874    31  ...                0             0   \n",
       "999065   FIN    0   19410  1087890    31  ...                0             0   \n",
       "999066   FIN    0    2158     2464    31  ...                0             0   \n",
       "999067   CON    0     568      304    31  ...                0             0   \n",
       "999068   FIN    0    4238    60788    31  ...                0             0   \n",
       "\n",
       "        ct_srv_src ct_srv_dst  ct_dst_ltm  ct_src_ ltm  ct_src_dport_ltm  \\\n",
       "0                1          1           1            1                 1   \n",
       "1                3          2           2            1                 1   \n",
       "2                5          2           2            1                 1   \n",
       "3                1          1           1            1                 1   \n",
       "4                3          1           1            1                 1   \n",
       "...            ...        ...         ...          ...               ...   \n",
       "999064           8         20           7            5                 1   \n",
       "999065           1          1           2            7                 2   \n",
       "999066          13         13           6            7                 2   \n",
       "999067          10         13           6            5                 1   \n",
       "999068          13         13           6            7                 1   \n",
       "\n",
       "        ct_dst_sport_ltm  ct_dst_src_ltm     label  \n",
       "0                      1               1  abnormal  \n",
       "1                      1               1  abnormal  \n",
       "2                      1               1  abnormal  \n",
       "3                      1               1  abnormal  \n",
       "4                      1               1  abnormal  \n",
       "...                  ...             ...       ...  \n",
       "999064                 1               4    normal  \n",
       "999065                 2               2    normal  \n",
       "999066                 1               2    normal  \n",
       "999067                 1               3    normal  \n",
       "999068                 1               2    normal  \n",
       "\n",
       "[999069 rows x 45 columns]"
      ]
     },
     "execution_count": 61,
     "metadata": {},
     "output_type": "execute_result"
    }
   ],
   "source": [
    "bin_data"
   ]
  },
  {
   "cell_type": "code",
   "execution_count": 62,
   "metadata": {
    "execution": {
     "iopub.execute_input": "2024-11-10T16:52:19.238253Z",
     "iopub.status.busy": "2024-11-10T16:52:19.237747Z",
     "iopub.status.idle": "2024-11-10T16:52:19.510962Z",
     "shell.execute_reply": "2024-11-10T16:52:19.509613Z",
     "shell.execute_reply.started": "2024-11-10T16:52:19.238197Z"
    },
    "trusted": true
   },
   "outputs": [],
   "source": [
    "le1 = preprocessing.LabelEncoder()\n",
    "enc_label = bin_label.apply(le1.fit_transform)\n",
    "bin_data['label'] = enc_label"
   ]
  },
  {
   "cell_type": "code",
   "execution_count": 63,
   "metadata": {
    "execution": {
     "iopub.execute_input": "2024-11-10T16:52:19.518432Z",
     "iopub.status.busy": "2024-11-10T16:52:19.518012Z",
     "iopub.status.idle": "2024-11-10T16:52:19.526450Z",
     "shell.execute_reply": "2024-11-10T16:52:19.525061Z",
     "shell.execute_reply.started": "2024-11-10T16:52:19.518390Z"
    },
    "trusted": true
   },
   "outputs": [
    {
     "data": {
      "text/plain": [
       "array(['abnormal', 'normal'], dtype=object)"
      ]
     },
     "execution_count": 63,
     "metadata": {},
     "output_type": "execute_result"
    }
   ],
   "source": [
    "bin_data\n",
    "le1.classes_"
   ]
  },
  {
   "cell_type": "code",
   "execution_count": 64,
   "metadata": {
    "execution": {
     "iopub.execute_input": "2024-11-10T16:52:19.528250Z",
     "iopub.status.busy": "2024-11-10T16:52:19.527865Z",
     "iopub.status.idle": "2024-11-10T16:52:25.359994Z",
     "shell.execute_reply": "2024-11-10T16:52:25.358893Z",
     "shell.execute_reply.started": "2024-11-10T16:52:19.528210Z"
    },
    "trusted": true
   },
   "outputs": [
    {
     "data": {
      "image/png": "[encoded data removed]",
      "text/plain": [
       "<Figure size 2000x800 with 2 Axes>"
      ]
     },
     "metadata": {},
     "output_type": "display_data"
    }
   ],
   "source": [
    "plt.figure(figsize=(20,8))\n",
    "corr_bin = bin_data[num_col].corr()\n",
    "sns.heatmap(corr_bin,vmax=1.0,annot=False)\n",
    "plt.title('Correlation Matrix for Binary Labels',fontsize=16)\n",
    "plt.show()"
   ]
  },
  {
   "cell_type": "code",
   "execution_count": 65,
   "metadata": {
    "execution": {
     "iopub.execute_input": "2024-11-10T16:52:25.361752Z",
     "iopub.status.busy": "2024-11-10T16:52:25.361369Z",
     "iopub.status.idle": "2024-11-10T16:52:25.374199Z",
     "shell.execute_reply": "2024-11-10T16:52:25.372559Z",
     "shell.execute_reply.started": "2024-11-10T16:52:25.361713Z"
    },
    "trusted": true
   },
   "outputs": [
    {
     "data": {
      "text/plain": [
       "dload               0.360791\n",
       "stcpb               0.379982\n",
       "dtcpb               0.380295\n",
       "sload               0.424631\n",
       "dmeansz             0.443474\n",
       "dwin                0.500450\n",
       "swin                0.501522\n",
       "ct_src_ ltm         0.508745\n",
       "ct_dst_ltm          0.511710\n",
       "ct_srv_src          0.563857\n",
       "ct_srv_dst          0.573594\n",
       "ct_src_dport_ltm    0.620878\n",
       "ct_dst_sport_ltm    0.660275\n",
       "ct_dst_src_ltm      0.684330\n",
       "ct_state_ttl        0.931165\n",
       "ltime               0.948891\n",
       "stime               0.948891\n",
       "sttl                0.949574\n",
       "src_ip_numeric      0.974117\n",
       "label               1.000000\n",
       "Name: label, dtype: float64"
      ]
     },
     "execution_count": 65,
     "metadata": {},
     "output_type": "execute_result"
    }
   ],
   "source": [
    "corr_ybin = abs(corr_bin['label'])\n",
    "highest_corr_bin = corr_ybin[corr_ybin >0.3]\n",
    "highest_corr_bin.sort_values(ascending=True)"
   ]
  },
  {
   "cell_type": "code",
   "execution_count": 66,
   "metadata": {
    "execution": {
     "iopub.execute_input": "2024-11-10T16:52:25.376683Z",
     "iopub.status.busy": "2024-11-10T16:52:25.376062Z",
     "iopub.status.idle": "2024-11-10T16:59:07.149171Z",
     "shell.execute_reply": "2024-11-10T16:59:07.147912Z",
     "shell.execute_reply.started": "2024-11-10T16:52:25.376629Z"
    },
    "trusted": true
   },
   "outputs": [
    {
     "name": "stdout",
     "output_type": "stream",
     "text": [
      "Mean Absolute Error -  0.004834496081355661\n",
      "Mean Squared Error -  0.004834496081355661\n",
      "Root Mean Squared Error -  0.06953054063759076\n",
      "R2 Score -  97.78649008217542\n",
      "Accuracy -  99.51655039186443\n"
     ]
    }
   ],
   "source": [
    "bin_cols = highest_corr_bin.index\n",
    "bin_cols\n",
    "\n",
    "bin_data = bin_data[bin_cols].copy()\n",
    "# bin_data.drop(columns = ['sttl', 'dttl','stime', 'ltime'],inplace = True)\n",
    "\n",
    "# bin_data.drop(columns = ['ct_state_ttl'],inplace = True)\n",
    "\n",
    "X = bin_data.drop(columns=['label'],axis=1)\n",
    "Y = bin_data['label']\n",
    "\n",
    "\n",
    "\n",
    "X_train,X_test,y_train,y_test = train_test_split(X,Y,test_size=0.20, random_state=50)\n",
    "\n",
    "knn_bin=KNeighborsClassifier(n_neighbors=5)\n",
    "knn_bin.fit(X_train,y_train)\n",
    "\n",
    "\n",
    "\n",
    "y_pred = knn_bin.predict(X_test)\n",
    "\n",
    "print(\"Mean Absolute Error - \" , metrics.mean_absolute_error(y_test, y_pred))\n",
    "print(\"Mean Squared Error - \" , metrics.mean_squared_error(y_test, y_pred))\n",
    "print(\"Root Mean Squared Error - \" , np.sqrt(metrics.mean_squared_error(y_test, y_pred)))\n",
    "print(\"R2 Score - \" , metrics.explained_variance_score(y_test, y_pred)*100)\n",
    "print(\"Accuracy - \",accuracy_score(y_test,y_pred)*100)"
   ]
  },
  {
   "cell_type": "code",
   "execution_count": null,
   "metadata": {
    "trusted": true
   },
   "outputs": [],
   "source": []
  },
  {
   "cell_type": "code",
   "execution_count": null,
   "metadata": {
    "trusted": true
   },
   "outputs": [],
   "source": [
    "import pandas as pd\n",
    "import numpy as np\n",
    "import ipaddress\n",
    "import hashlib\n",
    "from sklearn.cluster import KMeans\n",
    "\n",
    "\n",
    "n_bits = 16  \n",
    "K = 20\n",
    "\n",
    "\n",
    "def prefix_preserving_anonymization(ip_numeric, n_bits):\n",
    "    ip_binary = format(ip_numeric, '032b')\n",
    "    network_prefix = ip_binary[:n_bits]\n",
    "    host_suffix = ip_binary[n_bits:]\n",
    "    \n",
    "    \n",
    "    prefix_hash = hashlib.sha256(network_prefix.encode()).hexdigest()\n",
    "    anonymized_network_prefix = bin(int(prefix_hash[:8], 16))[2:].zfill(n_bits)[:n_bits]\n",
    "    \n",
    "    anonymized_ip_binary = anonymized_network_prefix + host_suffix\n",
    "    return int(anonymized_ip_binary, 2)\n",
    "\n",
    "data_df['src_ip_anonymized'] = data_df['src_ip_numeric'].apply(lambda x: prefix_preserving_anonymization(x, n_bits))\n",
    "data_df['dst_ip_anonymized'] = data_df['dst_ip_numeric'].apply(lambda x: prefix_preserving_anonymization(x, n_bits))\n",
    "\n",
    "# data_df['src_ip_anonymized'] = data_df['src_ip_anonymized'].apply(lambda x: str(ipaddress.IPv4Address(x)))\n",
    "# data_df['dst_ip_anonymized'] = data_df['dst_ip_anonymized'].apply(lambda x: str(ipaddress.IPv4Address(x)))\n",
    "# print(data_df['src_ip_anonymized'])\n",
    "# print(data_df['dst_ip_anonymized'])\n",
    "data_df['src_ip_host'] = data_df['src_ip_anonymized'].apply(lambda x: x & (2**(32 - n_bits) - 1))\n",
    "data_df['dst_ip_host'] = data_df['dst_ip_anonymized'].apply(lambda x: x & (2**(32 - n_bits) - 1))\n",
    "\n",
    "\n",
    "kmeans_src = KMeans(n_clusters=K)\n",
    "data_df['src_ip_cluster'] = kmeans_src.fit_predict(data_df[['src_ip_host']])\n",
    "\n",
    "kmeans_dst = KMeans(n_clusters=K)\n",
    "data_df['dst_ip_cluster'] = kmeans_dst.fit_predict(data_df[['dst_ip_host']])\n",
    "\n",
    "def replace_with_cluster_mean(df, ip_host_column, cluster_column):\n",
    "    cluster_means = df.groupby(cluster_column)[ip_host_column].transform('mean').astype(int)\n",
    "    return cluster_means\n",
    "\n",
    "data_df['src_ip_host'] = replace_with_cluster_mean(data_df, 'src_ip_host', 'src_ip_cluster')\n",
    "data_df['dst_ip_host'] = replace_with_cluster_mean(data_df, 'dst_ip_host', 'dst_ip_cluster')\n",
    "\n",
    "\n",
    "def combine_network_host(network_part, host_part, n_bits):\n",
    "    anonymized_ip_binary = format(network_part, f'0{n_bits}b') + format(host_part, f'0{32 - n_bits}b')\n",
    "    return int(anonymized_ip_binary, 2)\n",
    "\n",
    "data_df['src_ip_numeric'] = data_df.apply(lambda row: combine_network_host(row['src_ip_anonymized'] >> (32 - n_bits), row['src_ip_host'], n_bits), axis=1)\n",
    "data_df['dst_ip_numeric'] = data_df.apply(lambda row: combine_network_host(row['dst_ip_anonymized'] >> (32 - n_bits), row['dst_ip_host'], n_bits), axis=1)\n",
    "\n",
    "\n",
    "data_df['src_ip_final'] = data_df['src_ip_numeric'].apply(lambda x: str(ipaddress.IPv4Address(x)))\n",
    "data_df['dst_ip_final'] = data_df['dst_ip_numeric'].apply(lambda x: str(ipaddress.IPv4Address(x)))\n"
   ]
  },
  {
   "cell_type": "code",
   "execution_count": null,
   "metadata": {
    "trusted": true
   },
   "outputs": [],
   "source": []
  },
  {
   "cell_type": "code",
   "execution_count": null,
   "metadata": {
    "trusted": true
   },
   "outputs": [],
   "source": [
    "data_df"
   ]
  },
  {
   "cell_type": "code",
   "execution_count": null,
   "metadata": {
    "trusted": true
   },
   "outputs": [],
   "source": [
    "data_df['src_ip_final'].value_counts()"
   ]
  },
  {
   "cell_type": "code",
   "execution_count": null,
   "metadata": {
    "trusted": true
   },
   "outputs": [],
   "source": [
    "data_df['srcip'].value_counts()"
   ]
  },
  {
   "cell_type": "code",
   "execution_count": null,
   "metadata": {
    "trusted": true
   },
   "outputs": [],
   "source": []
  },
  {
   "cell_type": "code",
   "execution_count": null,
   "metadata": {
    "trusted": true
   },
   "outputs": [],
   "source": []
  },
  {
   "cell_type": "code",
   "execution_count": null,
   "metadata": {
    "trusted": true
   },
   "outputs": [],
   "source": [
    "num_col = list(data_df.select_dtypes(include='number').columns)\n",
    "# num_col.remove('id')\n",
    "num_col.remove('label')\n",
    "print(num_col)\n",
    "\n",
    "data_df.head()\n",
    "\n",
    "# # calling normalization() function\n",
    "# data_df = normalization(data_df.copy(),num_col)\n",
    "\n",
    "data_df.head()\n",
    "\n",
    "num_col.append('label')\n",
    "\n",
    "bin_label = pd.DataFrame(data_df.label.map(lambda x:'normal' if x==0 else 'abnormal'))\n",
    "bin_data = data_df.copy()\n",
    "bin_data['label'] = bin_label\n",
    "\n",
    "le1 = preprocessing.LabelEncoder()\n",
    "enc_label = bin_label.apply(le1.fit_transform)\n",
    "bin_data['label'] = enc_label\n",
    "\n",
    "le1.classes_\n",
    "\n",
    "plt.figure(figsize=(20,8))\n",
    "corr_bin = bin_data[num_col].corr()\n",
    "sns.heatmap(corr_bin,vmax=1.0,annot=False)\n",
    "plt.title('Correlation Matrix for Binary Labels',fontsize=16)\n",
    "plt.show()"
   ]
  },
  {
   "cell_type": "code",
   "execution_count": null,
   "metadata": {
    "trusted": true
   },
   "outputs": [],
   "source": [
    "corr_ybin = abs(corr_bin['label'])\n",
    "highest_corr_bin = corr_ybin[corr_ybin >0.3]\n",
    "highest_corr_bin.sort_values(ascending=True)\n"
   ]
  },
  {
   "cell_type": "code",
   "execution_count": null,
   "metadata": {
    "trusted": true
   },
   "outputs": [],
   "source": [
    "\n",
    "bin_cols = highest_corr_bin.index\n",
    "bin_cols\n",
    "bin_cols.drop('src_ip_numeric')\n"
   ]
  },
  {
   "cell_type": "code",
   "execution_count": null,
   "metadata": {
    "trusted": true
   },
   "outputs": [],
   "source": [
    "bin_data = bin_data[bin_cols].copy()\n",
    "X = bin_data.drop(columns=['label'],axis=1)\n",
    "Y = bin_data['label']\n",
    "X\n"
   ]
  },
  {
   "cell_type": "code",
   "execution_count": null,
   "metadata": {
    "trusted": true
   },
   "outputs": [],
   "source": []
  },
  {
   "cell_type": "code",
   "execution_count": null,
   "metadata": {
    "execution": {
     "iopub.status.busy": "2024-11-10T17:55:33.747986Z",
     "iopub.status.idle": "2024-11-10T17:55:33.748449Z",
     "shell.execute_reply": "2024-11-10T17:55:33.748242Z",
     "shell.execute_reply.started": "2024-11-10T17:55:33.748220Z"
    },
    "trusted": true
   },
   "outputs": [],
   "source": [
    "X = bin_data.drop(columns=['label'],axis=1)\n",
    "Y = bin_data['label']\n",
    "\n",
    "X\n",
    "\n",
    "X_train,X_test,y_train,y_test = train_test_split(X,Y,test_size=0.20, random_state=50)\n",
    "\n",
    "knn_bin=KNeighborsClassifier(n_neighbors=5)\n",
    "knn_bin.fit(X_train,y_train)\n",
    "\n",
    "\n",
    "\n",
    "y_pred = knn_bin.predict(X_test)\n",
    "\n",
    "print(\"Mean Absolute Error - \" , metrics.mean_absolute_error(y_test, y_pred))\n",
    "print(\"Mean Squared Error - \" , metrics.mean_squared_error(y_test, y_pred))\n",
    "print(\"Root Mean Squared Error - \" , np.sqrt(metrics.mean_squared_error(y_test, y_pred)))\n",
    "print(\"R2 Score - \" , metrics.explained_variance_score(y_test, y_pred)*100)\n",
    "print(\"Accuracy - \",accuracy_score(y_test,y_pred)*100)\n",
    "\n"
   ]
  },
  {
   "cell_type": "code",
   "execution_count": null,
   "metadata": {
    "execution": {
     "iopub.status.busy": "2024-11-10T17:55:33.750594Z",
     "iopub.status.idle": "2024-11-10T17:55:33.751106Z",
     "shell.execute_reply": "2024-11-10T17:55:33.750895Z",
     "shell.execute_reply.started": "2024-11-10T17:55:33.750870Z"
    },
    "trusted": true
   },
   "outputs": [],
   "source": [
    "cls_report= classification_report(y_true=y_test, y_pred=y_pred,target_names=le1.classes_)\n",
    "print(cls_report)"
   ]
  },
  {
   "cell_type": "code",
   "execution_count": null,
   "metadata": {
    "trusted": true
   },
   "outputs": [],
   "source": []
  },
  {
   "cell_type": "code",
   "execution_count": null,
   "metadata": {
    "trusted": true
   },
   "outputs": [],
   "source": []
  },
  {
   "cell_type": "code",
   "execution_count": null,
   "metadata": {
    "trusted": true
   },
   "outputs": [],
   "source": []
  },
  {
   "cell_type": "code",
   "execution_count": null,
   "metadata": {
    "trusted": true
   },
   "outputs": [],
   "source": []
  },
  {
   "cell_type": "code",
   "execution_count": null,
   "metadata": {
    "trusted": true
   },
   "outputs": [],
   "source": []
  },
  {
   "cell_type": "code",
   "execution_count": null,
   "metadata": {
    "trusted": true
   },
   "outputs": [],
   "source": []
  },
  {
   "cell_type": "code",
   "execution_count": null,
   "metadata": {
    "trusted": true
   },
   "outputs": [],
   "source": []
  },
  {
   "cell_type": "code",
   "execution_count": null,
   "metadata": {
    "trusted": true
   },
   "outputs": [],
   "source": []
  },
  {
   "cell_type": "code",
   "execution_count": null,
   "metadata": {
    "trusted": true
   },
   "outputs": [],
   "source": []
  },
  {
   "cell_type": "code",
   "execution_count": null,
   "metadata": {
    "trusted": true
   },
   "outputs": [],
   "source": []
  },
  {
   "cell_type": "code",
   "execution_count": null,
   "metadata": {
    "trusted": true
   },
   "outputs": [],
   "source": []
  },
  {
   "cell_type": "code",
   "execution_count": null,
   "metadata": {
    "trusted": true
   },
   "outputs": [],
   "source": []
  },
  {
   "cell_type": "code",
   "execution_count": null,
   "metadata": {
    "trusted": true
   },
   "outputs": [],
   "source": []
  },
  {
   "cell_type": "code",
   "execution_count": null,
   "metadata": {
    "trusted": true
   },
   "outputs": [],
   "source": []
  },
  {
   "cell_type": "code",
   "execution_count": null,
   "metadata": {
    "trusted": true
   },
   "outputs": [],
   "source": []
  },
  {
   "cell_type": "code",
   "execution_count": null,
   "metadata": {
    "trusted": true
   },
   "outputs": [],
   "source": []
  },
  {
   "cell_type": "code",
   "execution_count": null,
   "metadata": {
    "trusted": true
   },
   "outputs": [],
   "source": []
  },
  {
   "cell_type": "code",
   "execution_count": null,
   "metadata": {
    "trusted": true
   },
   "outputs": [],
   "source": []
  },
  {
   "cell_type": "code",
   "execution_count": null,
   "metadata": {
    "trusted": true
   },
   "outputs": [],
   "source": []
  },
  {
   "cell_type": "code",
   "execution_count": null,
   "metadata": {
    "trusted": true
   },
   "outputs": [],
   "source": []
  },
  {
   "cell_type": "code",
   "execution_count": null,
   "metadata": {
    "trusted": true
   },
   "outputs": [],
   "source": []
  },
  {
   "cell_type": "code",
   "execution_count": null,
   "metadata": {
    "trusted": true
   },
   "outputs": [],
   "source": []
  },
  {
   "cell_type": "code",
   "execution_count": null,
   "metadata": {
    "trusted": true
   },
   "outputs": [],
   "source": []
  },
  {
   "cell_type": "code",
   "execution_count": null,
   "metadata": {
    "trusted": true
   },
   "outputs": [],
   "source": []
  },
  {
   "cell_type": "code",
   "execution_count": null,
   "metadata": {
    "trusted": true
   },
   "outputs": [],
   "source": []
  }
 ],
 "metadata": {
  "kaggle": {
   "accelerator": "nvidiaTeslaT4",
   "dataSources": [
    {
     "datasetId": 6031329,
     "sourceId": 9833296,
     "sourceType": "datasetVersion"
    },
    {
     "datasetId": 6031386,
     "sourceId": 9833380,
     "sourceType": "datasetVersion"
    }
   ],
   "dockerImageVersionId": 30786,
   "isGpuEnabled": true,
   "isInternetEnabled": true,
   "language": "python",
   "sourceType": "notebook"
  },
  "kernelspec": {
   "display_name": "Python 3",
   "language": "python",
   "name": "python3"
  },
  "language_info": {
   "codemirror_mode": {
    "name": "ipython",
    "version": 3
   },
   "file_extension": ".py",
   "mimetype": "text/x-python",
   "name": "python",
   "nbconvert_exporter": "python",
   "pygments_lexer": "ipython3",
   "version": "3.10.14"
  }
 },
 "nbformat": 4,
 "nbformat_minor": 4
}
